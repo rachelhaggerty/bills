{
 "cells": [
  {
   "cell_type": "code",
   "execution_count": 16,
   "metadata": {
    "collapsed": false
   },
   "outputs": [
    {
     "data": {
      "text/plain": [
       "u'Library Locations'"
      ]
     },
     "execution_count": 16,
     "metadata": {},
     "output_type": "execute_result"
    }
   ],
   "source": [
    "loc.find('h2', attrs = 'pane-title').text"
   ]
  },
  {
   "cell_type": "code",
   "execution_count": 36,
   "metadata": {
    "collapsed": false
   },
   "outputs": [
    {
     "data": {
      "text/plain": [
       "[u'Faulk Central Library',\n",
       " u'Austin History Center',\n",
       " u'Carver Branch',\n",
       " u'Cepeda Branch',\n",
       " u'Hampton Branch at Oak Hill',\n",
       " u'Howson Branch',\n",
       " u'Little Walnut Creek Branch',\n",
       " u'Manchaca Road Branch',\n",
       " u'Mobile Library',\n",
       " u'Milwood Branch',\n",
       " u'North Village Branch',\n",
       " u'Old Quarry Branch',\n",
       " u'Pleasant Hill Branch',\n",
       " u'Recycled Reads Bookstore',\n",
       " u'Ruiz Branch',\n",
       " u'St. John Branch',\n",
       " u'Southeast Branch',\n",
       " u'Spicewood Springs Branch',\n",
       " u'Terrazas Branch',\n",
       " u'Twin Oaks Branch',\n",
       " u'University Hills Branch',\n",
       " u'Willie Mae Kirk Branch',\n",
       " u'Windsor Park Branch',\n",
       " u'Yarborough Branch']"
      ]
     },
     "execution_count": 36,
     "metadata": {},
     "output_type": "execute_result"
    }
   ],
   "source": [
    "my_list = []\n",
    "for loc in all_locations:\n",
    "        if loc.find('div', attrs = 'views-field-field-address') is not None:\n",
    "            my_list.append(loc.find('h2', attrs = 'pane-title').text)\n",
    "my_list"
   ]
  },
  {
   "cell_type": "code",
   "execution_count": 18,
   "metadata": {
    "collapsed": false
   },
   "outputs": [
    {
     "data": {
      "text/plain": [
       "u' 800 Guadalupe St., Austin, TX, 78701 '"
      ]
     },
     "execution_count": 18,
     "metadata": {},
     "output_type": "execute_result"
    }
   ],
   "source": [
    "address = soup.find('div', attrs = 'views-field-field-address').text"
   ]
  },
  {
   "cell_type": "code",
   "execution_count": 152,
   "metadata": {
    "collapsed": true
   },
   "outputs": [],
   "source": [
    "from __future__ import print_function\n",
    "\n",
    "import os\n",
    "from ftplib import FTP\n",
    "from bs4 import BeautifulSoup\n",
    "import pandas as pd\n",
    "from sklearn.feature_extraction.text import CountVectorizer\n",
    "from sklearn.base import TransformerMixin\n",
    "from sklearn.datasets import load_files\n",
    "from sklearn.pipeline import Pipeline\n",
    "from sklearn.svm import LinearSVC\n",
    "from sklearn.feature_extraction.stop_words import ENGLISH_STOP_WORDS\n",
    "from sklearn import metrics\n",
    "from sklearn.metrics import accuracy_score\n",
    "from sklearn.feature_extraction.text import TfidfTransformer\n",
    "from nltk.corpus import stopwords\n",
    "import string\n",
    "import numpy as np\n",
    "import re\n",
    "import glob\n"
   ]
  },
  {
   "cell_type": "code",
   "execution_count": 86,
   "metadata": {
    "collapsed": false
   },
   "outputs": [
    {
     "name": "stdout",
     "output_type": "stream",
     "text": [
      "Bill Text Train-Test Creation.ipynb document_clustering.ipynb\r\n",
      "README.md                           \u001b[34mtx\u001b[m\u001b[m\r\n"
     ]
    }
   ],
   "source": [
    "!ls"
   ]
  },
  {
   "cell_type": "code",
   "execution_count": 32,
   "metadata": {
    "collapsed": false
   },
   "outputs": [
    {
     "data": {
      "text/plain": [
       "'230 Anonymous user logged in.'"
      ]
     },
     "execution_count": 32,
     "metadata": {},
     "output_type": "execute_result"
    }
   ],
   "source": [
    "ftp = FTP('ftp.legis.state.tx.us')\n",
    "ftp.login()"
   ]
  },
  {
   "cell_type": "code",
   "execution_count": 13,
   "metadata": {
    "collapsed": false,
    "scrolled": true
   },
   "outputs": [
    {
     "name": "stdout",
     "output_type": "stream",
     "text": [
      "['HB00001E.htm', 'HB00001H.htm', 'HB00001I.htm', 'HB00002E.htm', 'HB00002H.htm', 'HB00002I.htm', 'HB00003I.htm', 'HB00004H.htm', 'HB00004I.htm', 'HB00005I.htm', 'HB00006I.htm', 'HB00007E.htm', 'HB00007F.htm', 'HB00007H.htm', 'HB00007I.htm', 'HB00007S.htm', 'HB00009E.htm', 'HB00009H.htm', 'HB00009I.htm', 'HB00010E.htm', 'HB00010H.htm', 'HB00010I.htm', 'HB00011E.htm', 'HB00011H.htm', 'HB00011I.htm', 'HB00012I.htm', 'HB00013E.htm', 'HB00013F.htm', 'HB00013H.htm', 'HB00013I.htm', 'HB00013S.htm', 'HB00014H.htm', 'HB00014I.htm', 'HB00015H.htm', 'HB00015I.htm', 'HB00016H.htm', 'HB00016I.htm', 'HB00017H.htm', 'HB00017I.htm', 'HB00018H.htm', 'HB00018I.htm', 'HB00019H.htm', 'HB00019I.htm', 'HB00020E.htm', 'HB00020H.htm', 'HB00020I.htm', 'HB00021E.htm', 'HB00021F.htm', 'HB00021H.htm', 'HB00021I.htm', 'HB00021S.htm', 'HB00022H.htm', 'HB00022I.htm', 'HB00023E.htm', 'HB00023H.htm', 'HB00023I.htm', 'HB00024H.htm', 'HB00024I.htm', 'HB00025E.htm', 'HB00025H.htm', 'HB00025I.htm', 'HB00026E.htm', 'HB00026H.htm', 'HB00026I.htm', 'HB00027E.htm', 'HB00027H.htm', 'HB00027I.htm', 'HB00028E.htm', 'HB00028H.htm', 'HB00028I.htm', 'HB00029I.htm', 'HB00030E.htm', 'HB00030F.htm', 'HB00030H.htm', 'HB00030I.htm', 'HB00030S.htm', 'HB00031I.htm', 'HB00032E.htm', 'HB00032H.htm', 'HB00032I.htm', 'HB00032S.htm', 'HB00033H.htm', 'HB00033I.htm', 'HB00041I.htm', 'HB00042I.htm', 'HB00043I.htm', 'HB00044I.htm', 'HB00045I.htm', 'HB00046I.htm', 'HB00047H.htm', 'HB00047I.htm', 'HB00048I.htm', 'HB00049I.htm', 'HB00050I.htm', 'HB00051I.htm', 'HB00052I.htm', 'HB00053I.htm', 'HB00054I.htm', 'HB00055I.htm', 'HB00056I.htm', 'HB00057I.htm', 'HB00058I.htm', 'HB00059I.htm', 'HB00060H.htm', 'HB00060I.htm', 'HB00061I.htm', 'HB00062I.htm', 'HB00063I.htm', 'HB00064I.htm', 'HB00065I.htm', 'HB00066I.htm', 'HB00067I.htm', 'HB00068I.htm', 'HB00069I.htm', 'HB00070I.htm', 'HB00071I.htm', 'HB00072H.htm', 'HB00072I.htm', 'HB00073I.htm', 'HB00074E.htm', 'HB00074H.htm', 'HB00074I.htm', 'HB00075I.htm', 'HB00076I.htm', 'HB00077I.htm', 'HB00078I.htm', 'HB00079I.htm', 'HB00080E.htm', 'HB00080H.htm', 'HB00080I.htm', 'HB00081I.htm', 'HB00082I.htm', 'HB00083I.htm', 'HB00084I.htm', 'HB00085I.htm', 'HB00086I.htm', 'HB00087I.htm', 'HB00088I.htm', 'HB00089I.htm', 'HB00090I.htm', 'HB00091I.htm', 'HB00092H.htm', 'HB00092I.htm', 'HB00093H.htm', 'HB00093I.htm', 'HB00094I.htm', 'HB00095I.htm', 'HB00096H.htm', 'HB00096I.htm', 'HB00097I.htm', 'HB00098H.htm', 'HB00098I.htm', 'HB00099I.htm']\n"
     ]
    }
   ],
   "source": [
    "#Directory structure: /bills/<legislative session>/<document type>/<text format>/<bill type>/<grouping of 100 bills>\n",
    "ftp.cwd('/bills/851/billtext/html/house_bills/HB00001_HB00099')\n",
    "files = ftp.nlst()\n",
    "print files"
   ]
  },
  {
   "cell_type": "markdown",
   "metadata": {},
   "source": [
    "## Download html files from FTP"
   ]
  },
  {
   "cell_type": "code",
   "execution_count": 98,
   "metadata": {
    "collapsed": true
   },
   "outputs": [],
   "source": []
  },
  {
   "cell_type": "code",
   "execution_count": 88,
   "metadata": {
    "collapsed": false
   },
   "outputs": [
    {
     "name": "stdout",
     "output_type": "stream",
     "text": [
      "Getting filename HB00001E.htm\n",
      "[Errno 49] Can't assign requested address\n",
      "Getting filename HB00001H.htm\n",
      "[Errno 32] Broken pipe\n",
      "Getting filename HB00001I.htm\n",
      "[Errno 32] Broken pipe\n",
      "Getting filename HB00002E.htm\n",
      "[Errno 32] Broken pipe\n",
      "Getting filename HB00002H.htm\n",
      "[Errno 32] Broken pipe\n",
      "Getting filename HB00002I.htm\n",
      "[Errno 32] Broken pipe\n",
      "Getting filename HB00003I.htm\n",
      "[Errno 32] Broken pipe\n",
      "Getting filename HB00004H.htm\n",
      "[Errno 32] Broken pipe\n",
      "Getting filename HB00004I.htm\n",
      "[Errno 32] Broken pipe\n",
      "Getting filename HB00005I.htm\n",
      "[Errno 32] Broken pipe\n",
      "Getting filename HB00006I.htm\n",
      "[Errno 32] Broken pipe\n",
      "Getting filename HB00007E.htm\n",
      "[Errno 32] Broken pipe\n",
      "Getting filename HB00007F.htm\n",
      "[Errno 32] Broken pipe\n",
      "Getting filename HB00007H.htm\n",
      "[Errno 32] Broken pipe\n",
      "Getting filename HB00007I.htm\n",
      "[Errno 32] Broken pipe\n",
      "Getting filename HB00007S.htm\n",
      "[Errno 32] Broken pipe\n",
      "Getting filename HB00009E.htm\n",
      "[Errno 32] Broken pipe\n",
      "Getting filename HB00009H.htm\n",
      "[Errno 32] Broken pipe\n",
      "Getting filename HB00009I.htm\n",
      "[Errno 32] Broken pipe\n",
      "Getting filename HB00010E.htm\n",
      "[Errno 32] Broken pipe\n",
      "Getting filename HB00010H.htm\n",
      "[Errno 32] Broken pipe\n",
      "Getting filename HB00010I.htm\n",
      "[Errno 32] Broken pipe\n",
      "Getting filename HB00011E.htm\n",
      "[Errno 32] Broken pipe\n",
      "Getting filename HB00011H.htm\n",
      "[Errno 32] Broken pipe\n",
      "Getting filename HB00011I.htm\n",
      "[Errno 32] Broken pipe\n",
      "Getting filename HB00012I.htm\n",
      "[Errno 32] Broken pipe\n",
      "Getting filename HB00013E.htm\n",
      "[Errno 32] Broken pipe\n",
      "Getting filename HB00013F.htm\n",
      "[Errno 32] Broken pipe\n",
      "Getting filename HB00013H.htm\n",
      "[Errno 32] Broken pipe\n",
      "Getting filename HB00013I.htm\n",
      "[Errno 32] Broken pipe\n",
      "Getting filename HB00013S.htm\n",
      "[Errno 32] Broken pipe\n",
      "Getting filename HB00014H.htm\n",
      "[Errno 32] Broken pipe\n",
      "Getting filename HB00014I.htm\n",
      "[Errno 32] Broken pipe\n",
      "Getting filename HB00015H.htm\n",
      "[Errno 32] Broken pipe\n",
      "Getting filename HB00015I.htm\n",
      "[Errno 32] Broken pipe\n",
      "Getting filename HB00016H.htm\n",
      "[Errno 32] Broken pipe\n",
      "Getting filename HB00016I.htm\n",
      "[Errno 32] Broken pipe\n",
      "Getting filename HB00017H.htm\n",
      "[Errno 32] Broken pipe\n",
      "Getting filename HB00017I.htm\n",
      "[Errno 32] Broken pipe\n",
      "Getting filename HB00018H.htm\n",
      "[Errno 32] Broken pipe\n",
      "Getting filename HB00018I.htm\n",
      "[Errno 32] Broken pipe\n",
      "Getting filename HB00019H.htm\n",
      "[Errno 32] Broken pipe\n",
      "Getting filename HB00019I.htm\n",
      "[Errno 32] Broken pipe\n",
      "Getting filename HB00020E.htm\n",
      "[Errno 32] Broken pipe\n",
      "Getting filename HB00020H.htm\n",
      "[Errno 32] Broken pipe\n",
      "Getting filename HB00020I.htm\n",
      "[Errno 32] Broken pipe\n",
      "Getting filename HB00021E.htm\n",
      "[Errno 32] Broken pipe\n",
      "Getting filename HB00021F.htm\n",
      "[Errno 32] Broken pipe\n",
      "Getting filename HB00021H.htm\n",
      "[Errno 32] Broken pipe\n",
      "Getting filename HB00021I.htm\n",
      "[Errno 32] Broken pipe\n",
      "Getting filename HB00021S.htm\n",
      "[Errno 32] Broken pipe\n",
      "Getting filename HB00022H.htm\n",
      "[Errno 32] Broken pipe\n",
      "Getting filename HB00022I.htm\n",
      "[Errno 32] Broken pipe\n",
      "Getting filename HB00023E.htm\n",
      "[Errno 32] Broken pipe\n",
      "Getting filename HB00023H.htm\n",
      "[Errno 32] Broken pipe\n",
      "Getting filename HB00023I.htm\n",
      "[Errno 32] Broken pipe\n",
      "Getting filename HB00024H.htm\n",
      "[Errno 32] Broken pipe\n",
      "Getting filename HB00024I.htm\n",
      "[Errno 32] Broken pipe\n",
      "Getting filename HB00025E.htm\n",
      "[Errno 32] Broken pipe\n",
      "Getting filename HB00025H.htm\n",
      "[Errno 32] Broken pipe\n",
      "Getting filename HB00025I.htm\n",
      "[Errno 32] Broken pipe\n",
      "Getting filename HB00026E.htm\n",
      "[Errno 32] Broken pipe\n",
      "Getting filename HB00026H.htm\n",
      "[Errno 32] Broken pipe\n",
      "Getting filename HB00026I.htm\n",
      "[Errno 32] Broken pipe\n",
      "Getting filename HB00027E.htm\n",
      "[Errno 32] Broken pipe\n",
      "Getting filename HB00027H.htm\n",
      "[Errno 32] Broken pipe\n",
      "Getting filename HB00027I.htm\n",
      "[Errno 32] Broken pipe\n",
      "Getting filename HB00028E.htm\n",
      "[Errno 32] Broken pipe\n",
      "Getting filename HB00028H.htm\n",
      "[Errno 32] Broken pipe\n",
      "Getting filename HB00028I.htm\n",
      "[Errno 32] Broken pipe\n",
      "Getting filename HB00029I.htm\n",
      "[Errno 32] Broken pipe\n",
      "Getting filename HB00030E.htm\n",
      "[Errno 32] Broken pipe\n",
      "Getting filename HB00030F.htm\n",
      "[Errno 32] Broken pipe\n",
      "Getting filename HB00030H.htm\n",
      "[Errno 32] Broken pipe\n",
      "Getting filename HB00030I.htm\n",
      "[Errno 32] Broken pipe\n",
      "Getting filename HB00030S.htm\n",
      "[Errno 32] Broken pipe\n",
      "Getting filename HB00031I.htm\n",
      "[Errno 32] Broken pipe\n",
      "Getting filename HB00032E.htm\n",
      "[Errno 32] Broken pipe\n",
      "Getting filename HB00032H.htm\n",
      "[Errno 32] Broken pipe\n",
      "Getting filename HB00032I.htm\n",
      "[Errno 32] Broken pipe\n",
      "Getting filename HB00032S.htm\n",
      "[Errno 32] Broken pipe\n",
      "Getting filename HB00033H.htm\n",
      "[Errno 32] Broken pipe\n",
      "Getting filename HB00033I.htm\n",
      "[Errno 32] Broken pipe\n",
      "Getting filename HB00041I.htm\n",
      "[Errno 32] Broken pipe\n",
      "Getting filename HB00042I.htm\n",
      "[Errno 32] Broken pipe\n",
      "Getting filename HB00043I.htm\n",
      "[Errno 32] Broken pipe\n",
      "Getting filename HB00044I.htm\n",
      "[Errno 32] Broken pipe\n",
      "Getting filename HB00045I.htm\n",
      "[Errno 32] Broken pipe\n",
      "Getting filename HB00046I.htm\n",
      "[Errno 32] Broken pipe\n",
      "Getting filename HB00047H.htm\n",
      "[Errno 32] Broken pipe\n",
      "Getting filename HB00047I.htm\n",
      "[Errno 32] Broken pipe\n",
      "Getting filename HB00048I.htm\n",
      "[Errno 32] Broken pipe\n",
      "Getting filename HB00049I.htm\n",
      "[Errno 32] Broken pipe\n",
      "Getting filename HB00050I.htm\n",
      "[Errno 32] Broken pipe\n",
      "Getting filename HB00051I.htm\n",
      "[Errno 32] Broken pipe\n",
      "Getting filename HB00052I.htm\n",
      "[Errno 32] Broken pipe\n",
      "Getting filename HB00053I.htm\n",
      "[Errno 32] Broken pipe\n",
      "Getting filename HB00054I.htm\n",
      "[Errno 32] Broken pipe\n",
      "Getting filename HB00055I.htm\n",
      "[Errno 32] Broken pipe\n",
      "Getting filename HB00056I.htm\n",
      "[Errno 32] Broken pipe\n",
      "Getting filename HB00057I.htm\n",
      "[Errno 32] Broken pipe\n",
      "Getting filename HB00058I.htm\n",
      "[Errno 32] Broken pipe\n",
      "Getting filename HB00059I.htm\n",
      "[Errno 32] Broken pipe\n",
      "Getting filename HB00060H.htm\n",
      "[Errno 32] Broken pipe\n",
      "Getting filename HB00060I.htm\n",
      "[Errno 32] Broken pipe\n",
      "Getting filename HB00061I.htm\n",
      "[Errno 32] Broken pipe\n",
      "Getting filename HB00062I.htm\n",
      "[Errno 32] Broken pipe\n",
      "Getting filename HB00063I.htm\n",
      "[Errno 32] Broken pipe\n",
      "Getting filename HB00064I.htm\n",
      "[Errno 32] Broken pipe\n",
      "Getting filename HB00065I.htm\n",
      "[Errno 32] Broken pipe\n",
      "Getting filename HB00066I.htm\n",
      "[Errno 32] Broken pipe\n",
      "Getting filename HB00067I.htm\n",
      "[Errno 32] Broken pipe\n",
      "Getting filename HB00068I.htm\n",
      "[Errno 32] Broken pipe\n",
      "Getting filename HB00069I.htm\n",
      "[Errno 32] Broken pipe\n",
      "Getting filename HB00070I.htm\n",
      "[Errno 32] Broken pipe\n",
      "Getting filename HB00071I.htm\n",
      "[Errno 32] Broken pipe\n",
      "Getting filename HB00072H.htm\n",
      "[Errno 32] Broken pipe\n",
      "Getting filename HB00072I.htm\n",
      "[Errno 32] Broken pipe\n",
      "Getting filename HB00073I.htm\n",
      "[Errno 32] Broken pipe\n",
      "Getting filename HB00074E.htm\n",
      "[Errno 32] Broken pipe\n",
      "Getting filename HB00074H.htm\n",
      "[Errno 32] Broken pipe\n",
      "Getting filename HB00074I.htm\n",
      "[Errno 32] Broken pipe\n",
      "Getting filename HB00075I.htm\n",
      "[Errno 32] Broken pipe\n",
      "Getting filename HB00076I.htm\n",
      "[Errno 32] Broken pipe\n",
      "Getting filename HB00077I.htm\n",
      "[Errno 32] Broken pipe\n",
      "Getting filename HB00078I.htm\n",
      "[Errno 32] Broken pipe\n",
      "Getting filename HB00079I.htm\n",
      "[Errno 32] Broken pipe\n",
      "Getting filename HB00080E.htm\n",
      "[Errno 32] Broken pipe\n",
      "Getting filename HB00080H.htm\n",
      "[Errno 32] Broken pipe\n",
      "Getting filename HB00080I.htm\n",
      "[Errno 32] Broken pipe\n",
      "Getting filename HB00081I.htm\n",
      "[Errno 32] Broken pipe\n",
      "Getting filename HB00082I.htm\n",
      "[Errno 32] Broken pipe\n",
      "Getting filename HB00083I.htm\n",
      "[Errno 32] Broken pipe\n",
      "Getting filename HB00084I.htm\n",
      "[Errno 32] Broken pipe\n",
      "Getting filename HB00085I.htm\n",
      "[Errno 32] Broken pipe\n",
      "Getting filename HB00086I.htm\n",
      "[Errno 32] Broken pipe\n",
      "Getting filename HB00087I.htm\n",
      "[Errno 32] Broken pipe\n",
      "Getting filename HB00088I.htm\n",
      "[Errno 32] Broken pipe\n",
      "Getting filename HB00089I.htm\n",
      "[Errno 32] Broken pipe\n",
      "Getting filename HB00090I.htm\n",
      "[Errno 32] Broken pipe\n",
      "Getting filename HB00091I.htm\n",
      "[Errno 32] Broken pipe\n",
      "Getting filename HB00092H.htm\n",
      "[Errno 32] Broken pipe\n",
      "Getting filename HB00092I.htm\n",
      "[Errno 32] Broken pipe\n",
      "Getting filename HB00093H.htm\n",
      "[Errno 32] Broken pipe\n",
      "Getting filename HB00093I.htm\n",
      "[Errno 32] Broken pipe\n",
      "Getting filename HB00094I.htm\n",
      "[Errno 32] Broken pipe\n",
      "Getting filename HB00095I.htm\n",
      "[Errno 32] Broken pipe\n",
      "Getting filename HB00096H.htm\n",
      "[Errno 32] Broken pipe\n",
      "Getting filename HB00096I.htm\n",
      "[Errno 32] Broken pipe\n",
      "Getting filename HB00097I.htm\n",
      "[Errno 32] Broken pipe\n",
      "Getting filename HB00098H.htm\n",
      "[Errno 32] Broken pipe\n",
      "Getting filename HB00098I.htm\n",
      "[Errno 32] Broken pipe\n",
      "Getting filename HB00099I.htm\n",
      "[Errno 32] Broken pipe\n"
     ]
    }
   ],
   "source": [
    "# The naming convention for individual documents is: <bill chamber><bill type><bill suffix><bill version>\n",
    "# File Name\tDescription\n",
    "# <bill chamber>\tH=House, S=Senate\n",
    "# <bill type>\tB=Bill, J=Joint Resolution, R=Resolution, C=Concurrent Resolution\n",
    "# <bill suffix>\t5-digit number\n",
    "# <bill version>\tI=Introduced, S=Senate Committee Report, H=House Committee Report, E=Engrossed, F=Enrolled\n",
    "\n",
    "\n",
    "# def is_empty(file):\n",
    "#     file_size=os.stat(file).st_size\n",
    "#     if file_size == 0:\n",
    "#         print \"The file {} is empty\".format(file)\n",
    "#         return True\n",
    "#     return False\n",
    "\n",
    "for file in files:\n",
    "    try:\n",
    "        local_filename = os.path.join(local_dir, file)\n",
    "        print \"Getting filename \" + file\n",
    "        ftp.retrbinary('RETR %s' % file, open(local_filename, 'wb').write)\n",
    "        print \"Saving at %s\" % local_filename\n",
    "    except Exception, err:\n",
    "        print err\n",
    "#         if (is_empty(local_filename)):\n",
    "#             os.remove(local_filename)\n",
    "        continue"
   ]
  },
  {
   "cell_type": "code",
   "execution_count": 190,
   "metadata": {
    "collapsed": false
   },
   "outputs": [],
   "source": [
    "local_dir = '/Users/rhaggerty/remote/bills/tx/data/'"
   ]
  },
  {
   "cell_type": "code",
   "execution_count": 180,
   "metadata": {
    "collapsed": false
   },
   "outputs": [
    {
     "data": {
      "text/plain": [
       "'/Users/rhaggerty/remote/bills/tx/data/text'"
      ]
     },
     "execution_count": 180,
     "metadata": {},
     "output_type": "execute_result"
    }
   ],
   "source": [
    "output_dir"
   ]
  },
  {
   "cell_type": "code",
   "execution_count": 187,
   "metadata": {
    "collapsed": true
   },
   "outputs": [],
   "source": [
    "def prettify_soup(doc_name):\n",
    "#     'HB00098I'\n",
    "    bill_no = doc_name.split('/')[-1].rstrip('.htm')\n",
    "    output_dir = os.path.join(local_dir, 'text/')\n",
    "    with open(doc_name) as in_file:\n",
    "        soup = BeautifulSoup(in_file, 'html.parser') \n",
    "        pretty_text = soup.get_text(' ', strip=True)\n",
    "        with open(output_dir + bill_no + '.txt', 'w+') as out_file:\n",
    "            out_file.write(pretty_text.encode('utf8'))"
   ]
  },
  {
   "cell_type": "code",
   "execution_count": 189,
   "metadata": {
    "collapsed": false
   },
   "outputs": [],
   "source": [
    "for doc_name in glob.glob(local_dir + 'html/*.htm'):\n",
    "    #doc_name = '/Users/rhaggerty/remote/bills/tx/data/html/HB00098I.htm'\n",
    "    prettify_soup(doc_name)"
   ]
  },
  {
   "cell_type": "code",
   "execution_count": 171,
   "metadata": {
    "collapsed": false
   },
   "outputs": [
    {
     "name": "stdout",
     "output_type": "stream",
     "text": [
      "HB00098I.txt\r\n"
     ]
    }
   ],
   "source": [
    "!ls /Users/rhaggerty/remote/bills/tx/data/text"
   ]
  },
  {
   "cell_type": "code",
   "execution_count": 193,
   "metadata": {
    "collapsed": false
   },
   "outputs": [
    {
     "name": "stdout",
     "output_type": "stream",
     "text": [
      "[u'relating to avoiding the abolishment of certain agencies subject to ', u'relating to avoiding the abolishment of certain agencies subject to ', u'relating to avoiding the abolishment of certain agencies subject to ', u'relating to the repeal of certain riders for the Texas Medical Board ', u'relating to the repeal of certain riders for the Texas Medical Board ', u'relating to the funding of certain governmental entities subject to ', u'relating to ad valorem taxation; authorizing fees.', u'relating to the calculation of the ad valorem rollback tax rate of a ', u'relating to the calculation of the ad valorem rollback tax rate of a ', u'relating to a limitation on increases in the appraised value for ad ', u'relating to municipal annexation.', u'relating to a tree planting credit to offset tree mitigation fees ', u'relating to municipal regulation of the removal of trees on private ', None, u'relating to a tree planting credit to offset tree mitigation fees ', u'relating to municipal regulation of the removal of trees or ', u'relating to maternal health and safety, pregnancy-related deaths, ', u'relating to maternal health and safety, pregnancy-related deaths, ', u'relating to maternal health and safety, pregnancy-related deaths, ', u'relating to maternal morbidity and pregnancy-related deaths.', u'relating to maternal morbidity and pregnancy-related deaths.', u'relating to maternal morbidity and pregnancy-related deaths.', u'relating to pregnancy-related deaths and maternal morbidity, ', u'relating to pregnancy-related deaths and maternal morbidity, ', u'relating to pregnancy-related deaths and maternal morbidity, ', u'relating to general procedures and requirements for ', u'relating to reporting requirements by certain physicians and health ', u'relating to reporting requirements by certain physicians and health ', u'relating to reporting requirements by certain physicians and health ', u'relating to reporting requirements by certain physicians and health ', u'relating to reporting requirements by certain physicians and health ', u'relating to prohibiting certain transactions between a ', u'relating to prohibiting certain transactions between a ', u'relating to lobbying by certain former officers of state ', u'relating to lobbying by certain former officers of state ', u'relating to the ethics of public servants, including the authority ', u'relating to the ethics of public servants, including the authority ', u'relating to the disclosure of gifts by vendors to certain local ', u'relating to the disclosure of gifts by vendors to certain local ', u'relating to conflicts of interest of members of state agency ', u'relating to conflicts of interest of members of state agency ', u'relating to the making and acceptance of political contributions ', u'relating to the making and acceptance of political contributions ', u'relating to an appropriation of money from the economic ', u'relating to an appropriation of money from the economic ', u'relating to an appropriation of money from the economic ', u'relating to the public school finance system.', u'relating to public school finance, including funding for the ', u'relating to the public school finance system.', u'relating to the public school finance system.', u'relating to the public school finance system.', u'relating to the extension of additional state aid for tax reduction ', u'relating to the extension of additional state aid for tax reduction ', u'relating to a grant program to fund innovative programs for public ', u'relating to a grant program to fund innovative programs for public ', u'relating to a grant program to fund innovative programs for public ', u'relating to the salary paid to certain professional employees of ', u'relating to the salary paid to certain professional employees of ', u'relating to reimbursement rates for Medicaid acute care therapy ', u'relating to reimbursement rates for Medicaid acute care therapy ', u'relating to reimbursement rates for Medicaid acute care therapy ', u'relating to the regulation of groundwater.', u'relating to the regulation of groundwater.', u'relating to the regulation of groundwater.', u'relating to the development of brackish groundwater.', u'relating to the development of brackish groundwater.', u'relating to the development of brackish groundwater.', u'relating to the membership of the Maternal Mortality and Morbidity ', u'relating to the membership of the Maternal Mortality and Morbidity ', u'relating to the membership of the Maternal Mortality and Morbidity ', u'relating to pregnancy information on death certificates.', u'relating to making supplemental appropriations and giving ', u'relating to the transfer of certain appropriations to the Texas ', u'relating to making supplemental appropriations and giving ', u'relating to making supplemental appropriations and giving ', u'relating to the transfer of certain appropriations to the Texas ', u'relating to oversight of and requirements applicable to state ', u'relating to the administration of the ad valorem tax system; ', u'relating to the administration of the ad valorem tax system; ', u'relating to the administration of the ad valorem tax system; ', u'relating to the administration of the ad valorem tax system; ', u'relating to restrictions on certain contributions by persons ', u'relating to restrictions on certain contributions by persons ', u'relating to the constitutional limit on the rate of growth of ', u'relating to the selection of the board of directors of an appraisal ', u'relating to general procedures and requirements for ', u'relating to a limitation on increases in the appraised value of real ', u'relating to the selection of the chief appraiser of an appraisal ', u'relating to the regulation of discrimination by political ', u'relating to the prevention of fraud in the conduct of early voting ', u'relating to the prevention of fraud in the conduct of early voting ', u'relating to the selection and administration of an appraisal review ', u'relating to the authority of a district court to hear and determine ', u'relating to the regulation of discrimination by school districts.', u'relating to pregnancy-related deaths and maternal morbidity, ', u'relating to the establishment of an individualized education plan ', u'relating to the repeal of certain provisions governing state and ', u'relating to requiring a school district to reimburse classroom ', u'relating to an exemption from ad valorem taxation by a school ', u\"relating to regulation by a property owners' association of certain \", u'relating to the release of extraterritorial jurisdiction by certain ', u'relating to the establishment of a tax credit scholarship and ', u'relating to maternal morbidity and pregnancy-related deaths.', u'relating to the use of regional mobility authority toll projects by ', u'relating to the use of regional mobility authority toll projects by ', u'relating to a transportation allotment credit for school districts ', u'relating to an adjustment under the foundation school program of ', u'relating to the extraterritorial jurisdiction of and municipal ', u'relating to an appropriation of money from the economic ', u'relating to an appropriation of money from the general revenue fund ', u'relating to automatic voter registration on issuance or change of a ', u'relating to the receipt by certain relative caretakers of dependent ', u'relating to the adoption of the Agreement Among the States to Elect ', u'relating to the extraterritorial jurisdiction of and municipal ', u\"relating to a property owner's right to remove a tree or vegetation.\", u'relating to the limitation on increases in the appraised value of a ', u'relating to an exemption from ad valorem taxation of the residence ', u'relating to an exemption from ad valorem taxation of the residence ', u'relating to the prevention of fraud committed by a person voting ', u'relating to the applicability of the law governing the provision of ', u'relating to the applicability of the law governing the provision of ', u'relating to the applicability of the law governing the provision of ', u'relating to transferring to the property tax relief fund one-half ', u'relating to a supplemental appropriation for Teacher Retirement ', u'relating to an optional fee in lieu of the dedication of parkland as ', u'relating to school district tax rates, property values, and tax ', u'relating to the salary paid to classroom teachers employed by ', u'relating to a cost-of-living adjustment applicable to certain ', u'relating to a cost-of-living adjustment applicable to certain ', u'relating to a cost-of-living adjustment applicable to certain ', u'relating to the number of registered voters of a taxing unit other ', u'relating to the abolition of school district maintenance and ', u'relating to dedicating certain state revenue to the purpose of ', u'relating to the limitation on increases in the appraised value of a ', u'relating to authorizing the possession, use, cultivation, ', u'relating to prohibited acts for a physician or applicant for a ', u'relating to the authority of a property owner to request that notice ', u'relating to a limitation on increases in the appraised value of real ', u'relating to early voting by certain persons who are caretakers of ', u'relating to an opportunity to correct a defect in an early voting ', u'relating to the abolition of ad valorem taxes and a study of ', u'relating to the eligibility of land for appraisal for ad valorem tax ', u'relating to the eligibility of land for appraisal for ad valorem tax ', u'relating to compensation to be paid to an emergency services ', u'relating to compensation to be paid to an emergency services ', u'relating to municipal regulation of property of political ', u'relating to an exemption from ad valorem taxation of the total ', u'relating to signature verification on an early voting ballot voted ', u'relating to signature verification on an early voting ballot voted ', u'relating to actions by a retailer that constitute engaging in ', u'relating to a school district assigning a mentor teacher to a new ', u'relating to a school district assigning a mentor teacher to a new ', None]\n"
     ]
    }
   ],
   "source": [
    "\n",
    "# if ends in period, then:\n",
    "# summary = soup.find(text=re.compile('relating'))\n",
    "# summary\n",
    "# else get next line and append\n",
    "# summary.next_element.next_element.next_element.get_text()\n",
    "\n",
    "\n",
    "summary_list = []\n",
    "summary_dict = {}\n",
    "for doc_name in glob.glob(local_dir + 'html/*.htm'):\n",
    "    bill_no = doc_name.split('/')[-1].rstrip('.htm')\n",
    "    with open(doc_name) as in_file:\n",
    "        soup = BeautifulSoup(in_file, 'html.parser')\n",
    "        summary = soup.find(text=re.compile('relating'))\n",
    "    summary_list.append(summary)\n",
    "print(summary_list)\n"
   ]
  },
  {
   "cell_type": "code",
   "execution_count": 198,
   "metadata": {
    "collapsed": false
   },
   "outputs": [
    {
     "name": "stdout",
     "output_type": "stream",
     "text": [
      "{'HB00010I': u'relating to maternal morbidity and pregnancy-related deaths.', 'HB00010H': u'relating to maternal morbidity and pregnancy-related deaths.', 'HB00074E': u'relating to the applicability of the law governing the provision of ', 'HB00021F': u'relating to public school finance, including funding for the ', 'HB00021E': u'relating to the public school finance system.', 'HB00074I': u'relating to the applicability of the law governing the provision of ', 'HB00074H': u'relating to the applicability of the law governing the provision of ', 'HB00021I': u'relating to the public school finance system.', 'HB00021H': u'relating to the public school finance system.', 'HB00096I': u'relating to signature verification on an early voting ballot voted ', 'HB00096H': u'relating to signature verification on an early voting ballot voted ', 'HB00010E': u'relating to maternal morbidity and pregnancy-related deaths.', 'HB00005I': u'relating to a limitation on increases in the appraised value for ad ', 'HB00062I': u'relating to an adjustment under the foundation school program of ', 'HB00042I': u'relating to the selection of the board of directors of an appraisal ', 'HB00018I': u'relating to conflicts of interest of members of state agency ', 'HB00018H': u'relating to conflicts of interest of members of state agency ', 'HB00099I': None, 'HB00050I': u'relating to the regulation of discrimination by school districts.', 'HB00085I': u'relating to authorizing the possession, use, cultivation, ', 'HB00091I': u'relating to the abolition of ad valorem taxes and a study of ', 'HB00011H': u'relating to pregnancy-related deaths and maternal morbidity, ', 'HB00011I': u'relating to pregnancy-related deaths and maternal morbidity, ', 'HB00020E': u'relating to an appropriation of money from the economic ', 'HB00075I': u'relating to transferring to the property tax relief fund one-half ', 'HB00020H': u'relating to an appropriation of money from the economic ', 'HB00020I': u'relating to an appropriation of money from the economic ', 'HB00097I': u'relating to actions by a retailer that constitute engaging in ', 'HB00011E': u'relating to pregnancy-related deaths and maternal morbidity, ', 'HB00004H': u'relating to the calculation of the ad valorem rollback tax rate of a ', 'HB00004I': u'relating to the calculation of the ad valorem rollback tax rate of a ', 'HB00058I': u'relating to the establishment of a tax credit scholarship and ', 'HB00019H': u'relating to the making and acceptance of political contributions ', 'HB00019I': u'relating to the making and acceptance of political contributions ', 'HB00014H': u'relating to prohibiting certain transactions between a ', 'HB00021S': u'relating to the public school finance system.', 'HB00051I': u'relating to pregnancy-related deaths and maternal morbidity, ', 'HB00069I': u'relating to the extraterritorial jurisdiction of and municipal ', 'HB00084I': u'relating to the limitation on increases in the appraised value of a ', 'HB00045I': u'relating to the selection of the chief appraiser of an appraisal ', 'HB00029I': u'relating to pregnancy information on death certificates.', 'HB00064I': u'relating to an appropriation of money from the economic ', 'HB00094I': u'relating to municipal regulation of property of political ', 'HB00048I': u'relating to the selection and administration of an appraisal review ', 'HB00033H': u'relating to restrictions on certain contributions by persons ', 'HB00033I': u'relating to restrictions on certain contributions by persons ', 'HB00072I': u'relating to an exemption from ad valorem taxation of the residence ', 'HB00072H': u'relating to an exemption from ad valorem taxation of the residence ', 'HB00023I': u'relating to a grant program to fund innovative programs for public ', 'HB00023H': u'relating to a grant program to fund innovative programs for public ', 'HB00003I': u'relating to ad valorem taxation; authorizing fees.', 'HB00023E': u'relating to a grant program to fund innovative programs for public ', 'HB00054I': u'relating to requiring a school district to reimburse classroom ', 'HB00052I': u'relating to the establishment of an individualized education plan ', 'HB00083I': u'relating to dedicating certain state revenue to the purpose of ', 'HB00093H': u'relating to compensation to be paid to an emergency services ', 'HB00093I': u'relating to compensation to be paid to an emergency services ', 'HB00013H': u'relating to reporting requirements by certain physicians and health ', 'HB00013I': u'relating to reporting requirements by certain physicians and health ', 'HB00013F': u'relating to reporting requirements by certain physicians and health ', 'HB00013E': u'relating to reporting requirements by certain physicians and health ', 'HB00073I': u'relating to the prevention of fraud committed by a person voting ', 'HB00022H': u'relating to the extension of additional state aid for tax reduction ', 'HB00022I': u'relating to the extension of additional state aid for tax reduction ', 'HB00002H': u'relating to the repeal of certain riders for the Texas Medical Board ', 'HB00002I': u'relating to the funding of certain governmental entities subject to ', 'HB00002E': u'relating to the repeal of certain riders for the Texas Medical Board ', 'HB00043I': u'relating to general procedures and requirements for ', 'HB00013S': u'relating to reporting requirements by certain physicians and health ', 'HB00098I': u'relating to a school district assigning a mentor teacher to a new ', 'HB00098H': u'relating to a school district assigning a mentor teacher to a new ', 'HB00053I': u'relating to the repeal of certain provisions governing state and ', 'HB00082I': u'relating to the abolition of school district maintenance and ', 'HB00063I': u'relating to the extraterritorial jurisdiction of and municipal ', 'HB00090I': u'relating to an opportunity to correct a defect in an early voting ', 'HB00092I': u'relating to the eligibility of land for appraisal for ad valorem tax ', 'HB00092H': u'relating to the eligibility of land for appraisal for ad valorem tax ', 'HB00009I': u'relating to maternal health and safety, pregnancy-related deaths, ', 'HB00009H': u'relating to maternal health and safety, pregnancy-related deaths, ', 'HB00066I': u'relating to automatic voter registration on issuance or change of a ', 'HB00009E': u'relating to maternal health and safety, pregnancy-related deaths, ', 'HB00088I': u'relating to a limitation on increases in the appraised value of real ', 'HB00014I': u'relating to prohibiting certain transactions between a ', 'HB00031I': u'relating to oversight of and requirements applicable to state ', 'HB00001E': u'relating to avoiding the abolishment of certain agencies subject to ', 'HB00070I': u\"relating to a property owner's right to remove a tree or vegetation.\", 'HB00025I': u'relating to reimbursement rates for Medicaid acute care therapy ', 'HB00025H': u'relating to reimbursement rates for Medicaid acute care therapy ', 'HB00025E': u'relating to reimbursement rates for Medicaid acute care therapy ', 'HB00001I': u'relating to avoiding the abolishment of certain agencies subject to ', 'HB00001H': u'relating to avoiding the abolishment of certain agencies subject to ', 'HB00046I': u'relating to the regulation of discrimination by political ', 'HB00078I': u'relating to school district tax rates, property values, and tax ', 'HB00012I': u'relating to general procedures and requirements for ', 'HB00081I': u'relating to the number of registered voters of a taxing unit other ', 'HB00057I': u'relating to the release of extraterritorial jurisdiction by certain ', 'HB00065I': u'relating to an appropriation of money from the general revenue fund ', 'HB00032E': u'relating to the administration of the ad valorem tax system; ', 'HB00049I': u'relating to the authority of a district court to hear and determine ', 'HB00032I': u'relating to the administration of the ad valorem tax system; ', 'HB00032H': u'relating to the administration of the ad valorem tax system; ', 'HB00015H': u'relating to lobbying by certain former officers of state ', 'HB00015I': u'relating to lobbying by certain former officers of state ', 'HB00032S': u'relating to the administration of the ad valorem tax system; ', 'HB00071I': u'relating to the limitation on increases in the appraised value of a ', 'HB00024H': u'relating to the salary paid to certain professional employees of ', 'HB00024I': u'relating to the salary paid to certain professional employees of ', 'HB00055I': u'relating to an exemption from ad valorem taxation by a school ', 'HB00041I': u'relating to the constitutional limit on the rate of growth of ', 'HB00007S': u'relating to municipal regulation of the removal of trees or ', 'HB00079I': u'relating to the salary paid to classroom teachers employed by ', 'HB00080H': u'relating to a cost-of-living adjustment applicable to certain ', 'HB00080I': u'relating to a cost-of-living adjustment applicable to certain ', 'HB00080E': u'relating to a cost-of-living adjustment applicable to certain ', 'HB00076I': u'relating to a supplemental appropriation for Teacher Retirement ', 'HB00007F': u'relating to municipal regulation of the removal of trees on private ', 'HB00007E': u'relating to a tree planting credit to offset tree mitigation fees ', 'HB00007I': u'relating to a tree planting credit to offset tree mitigation fees ', 'HB00007H': None, 'HB00060H': u'relating to the use of regional mobility authority toll projects by ', 'HB00060I': u'relating to the use of regional mobility authority toll projects by ', 'HB00027E': u'relating to the development of brackish groundwater.', 'HB00016I': u'relating to the ethics of public servants, including the authority ', 'HB00016H': u'relating to the ethics of public servants, including the authority ', 'HB00027I': u'relating to the development of brackish groundwater.', 'HB00027H': u'relating to the development of brackish groundwater.', 'HB00056I': u\"relating to regulation by a property owners' association of certain \", 'HB00087I': u'relating to the authority of a property owner to request that notice ', 'HB00068I': u'relating to the adoption of the Agreement Among the States to Elect ', 'HB00044I': u'relating to a limitation on increases in the appraised value of real ', 'HB00028H': u'relating to the membership of the Maternal Mortality and Morbidity ', 'HB00028I': u'relating to the membership of the Maternal Mortality and Morbidity ', 'HB00028E': u'relating to the membership of the Maternal Mortality and Morbidity ', 'HB00077I': u'relating to an optional fee in lieu of the dedication of parkland as ', 'HB00095I': u'relating to an exemption from ad valorem taxation of the total ', 'HB00067I': u'relating to the receipt by certain relative caretakers of dependent ', 'HB00006I': u'relating to municipal annexation.', 'HB00030S': u'relating to the transfer of certain appropriations to the Texas ', 'HB00089I': u'relating to early voting by certain persons who are caretakers of ', 'HB00059I': u'relating to maternal morbidity and pregnancy-related deaths.', 'HB00030I': u'relating to making supplemental appropriations and giving ', 'HB00030H': u'relating to making supplemental appropriations and giving ', 'HB00017H': u'relating to the disclosure of gifts by vendors to certain local ', 'HB00017I': u'relating to the disclosure of gifts by vendors to certain local ', 'HB00061I': u'relating to a transportation allotment credit for school districts ', 'HB00026E': u'relating to the regulation of groundwater.', 'HB00026H': u'relating to the regulation of groundwater.', 'HB00026I': u'relating to the regulation of groundwater.', 'HB00030E': u'relating to making supplemental appropriations and giving ', 'HB00030F': u'relating to the transfer of certain appropriations to the Texas ', 'HB00086I': u'relating to prohibited acts for a physician or applicant for a ', 'HB00047I': u'relating to the prevention of fraud in the conduct of early voting ', 'HB00047H': u'relating to the prevention of fraud in the conduct of early voting '}\n"
     ]
    }
   ],
   "source": [
    "summary_list = []\n",
    "bill_no_list = []\n",
    "for doc_name in glob.glob(local_dir + 'html/*.htm'):\n",
    "    bill_no = doc_name.split('/')[-1].rstrip('.htm')\n",
    "    with open(doc_name) as in_file:\n",
    "        soup = BeautifulSoup(in_file, 'html.parser')\n",
    "        summary = soup.find(text=re.compile('relating'))\n",
    "    summary_list.append(summary)\n",
    "    bill_no_list.append(bill_no)\n",
    "bill_summaries = zip(bill_no_list, summary_list)\n",
    "for bill, summary in bill_summaries:\n",
    "    summary_dict[bill] = summary\n",
    "print(summary_dict)"
   ]
  },
  {
   "cell_type": "code",
   "execution_count": 231,
   "metadata": {
    "collapsed": false
   },
   "outputs": [
    {
     "data": {
      "text/plain": [
       "[[u'avoiding', u'abolishment', u'certain', u'agencies', u'subject'],\n",
       " [u'avoiding', u'abolishment', u'certain', u'agencies', u'subject'],\n",
       " [u'avoiding', u'abolishment', u'certain', u'agencies', u'subject'],\n",
       " [u'repeal', u'certain', u'riders', u'Texas', u'Medical', u'Board'],\n",
       " [u'repeal', u'certain', u'riders', u'Texas', u'Medical', u'Board'],\n",
       " [u'funding', u'certain', u'governmental', u'entities', u'subject'],\n",
       " [u'ad', u'valorem', u'taxation;', u'authorizing', u'fees.'],\n",
       " [u'calculation', u'ad', u'valorem', u'rollback', u'tax', u'rate'],\n",
       " [u'calculation', u'ad', u'valorem', u'rollback', u'tax', u'rate'],\n",
       " [u'limitation', u'increases', u'appraised', u'value', u'ad'],\n",
       " [u'municipal', u'annexation.'],\n",
       " [u'tree', u'planting', u'credit', u'offset', u'tree', u'mitigation', u'fees'],\n",
       " [u'municipal', u'regulation', u'removal', u'trees', u'private'],\n",
       " [u'municipal', u'regulation', u'removal', u'trees', u'private'],\n",
       " [u'tree', u'planting', u'credit', u'offset', u'tree', u'mitigation', u'fees'],\n",
       " [u'municipal', u'regulation', u'removal', u'trees'],\n",
       " [u'maternal', u'health', u'safety,', u'pregnancy-related', u'deaths,'],\n",
       " [u'maternal', u'health', u'safety,', u'pregnancy-related', u'deaths,'],\n",
       " [u'maternal', u'health', u'safety,', u'pregnancy-related', u'deaths,'],\n",
       " [u'maternal', u'morbidity', u'pregnancy-related', u'deaths.'],\n",
       " [u'maternal', u'morbidity', u'pregnancy-related', u'deaths.'],\n",
       " [u'maternal', u'morbidity', u'pregnancy-related', u'deaths.'],\n",
       " [u'pregnancy-related', u'deaths', u'maternal', u'morbidity,'],\n",
       " [u'pregnancy-related', u'deaths', u'maternal', u'morbidity,'],\n",
       " [u'pregnancy-related', u'deaths', u'maternal', u'morbidity,'],\n",
       " [u'general', u'procedures', u'requirements'],\n",
       " [u'reporting', u'requirements', u'certain', u'physicians', u'health'],\n",
       " [u'reporting', u'requirements', u'certain', u'physicians', u'health'],\n",
       " [u'reporting', u'requirements', u'certain', u'physicians', u'health'],\n",
       " [u'reporting', u'requirements', u'certain', u'physicians', u'health'],\n",
       " [u'reporting', u'requirements', u'certain', u'physicians', u'health'],\n",
       " [u'prohibiting', u'certain', u'transactions'],\n",
       " [u'prohibiting', u'certain', u'transactions'],\n",
       " [u'lobbying', u'certain', u'former', u'officers', u'state'],\n",
       " [u'lobbying', u'certain', u'former', u'officers', u'state'],\n",
       " [u'ethics', u'public', u'servants,', u'including', u'authority'],\n",
       " [u'ethics', u'public', u'servants,', u'including', u'authority'],\n",
       " [u'disclosure', u'gifts', u'vendors', u'certain', u'local'],\n",
       " [u'disclosure', u'gifts', u'vendors', u'certain', u'local'],\n",
       " [u'conflicts', u'interest', u'members', u'state', u'agency'],\n",
       " [u'conflicts', u'interest', u'members', u'state', u'agency'],\n",
       " [u'making', u'acceptance', u'political', u'contributions'],\n",
       " [u'making', u'acceptance', u'political', u'contributions'],\n",
       " [u'appropriation', u'money', u'economic'],\n",
       " [u'appropriation', u'money', u'economic'],\n",
       " [u'appropriation', u'money', u'economic'],\n",
       " [u'public', u'school', u'finance', u'system.'],\n",
       " [u'public', u'school', u'finance,', u'including', u'funding'],\n",
       " [u'public', u'school', u'finance', u'system.'],\n",
       " [u'public', u'school', u'finance', u'system.'],\n",
       " [u'public', u'school', u'finance', u'system.'],\n",
       " [u'extension', u'additional', u'state', u'aid', u'tax', u'reduction'],\n",
       " [u'extension', u'additional', u'state', u'aid', u'tax', u'reduction'],\n",
       " [u'grant', u'program', u'fund', u'innovative', u'programs', u'public'],\n",
       " [u'grant', u'program', u'fund', u'innovative', u'programs', u'public'],\n",
       " [u'grant', u'program', u'fund', u'innovative', u'programs', u'public'],\n",
       " [u'salary', u'paid', u'certain', u'professional', u'employees'],\n",
       " [u'salary', u'paid', u'certain', u'professional', u'employees'],\n",
       " [u'reimbursement', u'rates', u'Medicaid', u'acute', u'care', u'therapy'],\n",
       " [u'reimbursement', u'rates', u'Medicaid', u'acute', u'care', u'therapy'],\n",
       " [u'reimbursement', u'rates', u'Medicaid', u'acute', u'care', u'therapy'],\n",
       " [u'regulation', u'groundwater.'],\n",
       " [u'regulation', u'groundwater.'],\n",
       " [u'regulation', u'groundwater.'],\n",
       " [u'development', u'brackish', u'groundwater.'],\n",
       " [u'development', u'brackish', u'groundwater.'],\n",
       " [u'development', u'brackish', u'groundwater.'],\n",
       " [u'membership', u'Maternal', u'Mortality', u'Morbidity'],\n",
       " [u'membership', u'Maternal', u'Mortality', u'Morbidity'],\n",
       " [u'membership', u'Maternal', u'Mortality', u'Morbidity'],\n",
       " [u'pregnancy', u'information', u'death', u'certificates.'],\n",
       " [u'making', u'supplemental', u'appropriations', u'giving'],\n",
       " [u'transfer', u'certain', u'appropriations', u'Texas'],\n",
       " [u'making', u'supplemental', u'appropriations', u'giving'],\n",
       " [u'making', u'supplemental', u'appropriations', u'giving'],\n",
       " [u'transfer', u'certain', u'appropriations', u'Texas'],\n",
       " [u'oversight', u'requirements', u'applicable', u'state'],\n",
       " [u'administration', u'ad', u'valorem', u'tax', u'system;'],\n",
       " [u'administration', u'ad', u'valorem', u'tax', u'system;'],\n",
       " [u'administration', u'ad', u'valorem', u'tax', u'system;'],\n",
       " [u'administration', u'ad', u'valorem', u'tax', u'system;'],\n",
       " [u'restrictions', u'certain', u'contributions', u'persons'],\n",
       " [u'restrictions', u'certain', u'contributions', u'persons'],\n",
       " [u'constitutional', u'limit', u'rate', u'growth'],\n",
       " [u'selection', u'board', u'directors', u'appraisal'],\n",
       " [u'general', u'procedures', u'requirements'],\n",
       " [u'limitation', u'increases', u'appraised', u'value', u'real'],\n",
       " [u'selection', u'chief', u'appraiser', u'appraisal'],\n",
       " [u'regulation', u'discrimination', u'political'],\n",
       " [u'prevention', u'fraud', u'conduct', u'early', u'voting'],\n",
       " [u'prevention', u'fraud', u'conduct', u'early', u'voting'],\n",
       " [u'selection', u'administration', u'appraisal', u'review'],\n",
       " [u'authority', u'district', u'court', u'hear', u'determine'],\n",
       " [u'regulation', u'discrimination', u'school', u'districts.'],\n",
       " [u'pregnancy-related', u'deaths', u'maternal', u'morbidity,'],\n",
       " [u'establishment', u'individualized', u'education', u'plan'],\n",
       " [u'repeal', u'certain', u'provisions', u'governing', u'state'],\n",
       " [u'requiring', u'school', u'district', u'reimburse', u'classroom'],\n",
       " [u'exemption', u'ad', u'valorem', u'taxation', u'school'],\n",
       " [u'regulation', u'property', u\"owners'\", u'association', u'certain'],\n",
       " [u'release', u'extraterritorial', u'jurisdiction', u'certain'],\n",
       " [u'establishment', u'tax', u'credit', u'scholarship'],\n",
       " [u'maternal', u'morbidity', u'pregnancy-related', u'deaths.'],\n",
       " [u'use', u'regional', u'mobility', u'authority', u'toll', u'projects'],\n",
       " [u'use', u'regional', u'mobility', u'authority', u'toll', u'projects'],\n",
       " [u'transportation', u'allotment', u'credit', u'school', u'districts'],\n",
       " [u'adjustment', u'foundation', u'school', u'program'],\n",
       " [u'extraterritorial', u'jurisdiction', u'municipal'],\n",
       " [u'appropriation', u'money', u'economic'],\n",
       " [u'appropriation', u'money', u'general', u'revenue', u'fund'],\n",
       " [u'automatic', u'voter', u'registration', u'issuance', u'change'],\n",
       " [u'receipt', u'certain', u'relative', u'caretakers', u'dependent'],\n",
       " [u'adoption', u'Agreement', u'Among', u'States', u'Elect'],\n",
       " [u'extraterritorial', u'jurisdiction', u'municipal'],\n",
       " [u'property', u\"owner's\", u'right', u'remove', u'tree', u'vegetation.'],\n",
       " [u'limitation', u'increases', u'appraised', u'value'],\n",
       " [u'exemption', u'ad', u'valorem', u'taxation', u'residence'],\n",
       " [u'exemption', u'ad', u'valorem', u'taxation', u'residence'],\n",
       " [u'prevention', u'fraud', u'committed', u'person', u'voting'],\n",
       " [u'applicability', u'law', u'governing', u'provision'],\n",
       " [u'applicability', u'law', u'governing', u'provision'],\n",
       " [u'applicability', u'law', u'governing', u'provision'],\n",
       " [u'transferring', u'property', u'tax', u'relief', u'fund', u'one-half'],\n",
       " [u'supplemental', u'appropriation', u'Teacher', u'Retirement'],\n",
       " [u'optional', u'fee', u'lieu', u'dedication', u'parkland'],\n",
       " [u'school', u'district', u'tax', u'rates,', u'property', u'values,', u'tax'],\n",
       " [u'salary', u'paid', u'classroom', u'teachers', u'employed'],\n",
       " [u'cost-of-living', u'adjustment', u'applicable', u'certain'],\n",
       " [u'cost-of-living', u'adjustment', u'applicable', u'certain'],\n",
       " [u'cost-of-living', u'adjustment', u'applicable', u'certain'],\n",
       " [u'number', u'registered', u'voters', u'taxing', u'unit'],\n",
       " [u'abolition', u'school', u'district', u'maintenance'],\n",
       " [u'dedicating', u'certain', u'state', u'revenue', u'purpose'],\n",
       " [u'limitation', u'increases', u'appraised', u'value'],\n",
       " [u'authorizing', u'possession,', u'use,', u'cultivation,'],\n",
       " [u'prohibited', u'acts', u'physician', u'applicant'],\n",
       " [u'authority', u'property', u'owner', u'request', u'notice'],\n",
       " [u'limitation', u'increases', u'appraised', u'value', u'real'],\n",
       " [u'early', u'voting', u'certain', u'persons', u'caretakers'],\n",
       " [u'opportunity', u'correct', u'defect', u'early', u'voting'],\n",
       " [u'abolition', u'ad', u'valorem', u'taxes', u'study'],\n",
       " [u'eligibility', u'land', u'appraisal', u'ad', u'valorem', u'tax'],\n",
       " [u'eligibility', u'land', u'appraisal', u'ad', u'valorem', u'tax'],\n",
       " [u'compensation', u'paid', u'emergency', u'services'],\n",
       " [u'compensation', u'paid', u'emergency', u'services'],\n",
       " [u'municipal', u'regulation', u'property', u'political'],\n",
       " [u'exemption', u'ad', u'valorem', u'taxation', u'total'],\n",
       " [u'signature', u'verification', u'early', u'voting', u'ballot', u'voted'],\n",
       " [u'signature', u'verification', u'early', u'voting', u'ballot', u'voted'],\n",
       " [u'actions', u'retailer', u'constitute', u'engaging'],\n",
       " [u'school', u'district', u'assigning', u'mentor', u'teacher', u'new'],\n",
       " [u'school', u'district', u'assigning', u'mentor', u'teacher', u'new'],\n",
       " [u'school', u'district', u'assigning', u'mentor', u'teacher', u'new']]"
      ]
     },
     "execution_count": 231,
     "metadata": {},
     "output_type": "execute_result"
    }
   ],
   "source": [
    "clean_summary = []\n",
    "for summ in summary_list:\n",
    "    if summ is not None:\n",
    "        clean = re.sub(r'relating to', ' ', summ)\n",
    "        words = clean.split()\n",
    "        non_stop = [w for w in words if not w in stopwords.words(\"english\")]\n",
    "    clean_summary.append(non_stop)\n",
    "#     print(clean)\n",
    "clean_summary\n",
    "# clean_summary"
   ]
  },
  {
   "cell_type": "code",
   "execution_count": null,
   "metadata": {
    "collapsed": true
   },
   "outputs": [],
   "source": []
  },
  {
   "cell_type": "code",
   "execution_count": 223,
   "metadata": {
    "collapsed": false
   },
   "outputs": [
    {
     "data": {
      "text/plain": [
       "[u'  avoiding the abolishment of certain agencies subject to ',\n",
       " u'  avoiding the abolishment of certain agencies subject to ',\n",
       " u'  avoiding the abolishment of certain agencies subject to ',\n",
       " u'  the repeal of certain riders for the Texas Medical Board ',\n",
       " u'  the repeal of certain riders for the Texas Medical Board ',\n",
       " u'  the funding of certain governmental entities subject to ',\n",
       " u'  ad valorem taxation; authorizing fees.',\n",
       " u'  the calculation of the ad valorem rollback tax rate of a ',\n",
       " u'  the calculation of the ad valorem rollback tax rate of a ',\n",
       " u'  a limitation on increases in the appraised value for ad ',\n",
       " u'  municipal annexation.',\n",
       " u'  a tree planting credit to offset tree mitigation fees ',\n",
       " u'  municipal regulation of the removal of trees on private ',\n",
       " u'  municipal regulation of the removal of trees on private ',\n",
       " u'  a tree planting credit to offset tree mitigation fees ',\n",
       " u'  municipal regulation of the removal of trees or ',\n",
       " u'  maternal health and safety, pregnancy-related deaths, ',\n",
       " u'  maternal health and safety, pregnancy-related deaths, ',\n",
       " u'  maternal health and safety, pregnancy-related deaths, ',\n",
       " u'  maternal morbidity and pregnancy-related deaths.',\n",
       " u'  maternal morbidity and pregnancy-related deaths.',\n",
       " u'  maternal morbidity and pregnancy-related deaths.',\n",
       " u'  pregnancy-related deaths and maternal morbidity, ',\n",
       " u'  pregnancy-related deaths and maternal morbidity, ',\n",
       " u'  pregnancy-related deaths and maternal morbidity, ',\n",
       " u'  general procedures and requirements for ',\n",
       " u'  reporting requirements by certain physicians and health ',\n",
       " u'  reporting requirements by certain physicians and health ',\n",
       " u'  reporting requirements by certain physicians and health ',\n",
       " u'  reporting requirements by certain physicians and health ',\n",
       " u'  reporting requirements by certain physicians and health ',\n",
       " u'  prohibiting certain transactions between a ',\n",
       " u'  prohibiting certain transactions between a ',\n",
       " u'  lobbying by certain former officers of state ',\n",
       " u'  lobbying by certain former officers of state ',\n",
       " u'  the ethics of public servants, including the authority ',\n",
       " u'  the ethics of public servants, including the authority ',\n",
       " u'  the disclosure of gifts by vendors to certain local ',\n",
       " u'  the disclosure of gifts by vendors to certain local ',\n",
       " u'  conflicts of interest of members of state agency ',\n",
       " u'  conflicts of interest of members of state agency ',\n",
       " u'  the making and acceptance of political contributions ',\n",
       " u'  the making and acceptance of political contributions ',\n",
       " u'  an appropriation of money from the economic ',\n",
       " u'  an appropriation of money from the economic ',\n",
       " u'  an appropriation of money from the economic ',\n",
       " u'  the public school finance system.',\n",
       " u'  public school finance, including funding for the ',\n",
       " u'  the public school finance system.',\n",
       " u'  the public school finance system.',\n",
       " u'  the public school finance system.',\n",
       " u'  the extension of additional state aid for tax reduction ',\n",
       " u'  the extension of additional state aid for tax reduction ',\n",
       " u'  a grant program to fund innovative programs for public ',\n",
       " u'  a grant program to fund innovative programs for public ',\n",
       " u'  a grant program to fund innovative programs for public ',\n",
       " u'  the salary paid to certain professional employees of ',\n",
       " u'  the salary paid to certain professional employees of ',\n",
       " u'  reimbursement rates for Medicaid acute care therapy ',\n",
       " u'  reimbursement rates for Medicaid acute care therapy ',\n",
       " u'  reimbursement rates for Medicaid acute care therapy ',\n",
       " u'  the regulation of groundwater.',\n",
       " u'  the regulation of groundwater.',\n",
       " u'  the regulation of groundwater.',\n",
       " u'  the development of brackish groundwater.',\n",
       " u'  the development of brackish groundwater.',\n",
       " u'  the development of brackish groundwater.',\n",
       " u'  the membership of the Maternal Mortality and Morbidity ',\n",
       " u'  the membership of the Maternal Mortality and Morbidity ',\n",
       " u'  the membership of the Maternal Mortality and Morbidity ',\n",
       " u'  pregnancy information on death certificates.',\n",
       " u'  making supplemental appropriations and giving ',\n",
       " u'  the transfer of certain appropriations to the Texas ',\n",
       " u'  making supplemental appropriations and giving ',\n",
       " u'  making supplemental appropriations and giving ',\n",
       " u'  the transfer of certain appropriations to the Texas ',\n",
       " u'  oversight of and requirements applicable to state ',\n",
       " u'  the administration of the ad valorem tax system; ',\n",
       " u'  the administration of the ad valorem tax system; ',\n",
       " u'  the administration of the ad valorem tax system; ',\n",
       " u'  the administration of the ad valorem tax system; ',\n",
       " u'  restrictions on certain contributions by persons ',\n",
       " u'  restrictions on certain contributions by persons ',\n",
       " u'  the constitutional limit on the rate of growth of ',\n",
       " u'  the selection of the board of directors of an appraisal ',\n",
       " u'  general procedures and requirements for ',\n",
       " u'  a limitation on increases in the appraised value of real ',\n",
       " u'  the selection of the chief appraiser of an appraisal ',\n",
       " u'  the regulation of discrimination by political ',\n",
       " u'  the prevention of fraud in the conduct of early voting ',\n",
       " u'  the prevention of fraud in the conduct of early voting ',\n",
       " u'  the selection and administration of an appraisal review ',\n",
       " u'  the authority of a district court to hear and determine ',\n",
       " u'  the regulation of discrimination by school districts.',\n",
       " u'  pregnancy-related deaths and maternal morbidity, ',\n",
       " u'  the establishment of an individualized education plan ',\n",
       " u'  the repeal of certain provisions governing state and ',\n",
       " u'  requiring a school district to reimburse classroom ',\n",
       " u'  an exemption from ad valorem taxation by a school ',\n",
       " u\"  regulation by a property owners' association of certain \",\n",
       " u'  the release of extraterritorial jurisdiction by certain ',\n",
       " u'  the establishment of a tax credit scholarship and ',\n",
       " u'  maternal morbidity and pregnancy-related deaths.',\n",
       " u'  the use of regional mobility authority toll projects by ',\n",
       " u'  the use of regional mobility authority toll projects by ',\n",
       " u'  a transportation allotment credit for school districts ',\n",
       " u'  an adjustment under the foundation school program of ',\n",
       " u'  the extraterritorial jurisdiction of and municipal ',\n",
       " u'  an appropriation of money from the economic ',\n",
       " u'  an appropriation of money from the general revenue fund ',\n",
       " u'  automatic voter registration on issuance or change of a ',\n",
       " u'  the receipt by certain relative caretakers of dependent ',\n",
       " u'  the adoption of the Agreement Among the States to Elect ',\n",
       " u'  the extraterritorial jurisdiction of and municipal ',\n",
       " u\"  a property owner's right to remove a tree or vegetation.\",\n",
       " u'  the limitation on increases in the appraised value of a ',\n",
       " u'  an exemption from ad valorem taxation of the residence ',\n",
       " u'  an exemption from ad valorem taxation of the residence ',\n",
       " u'  the prevention of fraud committed by a person voting ',\n",
       " u'  the applicability of the law governing the provision of ',\n",
       " u'  the applicability of the law governing the provision of ',\n",
       " u'  the applicability of the law governing the provision of ',\n",
       " u'  transferring to the property tax relief fund one-half ',\n",
       " u'  a supplemental appropriation for Teacher Retirement ',\n",
       " u'  an optional fee in lieu of the dedication of parkland as ',\n",
       " u'  school district tax rates, property values, and tax ',\n",
       " u'  the salary paid to classroom teachers employed by ',\n",
       " u'  a cost-of-living adjustment applicable to certain ',\n",
       " u'  a cost-of-living adjustment applicable to certain ',\n",
       " u'  a cost-of-living adjustment applicable to certain ',\n",
       " u'  the number of registered voters of a taxing unit other ',\n",
       " u'  the abolition of school district maintenance and ',\n",
       " u'  dedicating certain state revenue to the purpose of ',\n",
       " u'  the limitation on increases in the appraised value of a ',\n",
       " u'  authorizing the possession, use, cultivation, ',\n",
       " u'  prohibited acts for a physician or applicant for a ',\n",
       " u'  the authority of a property owner to request that notice ',\n",
       " u'  a limitation on increases in the appraised value of real ',\n",
       " u'  early voting by certain persons who are caretakers of ',\n",
       " u'  an opportunity to correct a defect in an early voting ',\n",
       " u'  the abolition of ad valorem taxes and a study of ',\n",
       " u'  the eligibility of land for appraisal for ad valorem tax ',\n",
       " u'  the eligibility of land for appraisal for ad valorem tax ',\n",
       " u'  compensation to be paid to an emergency services ',\n",
       " u'  compensation to be paid to an emergency services ',\n",
       " u'  municipal regulation of property of political ',\n",
       " u'  an exemption from ad valorem taxation of the total ',\n",
       " u'  signature verification on an early voting ballot voted ',\n",
       " u'  signature verification on an early voting ballot voted ',\n",
       " u'  actions by a retailer that constitute engaging in ',\n",
       " u'  a school district assigning a mentor teacher to a new ',\n",
       " u'  a school district assigning a mentor teacher to a new ',\n",
       " u'  a school district assigning a mentor teacher to a new ']"
      ]
     },
     "execution_count": 223,
     "metadata": {},
     "output_type": "execute_result"
    }
   ],
   "source": [
    "\n",
    "words = [w for w in words if not w in stopwords.words(\"english\")]\n",
    "print words"
   ]
  },
  {
   "cell_type": "code",
   "execution_count": 112,
   "metadata": {
    "collapsed": false
   },
   "outputs": [
    {
     "data": {
      "text/plain": [
       "u'85(1) HB 98 - Introduced version - Bill Text td { font-family: Courier, Arial, sans-serif; font-size: 10pt; } table { empty-cells:show; } 85S10371 MK-D By:\\xa0Bernal H.B.\\xa0No.\\xa098 A BILL TO BE ENTITLED AN ACT relating to a school district assigning a mentor teacher to a new classroom teacher. BE IT ENACTED BY THE LEGISLATURE OF THE STATE OF TEXAS: SECTION\\xa01.\\xa0\\xa0Section 21.458, Education Code, is amended by adding Subsections (a-1), (b-1), (f), and (g) and amending Subsections (b) and (d) to read as follows: (a-1) To be assigned as a mentor, a teacher must agree to serve as a mentor teacher for at least two school years. The assignment must begin on the first day of employment of the classroom teacher to whom the mentor teacher is assigned. (b)\\xa0\\xa0The commissioner shall adopt rules necessary to administer this section, including rules concerning the duties and qualifications of a teacher who serves as a mentor and the number of classroom teachers that may be assigned to a mentor .\\xa0\\xa0The rules concerning qualifications must require that to serve as a mentor a teacher must: (1)\\xa0\\xa0complete a research-based mentor and induction training program approved by the commissioner; (2)\\xa0\\xa0complete a mentor training program provided by the district; [ and ] (3)\\xa0\\xa0have at least three complete years of teaching experience with a superior record of assisting students, as a whole, in achieving improvement in student performance ; and (4) demonstrate interpersonal skills, instructional effectiveness, and leadership skills . (b-1) A school district must provide training to mentor teachers and any appropriate district and campus employees who work with the classroom teacher or supervise the classroom teacher. The training must be completed by the mentor teacher and the district and campus employees before the beginning of the school year. The district shall also provide supplemental training to mentor teachers and employees during the school year. The training must include content related to best mentorship practices. (d)\\xa0\\xa0In adopting rules under this section [ Subsection (c) ], the commissioner shall rely on research-based mentoring programs that, through external evaluation, have demonstrated success. (f) A mentor teacher must meet with each classroom teacher assigned to the mentor at least once a week for an individual mentoring session lasting at least 45 minutes, with not less than 12 hours of meeting time each semester. The mentoring sessions must address the following topics: (1) orientation to the context, policies, and practices of the school district; (2)\\xa0\\xa0data-driven instructional practices; (3) specific instructional coaching cycles, including coaching regarding conferences between parents and the classroom teacher; (4)\\xa0\\xa0professional development; and (5)\\xa0\\xa0professional expectations. (g)\\xa0\\xa0A school district must: (1) designate a specific time during the regularly contracted school day for meetings between mentor teachers and classroom teachers assigned to a mentor; and (2) schedule release time or a reduced teaching load for mentor teachers and classroom teachers under this section to facilitate mentoring activities, including classroom observations or participation in supportive coaching. SECTION\\xa02.\\xa0\\xa0Subchapter C, Chapter 42, Education Code, is amended by adding Section 42.161 to read as follows: Sec. 42.161. MENTOR PROGRAM ALLOTMENT.  (a) A school district that has implemented a mentoring program for classroom teachers who have less than two years of teaching experience under Section 21.458 is entitled to an allotment as determined under Subsection (b) to fund the mentoring program and to provide stipends for mentor teachers. (b) The commissioner shall adopt a formula to determine the amount that each district described by Subsection (a) is entitled to. (c) Funding provided to districts under this section may be used only for providing: (1)\\xa0\\xa0mentor teacher stipends; (2) scheduled release time for mentor teachers and the classroom teachers to whom they are assigned for meeting and engaging in mentoring activities; and (3) mentoring support through providers of mentor training. SECTION\\xa03.\\xa0\\xa0Section 21.458(c), Education Code, is repealed. SECTION\\xa04.\\xa0\\xa0This Act applies beginning with the 2018-2019 school year. SECTION\\xa05.\\xa0\\xa0This Act takes effect immediately if it receives a vote of two-thirds of all the members elected to each house, as provided by Section 39, Article III, Texas Constitution.\\xa0\\xa0If this Act does not receive the vote necessary for immediate effect, this Act takes effect on the 91st day after the last day of the legislative session.'"
      ]
     },
     "execution_count": 112,
     "metadata": {},
     "output_type": "execute_result"
    }
   ],
   "source": [
    "pretty_text = soup.get_text(\" \", strip=True)\n",
    "pretty_text"
   ]
  },
  {
   "cell_type": "code",
   "execution_count": 220,
   "metadata": {
    "collapsed": false
   },
   "outputs": [
    {
     "name": "stdout",
     "output_type": "stream",
     "text": [
      "HB00099I\n",
      "HB00007H\n"
     ]
    }
   ],
   "source": [
    "for k,v in summary_dict.items(): \n",
    "    if summary_dict[k] is None:\n",
    "        print(k) \n"
   ]
  },
  {
   "cell_type": "code",
   "execution_count": 37,
   "metadata": {
    "collapsed": false
   },
   "outputs": [],
   "source": [
    "train = load_files(\"data/\")"
   ]
  },
  {
   "cell_type": "code",
   "execution_count": 38,
   "metadata": {
    "collapsed": false
   },
   "outputs": [
    {
     "data": {
      "text/plain": [
       "array([], dtype=float64)"
      ]
     },
     "execution_count": 38,
     "metadata": {},
     "output_type": "execute_result"
    }
   ],
   "source": [
    "train.filenames"
   ]
  },
  {
   "cell_type": "code",
   "execution_count": 39,
   "metadata": {
    "collapsed": false
   },
   "outputs": [
    {
     "data": {
      "text/plain": [
       "{'DESCR': None,\n",
       " 'data': [],\n",
       " 'filenames': array([], dtype=float64),\n",
       " 'target': array([], dtype=float64),\n",
       " 'target_names': []}"
      ]
     },
     "execution_count": 39,
     "metadata": {},
     "output_type": "execute_result"
    }
   ],
   "source": [
    "train"
   ]
  },
  {
   "cell_type": "code",
   "execution_count": null,
   "metadata": {
    "collapsed": true
   },
   "outputs": [],
   "source": [
    "print(\"\\n\".join(train.data[0].split(\"\\n\")[:3]))"
   ]
  },
  {
   "cell_type": "code",
   "execution_count": null,
   "metadata": {
    "collapsed": true
   },
   "outputs": [],
   "source": [
    "print(train.target_names[train.target[0]])"
   ]
  },
  {
   "cell_type": "code",
   "execution_count": null,
   "metadata": {
    "collapsed": true
   },
   "outputs": [],
   "source": []
  }
 ],
 "metadata": {
  "kernelspec": {
   "display_name": "Python 2",
   "language": "python",
   "name": "python2"
  },
  "language_info": {
   "codemirror_mode": {
    "name": "ipython",
    "version": 2
   },
   "file_extension": ".py",
   "mimetype": "text/x-python",
   "name": "python",
   "nbconvert_exporter": "python",
   "pygments_lexer": "ipython2",
   "version": "2.7.11"
  }
 },
 "nbformat": 4,
 "nbformat_minor": 0
}
