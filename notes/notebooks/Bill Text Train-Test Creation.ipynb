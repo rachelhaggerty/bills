{
 "cells": [
  {
   "cell_type": "code",
   "execution_count": null,
   "metadata": {
    "collapsed": true
   },
   "outputs": [],
   "source": [
    "import nltk \n",
    "nltk.download(\"stopwords\")"
   ]
  },
  {
   "cell_type": "code",
   "execution_count": 91,
   "metadata": {
    "collapsed": false
   },
   "outputs": [],
   "source": [
    "from __future__ import print_function\n",
    "\n",
    "import os\n",
    "from ftplib import FTP\n",
    "from bs4 import BeautifulSoup\n",
    "import pandas as pd\n",
    "from sklearn.feature_extraction.text import CountVectorizer\n",
    "from sklearn.base import TransformerMixin\n",
    "from sklearn.datasets import load_files\n",
    "from sklearn.pipeline import Pipeline\n",
    "from sklearn.svm import LinearSVC\n",
    "from sklearn.feature_extraction.stop_words import ENGLISH_STOP_WORDS\n",
    "from sklearn import metrics\n",
    "from sklearn.metrics import accuracy_score\n",
    "from sklearn.feature_extraction.text import TfidfTransformer\n",
    "# import nltk\n",
    "from nltk.corpus import stopwords\n",
    "from nltk import tokenize\n",
    "import string\n",
    "import numpy as np\n",
    "import re\n",
    "import glob\n",
    "from io import open\n"
   ]
  },
  {
   "cell_type": "code",
   "execution_count": 90,
   "metadata": {
    "collapsed": false
   },
   "outputs": [
    {
     "name": "stdout",
     "output_type": "stream",
     "text": [
      "[nltk_data] Downloading package punkt to /Users/rhaggerty/nltk_data...\n",
      "[nltk_data]   Unzipping tokenizers/punkt.zip.\n"
     ]
    },
    {
     "data": {
      "text/plain": [
       "True"
      ]
     },
     "execution_count": 90,
     "metadata": {},
     "output_type": "execute_result"
    }
   ],
   "source": [
    "nltk.download('punkt')"
   ]
  },
  {
   "cell_type": "code",
   "execution_count": 14,
   "metadata": {
    "collapsed": false
   },
   "outputs": [
    {
     "name": "stdout",
     "output_type": "stream",
     "text": [
      "Bill Text Train-Test Creation.ipynb \u001b[31mget_ftp_files.py\u001b[m\u001b[m\r\n",
      "README.md                           \u001b[34mtx\u001b[m\u001b[m\r\n",
      "document_clustering.ipynb\r\n"
     ]
    }
   ],
   "source": [
    "!ls"
   ]
  },
  {
   "cell_type": "code",
   "execution_count": 32,
   "metadata": {
    "collapsed": false
   },
   "outputs": [
    {
     "data": {
      "text/plain": [
       "'230 Anonymous user logged in.'"
      ]
     },
     "execution_count": 32,
     "metadata": {},
     "output_type": "execute_result"
    }
   ],
   "source": [
    "ftp = FTP('ftp.legis.state.tx.us')\n",
    "ftp.login()"
   ]
  },
  {
   "cell_type": "code",
   "execution_count": 13,
   "metadata": {
    "collapsed": false,
    "scrolled": true
   },
   "outputs": [
    {
     "name": "stdout",
     "output_type": "stream",
     "text": [
      "['HB00001E.htm', 'HB00001H.htm', 'HB00001I.htm', 'HB00002E.htm', 'HB00002H.htm', 'HB00002I.htm', 'HB00003I.htm', 'HB00004H.htm', 'HB00004I.htm', 'HB00005I.htm', 'HB00006I.htm', 'HB00007E.htm', 'HB00007F.htm', 'HB00007H.htm', 'HB00007I.htm', 'HB00007S.htm', 'HB00009E.htm', 'HB00009H.htm', 'HB00009I.htm', 'HB00010E.htm', 'HB00010H.htm', 'HB00010I.htm', 'HB00011E.htm', 'HB00011H.htm', 'HB00011I.htm', 'HB00012I.htm', 'HB00013E.htm', 'HB00013F.htm', 'HB00013H.htm', 'HB00013I.htm', 'HB00013S.htm', 'HB00014H.htm', 'HB00014I.htm', 'HB00015H.htm', 'HB00015I.htm', 'HB00016H.htm', 'HB00016I.htm', 'HB00017H.htm', 'HB00017I.htm', 'HB00018H.htm', 'HB00018I.htm', 'HB00019H.htm', 'HB00019I.htm', 'HB00020E.htm', 'HB00020H.htm', 'HB00020I.htm', 'HB00021E.htm', 'HB00021F.htm', 'HB00021H.htm', 'HB00021I.htm', 'HB00021S.htm', 'HB00022H.htm', 'HB00022I.htm', 'HB00023E.htm', 'HB00023H.htm', 'HB00023I.htm', 'HB00024H.htm', 'HB00024I.htm', 'HB00025E.htm', 'HB00025H.htm', 'HB00025I.htm', 'HB00026E.htm', 'HB00026H.htm', 'HB00026I.htm', 'HB00027E.htm', 'HB00027H.htm', 'HB00027I.htm', 'HB00028E.htm', 'HB00028H.htm', 'HB00028I.htm', 'HB00029I.htm', 'HB00030E.htm', 'HB00030F.htm', 'HB00030H.htm', 'HB00030I.htm', 'HB00030S.htm', 'HB00031I.htm', 'HB00032E.htm', 'HB00032H.htm', 'HB00032I.htm', 'HB00032S.htm', 'HB00033H.htm', 'HB00033I.htm', 'HB00041I.htm', 'HB00042I.htm', 'HB00043I.htm', 'HB00044I.htm', 'HB00045I.htm', 'HB00046I.htm', 'HB00047H.htm', 'HB00047I.htm', 'HB00048I.htm', 'HB00049I.htm', 'HB00050I.htm', 'HB00051I.htm', 'HB00052I.htm', 'HB00053I.htm', 'HB00054I.htm', 'HB00055I.htm', 'HB00056I.htm', 'HB00057I.htm', 'HB00058I.htm', 'HB00059I.htm', 'HB00060H.htm', 'HB00060I.htm', 'HB00061I.htm', 'HB00062I.htm', 'HB00063I.htm', 'HB00064I.htm', 'HB00065I.htm', 'HB00066I.htm', 'HB00067I.htm', 'HB00068I.htm', 'HB00069I.htm', 'HB00070I.htm', 'HB00071I.htm', 'HB00072H.htm', 'HB00072I.htm', 'HB00073I.htm', 'HB00074E.htm', 'HB00074H.htm', 'HB00074I.htm', 'HB00075I.htm', 'HB00076I.htm', 'HB00077I.htm', 'HB00078I.htm', 'HB00079I.htm', 'HB00080E.htm', 'HB00080H.htm', 'HB00080I.htm', 'HB00081I.htm', 'HB00082I.htm', 'HB00083I.htm', 'HB00084I.htm', 'HB00085I.htm', 'HB00086I.htm', 'HB00087I.htm', 'HB00088I.htm', 'HB00089I.htm', 'HB00090I.htm', 'HB00091I.htm', 'HB00092H.htm', 'HB00092I.htm', 'HB00093H.htm', 'HB00093I.htm', 'HB00094I.htm', 'HB00095I.htm', 'HB00096H.htm', 'HB00096I.htm', 'HB00097I.htm', 'HB00098H.htm', 'HB00098I.htm', 'HB00099I.htm']\n"
     ]
    }
   ],
   "source": [
    "#Directory structure: /bills/<legislative session>/<document type>/<text format>/<bill type>/<grouping of 100 bills>\n",
    "ftp.cwd('/bills/851/billtext/html/house_bills/HB00001_HB00099')\n",
    "files = ftp.nlst()\n",
    "print files"
   ]
  },
  {
   "cell_type": "markdown",
   "metadata": {},
   "source": [
    "## Download html files from FTP"
   ]
  },
  {
   "cell_type": "code",
   "execution_count": 98,
   "metadata": {
    "collapsed": true
   },
   "outputs": [],
   "source": []
  },
  {
   "cell_type": "code",
   "execution_count": 51,
   "metadata": {
    "collapsed": false
   },
   "outputs": [],
   "source": [
    "# The naming convention for individual documents is: <bill chamber><bill type><bill suffix><bill version>\n",
    "# File Name\tDescription\n",
    "# <bill chamber>\tH=House, S=Senate\n",
    "# <bill type>\tB=Bill, J=Joint Resolution, R=Resolution, C=Concurrent Resolution\n",
    "# <bill suffix>\t5-digit number\n",
    "# <bill version>\tI=Introduced, S=Senate Committee Report, H=House Committee Report, E=Engrossed, F=Enrolled\n",
    "\n",
    "\n",
    "def is_empty(file):\n",
    "    file_size=os.stat(file).st_size\n",
    "    if file_size == 0:\n",
    "        print(\"The file {} is empty\".format(file))\n",
    "        return True\n",
    "    return False"
   ]
  },
  {
   "cell_type": "code",
   "execution_count": 88,
   "metadata": {
    "collapsed": false
   },
   "outputs": [
    {
     "name": "stdout",
     "output_type": "stream",
     "text": [
      "Getting filename HB00001E.htm\n",
      "[Errno 49] Can't assign requested address\n",
      "Getting filename HB00001H.htm\n",
      "[Errno 32] Broken pipe\n",
      "Getting filename HB00001I.htm\n",
      "[Errno 32] Broken pipe\n",
      "Getting filename HB00002E.htm\n",
      "[Errno 32] Broken pipe\n",
      "Getting filename HB00002H.htm\n",
      "[Errno 32] Broken pipe\n",
      "Getting filename HB00002I.htm\n",
      "[Errno 32] Broken pipe\n",
      "Getting filename HB00003I.htm\n",
      "[Errno 32] Broken pipe\n",
      "Getting filename HB00004H.htm\n",
      "[Errno 32] Broken pipe\n",
      "Getting filename HB00004I.htm\n",
      "[Errno 32] Broken pipe\n",
      "Getting filename HB00005I.htm\n",
      "[Errno 32] Broken pipe\n",
      "Getting filename HB00006I.htm\n",
      "[Errno 32] Broken pipe\n",
      "Getting filename HB00007E.htm\n",
      "[Errno 32] Broken pipe\n",
      "Getting filename HB00007F.htm\n",
      "[Errno 32] Broken pipe\n",
      "Getting filename HB00007H.htm\n",
      "[Errno 32] Broken pipe\n",
      "Getting filename HB00007I.htm\n",
      "[Errno 32] Broken pipe\n",
      "Getting filename HB00007S.htm\n",
      "[Errno 32] Broken pipe\n",
      "Getting filename HB00009E.htm\n",
      "[Errno 32] Broken pipe\n",
      "Getting filename HB00009H.htm\n",
      "[Errno 32] Broken pipe\n",
      "Getting filename HB00009I.htm\n",
      "[Errno 32] Broken pipe\n",
      "Getting filename HB00010E.htm\n",
      "[Errno 32] Broken pipe\n",
      "Getting filename HB00010H.htm\n",
      "[Errno 32] Broken pipe\n",
      "Getting filename HB00010I.htm\n",
      "[Errno 32] Broken pipe\n",
      "Getting filename HB00011E.htm\n",
      "[Errno 32] Broken pipe\n",
      "Getting filename HB00011H.htm\n",
      "[Errno 32] Broken pipe\n",
      "Getting filename HB00011I.htm\n",
      "[Errno 32] Broken pipe\n",
      "Getting filename HB00012I.htm\n",
      "[Errno 32] Broken pipe\n",
      "Getting filename HB00013E.htm\n",
      "[Errno 32] Broken pipe\n",
      "Getting filename HB00013F.htm\n",
      "[Errno 32] Broken pipe\n",
      "Getting filename HB00013H.htm\n",
      "[Errno 32] Broken pipe\n",
      "Getting filename HB00013I.htm\n",
      "[Errno 32] Broken pipe\n",
      "Getting filename HB00013S.htm\n",
      "[Errno 32] Broken pipe\n",
      "Getting filename HB00014H.htm\n",
      "[Errno 32] Broken pipe\n",
      "Getting filename HB00014I.htm\n",
      "[Errno 32] Broken pipe\n",
      "Getting filename HB00015H.htm\n",
      "[Errno 32] Broken pipe\n",
      "Getting filename HB00015I.htm\n",
      "[Errno 32] Broken pipe\n",
      "Getting filename HB00016H.htm\n",
      "[Errno 32] Broken pipe\n",
      "Getting filename HB00016I.htm\n",
      "[Errno 32] Broken pipe\n",
      "Getting filename HB00017H.htm\n",
      "[Errno 32] Broken pipe\n",
      "Getting filename HB00017I.htm\n",
      "[Errno 32] Broken pipe\n",
      "Getting filename HB00018H.htm\n",
      "[Errno 32] Broken pipe\n",
      "Getting filename HB00018I.htm\n",
      "[Errno 32] Broken pipe\n",
      "Getting filename HB00019H.htm\n",
      "[Errno 32] Broken pipe\n",
      "Getting filename HB00019I.htm\n",
      "[Errno 32] Broken pipe\n",
      "Getting filename HB00020E.htm\n",
      "[Errno 32] Broken pipe\n",
      "Getting filename HB00020H.htm\n",
      "[Errno 32] Broken pipe\n",
      "Getting filename HB00020I.htm\n",
      "[Errno 32] Broken pipe\n",
      "Getting filename HB00021E.htm\n",
      "[Errno 32] Broken pipe\n",
      "Getting filename HB00021F.htm\n",
      "[Errno 32] Broken pipe\n",
      "Getting filename HB00021H.htm\n",
      "[Errno 32] Broken pipe\n",
      "Getting filename HB00021I.htm\n",
      "[Errno 32] Broken pipe\n",
      "Getting filename HB00021S.htm\n",
      "[Errno 32] Broken pipe\n",
      "Getting filename HB00022H.htm\n",
      "[Errno 32] Broken pipe\n",
      "Getting filename HB00022I.htm\n",
      "[Errno 32] Broken pipe\n",
      "Getting filename HB00023E.htm\n",
      "[Errno 32] Broken pipe\n",
      "Getting filename HB00023H.htm\n",
      "[Errno 32] Broken pipe\n",
      "Getting filename HB00023I.htm\n",
      "[Errno 32] Broken pipe\n",
      "Getting filename HB00024H.htm\n",
      "[Errno 32] Broken pipe\n",
      "Getting filename HB00024I.htm\n",
      "[Errno 32] Broken pipe\n",
      "Getting filename HB00025E.htm\n",
      "[Errno 32] Broken pipe\n",
      "Getting filename HB00025H.htm\n",
      "[Errno 32] Broken pipe\n",
      "Getting filename HB00025I.htm\n",
      "[Errno 32] Broken pipe\n",
      "Getting filename HB00026E.htm\n",
      "[Errno 32] Broken pipe\n",
      "Getting filename HB00026H.htm\n",
      "[Errno 32] Broken pipe\n",
      "Getting filename HB00026I.htm\n",
      "[Errno 32] Broken pipe\n",
      "Getting filename HB00027E.htm\n",
      "[Errno 32] Broken pipe\n",
      "Getting filename HB00027H.htm\n",
      "[Errno 32] Broken pipe\n",
      "Getting filename HB00027I.htm\n",
      "[Errno 32] Broken pipe\n",
      "Getting filename HB00028E.htm\n",
      "[Errno 32] Broken pipe\n",
      "Getting filename HB00028H.htm\n",
      "[Errno 32] Broken pipe\n",
      "Getting filename HB00028I.htm\n",
      "[Errno 32] Broken pipe\n",
      "Getting filename HB00029I.htm\n",
      "[Errno 32] Broken pipe\n",
      "Getting filename HB00030E.htm\n",
      "[Errno 32] Broken pipe\n",
      "Getting filename HB00030F.htm\n",
      "[Errno 32] Broken pipe\n",
      "Getting filename HB00030H.htm\n",
      "[Errno 32] Broken pipe\n",
      "Getting filename HB00030I.htm\n",
      "[Errno 32] Broken pipe\n",
      "Getting filename HB00030S.htm\n",
      "[Errno 32] Broken pipe\n",
      "Getting filename HB00031I.htm\n",
      "[Errno 32] Broken pipe\n",
      "Getting filename HB00032E.htm\n",
      "[Errno 32] Broken pipe\n",
      "Getting filename HB00032H.htm\n",
      "[Errno 32] Broken pipe\n",
      "Getting filename HB00032I.htm\n",
      "[Errno 32] Broken pipe\n",
      "Getting filename HB00032S.htm\n",
      "[Errno 32] Broken pipe\n",
      "Getting filename HB00033H.htm\n",
      "[Errno 32] Broken pipe\n",
      "Getting filename HB00033I.htm\n",
      "[Errno 32] Broken pipe\n",
      "Getting filename HB00041I.htm\n",
      "[Errno 32] Broken pipe\n",
      "Getting filename HB00042I.htm\n",
      "[Errno 32] Broken pipe\n",
      "Getting filename HB00043I.htm\n",
      "[Errno 32] Broken pipe\n",
      "Getting filename HB00044I.htm\n",
      "[Errno 32] Broken pipe\n",
      "Getting filename HB00045I.htm\n",
      "[Errno 32] Broken pipe\n",
      "Getting filename HB00046I.htm\n",
      "[Errno 32] Broken pipe\n",
      "Getting filename HB00047H.htm\n",
      "[Errno 32] Broken pipe\n",
      "Getting filename HB00047I.htm\n",
      "[Errno 32] Broken pipe\n",
      "Getting filename HB00048I.htm\n",
      "[Errno 32] Broken pipe\n",
      "Getting filename HB00049I.htm\n",
      "[Errno 32] Broken pipe\n",
      "Getting filename HB00050I.htm\n",
      "[Errno 32] Broken pipe\n",
      "Getting filename HB00051I.htm\n",
      "[Errno 32] Broken pipe\n",
      "Getting filename HB00052I.htm\n",
      "[Errno 32] Broken pipe\n",
      "Getting filename HB00053I.htm\n",
      "[Errno 32] Broken pipe\n",
      "Getting filename HB00054I.htm\n",
      "[Errno 32] Broken pipe\n",
      "Getting filename HB00055I.htm\n",
      "[Errno 32] Broken pipe\n",
      "Getting filename HB00056I.htm\n",
      "[Errno 32] Broken pipe\n",
      "Getting filename HB00057I.htm\n",
      "[Errno 32] Broken pipe\n",
      "Getting filename HB00058I.htm\n",
      "[Errno 32] Broken pipe\n",
      "Getting filename HB00059I.htm\n",
      "[Errno 32] Broken pipe\n",
      "Getting filename HB00060H.htm\n",
      "[Errno 32] Broken pipe\n",
      "Getting filename HB00060I.htm\n",
      "[Errno 32] Broken pipe\n",
      "Getting filename HB00061I.htm\n",
      "[Errno 32] Broken pipe\n",
      "Getting filename HB00062I.htm\n",
      "[Errno 32] Broken pipe\n",
      "Getting filename HB00063I.htm\n",
      "[Errno 32] Broken pipe\n",
      "Getting filename HB00064I.htm\n",
      "[Errno 32] Broken pipe\n",
      "Getting filename HB00065I.htm\n",
      "[Errno 32] Broken pipe\n",
      "Getting filename HB00066I.htm\n",
      "[Errno 32] Broken pipe\n",
      "Getting filename HB00067I.htm\n",
      "[Errno 32] Broken pipe\n",
      "Getting filename HB00068I.htm\n",
      "[Errno 32] Broken pipe\n",
      "Getting filename HB00069I.htm\n",
      "[Errno 32] Broken pipe\n",
      "Getting filename HB00070I.htm\n",
      "[Errno 32] Broken pipe\n",
      "Getting filename HB00071I.htm\n",
      "[Errno 32] Broken pipe\n",
      "Getting filename HB00072H.htm\n",
      "[Errno 32] Broken pipe\n",
      "Getting filename HB00072I.htm\n",
      "[Errno 32] Broken pipe\n",
      "Getting filename HB00073I.htm\n",
      "[Errno 32] Broken pipe\n",
      "Getting filename HB00074E.htm\n",
      "[Errno 32] Broken pipe\n",
      "Getting filename HB00074H.htm\n",
      "[Errno 32] Broken pipe\n",
      "Getting filename HB00074I.htm\n",
      "[Errno 32] Broken pipe\n",
      "Getting filename HB00075I.htm\n",
      "[Errno 32] Broken pipe\n",
      "Getting filename HB00076I.htm\n",
      "[Errno 32] Broken pipe\n",
      "Getting filename HB00077I.htm\n",
      "[Errno 32] Broken pipe\n",
      "Getting filename HB00078I.htm\n",
      "[Errno 32] Broken pipe\n",
      "Getting filename HB00079I.htm\n",
      "[Errno 32] Broken pipe\n",
      "Getting filename HB00080E.htm\n",
      "[Errno 32] Broken pipe\n",
      "Getting filename HB00080H.htm\n",
      "[Errno 32] Broken pipe\n",
      "Getting filename HB00080I.htm\n",
      "[Errno 32] Broken pipe\n",
      "Getting filename HB00081I.htm\n",
      "[Errno 32] Broken pipe\n",
      "Getting filename HB00082I.htm\n",
      "[Errno 32] Broken pipe\n",
      "Getting filename HB00083I.htm\n",
      "[Errno 32] Broken pipe\n",
      "Getting filename HB00084I.htm\n",
      "[Errno 32] Broken pipe\n",
      "Getting filename HB00085I.htm\n",
      "[Errno 32] Broken pipe\n",
      "Getting filename HB00086I.htm\n",
      "[Errno 32] Broken pipe\n",
      "Getting filename HB00087I.htm\n",
      "[Errno 32] Broken pipe\n",
      "Getting filename HB00088I.htm\n",
      "[Errno 32] Broken pipe\n",
      "Getting filename HB00089I.htm\n",
      "[Errno 32] Broken pipe\n",
      "Getting filename HB00090I.htm\n",
      "[Errno 32] Broken pipe\n",
      "Getting filename HB00091I.htm\n",
      "[Errno 32] Broken pipe\n",
      "Getting filename HB00092H.htm\n",
      "[Errno 32] Broken pipe\n",
      "Getting filename HB00092I.htm\n",
      "[Errno 32] Broken pipe\n",
      "Getting filename HB00093H.htm\n",
      "[Errno 32] Broken pipe\n",
      "Getting filename HB00093I.htm\n",
      "[Errno 32] Broken pipe\n",
      "Getting filename HB00094I.htm\n",
      "[Errno 32] Broken pipe\n",
      "Getting filename HB00095I.htm\n",
      "[Errno 32] Broken pipe\n",
      "Getting filename HB00096H.htm\n",
      "[Errno 32] Broken pipe\n",
      "Getting filename HB00096I.htm\n",
      "[Errno 32] Broken pipe\n",
      "Getting filename HB00097I.htm\n",
      "[Errno 32] Broken pipe\n",
      "Getting filename HB00098H.htm\n",
      "[Errno 32] Broken pipe\n",
      "Getting filename HB00098I.htm\n",
      "[Errno 32] Broken pipe\n",
      "Getting filename HB00099I.htm\n",
      "[Errno 32] Broken pipe\n"
     ]
    }
   ],
   "source": [
    "for file in files:\n",
    "    try:\n",
    "        local_filename = os.path.join(local_dir, file)\n",
    "        print(\"Getting filename \" + file)\n",
    "        ftp.retrbinary('RETR %s' % file, open(local_filename, 'wb').write)\n",
    "        print(\"Saving at %s\" % local_filename)\n",
    "    except Exception, err:\n",
    "        print(err)\n",
    "        if (is_empty(local_filename)):\n",
    "            os.remove(local_filename)\n",
    "        continue"
   ]
  },
  {
   "cell_type": "code",
   "execution_count": 4,
   "metadata": {
    "collapsed": false
   },
   "outputs": [],
   "source": [
    "local_dir = '/Users/rhaggerty/remote/bills/tx/data/'"
   ]
  },
  {
   "cell_type": "code",
   "execution_count": 180,
   "metadata": {
    "collapsed": false
   },
   "outputs": [
    {
     "data": {
      "text/plain": [
       "'/Users/rhaggerty/remote/bills/tx/data/text'"
      ]
     },
     "execution_count": 180,
     "metadata": {},
     "output_type": "execute_result"
    }
   ],
   "source": [
    "output_dir"
   ]
  },
  {
   "cell_type": "code",
   "execution_count": 128,
   "metadata": {
    "collapsed": false
   },
   "outputs": [],
   "source": [
    "# #make sure html file isn't empty, if it is, remove it\n",
    "# def prettify_soup(doc_name):\n",
    "# #     'HB00098I'\n",
    "#     bill_no = doc_name.split('/')[-1].rstrip('.htm')\n",
    "#     output_dir = os.path.join(local_dir, 'text/')\n",
    "    \n",
    "#     if (is_empty(doc_name)):\n",
    "#         os.remove(doc_name)\n",
    "#     else:\n",
    "#         with open(doc_name, 'rt') as in_file:\n",
    "#             soup = BeautifulSoup(in_file, 'html.parser') \n",
    "#             pretty_text = soup.get_text(' ', strip=True)\n",
    "# #             twopretty = pretty_text.prettify()\n",
    "# #             print(pretty_text)\n",
    "#             with open(output_dir + bill_no + 'TEST2.txt', 'w+') as out_file:\n",
    "# #                 out_file.write(pretty_text.encode('utf8'))\n",
    "#                 out_file.write(pretty_text)\n",
    "    \n",
    "\n",
    "#make sure html file isn't empty, if it is, remove it\n",
    "def prettify_soup(doc_name):\n",
    "#     'HB00098I'\n",
    "    bill_no = doc_name.split('/')[-1].rstrip('.htm')\n",
    "    output_dir = os.path.join(local_dir, 'text/')\n",
    "    \n",
    "    if (is_empty(doc_name)):\n",
    "        os.remove(doc_name)\n",
    "    else:    \n",
    "    \n",
    "        with open(doc_name, 'rt') as in_file:\n",
    "            soup = BeautifulSoup(in_file, 'html.parser') \n",
    "            pretty_text = soup.get_text(' ', strip=True)\n",
    "#             print(pretty_text)\n",
    "            prettytwo = pretty_text.encode('utf8')\n",
    "            with open(output_dir + bill_no + 'TEST3.txt', 'w+') as out_file:\n",
    "                out_file.write(prettytwo)"
   ]
  },
  {
   "cell_type": "code",
   "execution_count": 129,
   "metadata": {
    "collapsed": false
   },
   "outputs": [
    {
     "ename": "TypeError",
     "evalue": "must be unicode, not str",
     "output_type": "error",
     "traceback": [
      "\u001b[0;31m---------------------------------------------------------------------------\u001b[0m",
      "\u001b[0;31mTypeError\u001b[0m                                 Traceback (most recent call last)",
      "\u001b[0;32m<ipython-input-129-96e445fa068d>\u001b[0m in \u001b[0;36m<module>\u001b[0;34m()\u001b[0m\n\u001b[1;32m      6\u001b[0m \u001b[0mdoc_name\u001b[0m \u001b[0;34m=\u001b[0m \u001b[0;34m'/Users/rhaggerty/remote/bills/tx/data/html/HB00001H.htm'\u001b[0m\u001b[0;34m\u001b[0m\u001b[0m\n\u001b[1;32m      7\u001b[0m \u001b[0;31m# output_dir = './tx/data/text/'\u001b[0m\u001b[0;34m\u001b[0m\u001b[0;34m\u001b[0m\u001b[0m\n\u001b[0;32m----> 8\u001b[0;31m \u001b[0mprettify_soup\u001b[0m\u001b[0;34m(\u001b[0m\u001b[0mdoc_name\u001b[0m\u001b[0;34m)\u001b[0m\u001b[0;34m\u001b[0m\u001b[0m\n\u001b[0m\u001b[1;32m      9\u001b[0m \u001b[0;34m\u001b[0m\u001b[0m\n\u001b[1;32m     10\u001b[0m \u001b[0;31m# with open(doc_name, 'rt') as in_file:\u001b[0m\u001b[0;34m\u001b[0m\u001b[0;34m\u001b[0m\u001b[0m\n",
      "\u001b[0;32m<ipython-input-128-7c16247fc3b3>\u001b[0m in \u001b[0;36mprettify_soup\u001b[0;34m(doc_name)\u001b[0m\n\u001b[1;32m     34\u001b[0m             \u001b[0mprettytwo\u001b[0m \u001b[0;34m=\u001b[0m \u001b[0mpretty_text\u001b[0m\u001b[0;34m.\u001b[0m\u001b[0mencode\u001b[0m\u001b[0;34m(\u001b[0m\u001b[0;34m'utf8'\u001b[0m\u001b[0;34m)\u001b[0m\u001b[0;34m\u001b[0m\u001b[0m\n\u001b[1;32m     35\u001b[0m             \u001b[0;32mwith\u001b[0m \u001b[0mopen\u001b[0m\u001b[0;34m(\u001b[0m\u001b[0moutput_dir\u001b[0m \u001b[0;34m+\u001b[0m \u001b[0mbill_no\u001b[0m \u001b[0;34m+\u001b[0m \u001b[0;34m'TEST3.txt'\u001b[0m\u001b[0;34m,\u001b[0m \u001b[0;34m'w+'\u001b[0m\u001b[0;34m)\u001b[0m \u001b[0;32mas\u001b[0m \u001b[0mout_file\u001b[0m\u001b[0;34m:\u001b[0m\u001b[0;34m\u001b[0m\u001b[0m\n\u001b[0;32m---> 36\u001b[0;31m                 \u001b[0mout_file\u001b[0m\u001b[0;34m.\u001b[0m\u001b[0mwrite\u001b[0m\u001b[0;34m(\u001b[0m\u001b[0mprettytwo\u001b[0m\u001b[0;34m)\u001b[0m\u001b[0;34m\u001b[0m\u001b[0m\n\u001b[0m",
      "\u001b[0;31mTypeError\u001b[0m: must be unicode, not str"
     ]
    }
   ],
   "source": [
    "# for doc_name in glob.glob(local_dir + 'html/*.htm'):\n",
    "# #     doc_name = '/Users/rhaggerty/remote/bills/tx/data/html/HB00098I.htm'\n",
    "#     prettify_soup(doc_name)\n",
    "    \n",
    "\n",
    "doc_name = '/Users/rhaggerty/remote/bills/tx/data/html/HB00001H.htm'\n",
    "# output_dir = './tx/data/text/'\n",
    "prettify_soup(doc_name)\n",
    "\n",
    "# with open(doc_name, 'rt') as in_file:\n",
    "#     soup = BeautifulSoup(in_file, 'html.parser')\n",
    "#     pretty_text = soup.get_text(' ', strip=True)\n",
    "# #     twopretty = pretty_text.encode('utf8')\n",
    "# #     pretty_text\n",
    "#     with open(output_dir + bill_no + '.txt', 'w+', encoding='utf-8') as out_file:\n",
    "#         out_file.write(pretty_text)"
   ]
  },
  {
   "cell_type": "code",
   "execution_count": 133,
   "metadata": {
    "collapsed": false
   },
   "outputs": [
    {
     "name": "stdout",
     "output_type": "stream",
     "text": [
      "85(1) HB 1 - House Committee Report version - Bill Text td { font-family: Courier, Arial, sans-serif; font-size: 10pt; } table { empty-cells:show; } 85S10968 MCK-D By: Gonzales of Williamson, Burkett, Raymond, H.B. No. 1 Flynn, Thompson of Harris A BILL TO BE ENTITLED AN ACT relating to avoiding the abolishment of certain agencies subject to the Texas Sunset Act on September 1, 2017. BE IT ENACTED BY THE LEGISLATURE OF THE STATE OF TEXAS: SECTION 1.  Section 151.004, Occupations Code, is amended to read as follows: Sec. 151.004.  APPLICATION OF SUNSET ACT.  The Texas Medical Board is subject to Chapter 325, Government Code (Texas Sunset Act).  Unless continued in existence as provided by that chapter, the board is abolished and this subtitle and Chapters 204, 205, 206, 601, 602, 603, and 604 expire September 1, 2019 [ 2017 ]. SECTION 2.  Section 501.005, Occupations Code, is amended to read as follows: Sec. 501.005.  APPLICATION OF SUNSET ACT.  The Texas State Board of Examiners of Psychologists is subject to Chapter 325, Government Code (Texas Sunset Act). Unless continued in existence as provided by that chapter, the board is abolished and this chapter expires September 1, 2019 [ 2017 ]. SECTION 3.  Section 502.003, Occupations Code, is amended to read as follows: Sec. 502.003.  APPLICATION OF SUNSET ACT.  The Texas State Board of Examiners of Marriage and Family Therapists is subject to Chapter 325, Government Code (Texas Sunset Act).  Unless continued in existence as provided by that chapter, the board is abolished and this chapter expires September 1, 2019 [ 2017 ]. SECTION 4.  Section 503.005, Occupations Code, is amended to read as follows: Sec. 503.005.  APPLICATION OF SUNSET ACT.  The Texas State Board of Examiners of Professional Counselors is subject to Chapter 325, Government Code (Texas Sunset Act). Unless continued in existence as provided by that chapter, the board is abolished September 1, 2019 [ 2017 ]. SECTION 5.  Section 505.005, Occupations Code, is amended to read as follows: Sec. 505.005.  APPLICATION OF SUNSET ACT.  The Texas State Board of Social Worker Examiners is subject to Chapter 325, Government Code (Texas Sunset Act).  Unless continued in existence as provided by that chapter, the board is abolished and Section 505.101 expires September 1, 2019 [ 2017 ]. SECTION 6.  This Act takes effect immediately if it receives a vote of two-thirds of all the members elected to each house, as provided by Section 39, Article III, Texas Constitution.  If this Act does not receive the vote necessary for immediate effect, this Act takes effect on the 91st day after the last day of the legislative session.\n"
     ]
    }
   ],
   "source": [
    "\n",
    "#make sure html file isn't empty, if it is, remove it\n",
    "def prettify_soup(doc_name):\n",
    "#     'HB00098I'\n",
    "    bill_no = doc_name.split('/')[-1].rstrip('.htm')\n",
    "    output_dir = os.path.join(local_dir, 'text/')\n",
    "    \n",
    "    if (is_empty(doc_name)):\n",
    "        os.remove(doc_name)\n",
    "    else:\n",
    "        with open(doc_name) as in_file:\n",
    "            soup = BeautifulSoup(in_file, 'html.parser') \n",
    "            pretty_text = soup.get_text(' ', strip=True)\n",
    "            print(pretty_text)\n",
    "#             with open(output_dir + bill_no + '.txt', 'w+') as out_file:\n",
    "#                 out_file.write(pretty_text.encode('utf8'))\n",
    "\n",
    "doc_name = '/Users/rhaggerty/remote/bills/tx/data/html/HB00001H.htm'\n",
    "# output_dir = './tx/data/text/'\n",
    "prettify_soup(doc_name)"
   ]
  },
  {
   "cell_type": "code",
   "execution_count": 134,
   "metadata": {
    "collapsed": false
   },
   "outputs": [
    {
     "data": {
      "text/plain": [
       "u'85(1) HB 1 - House Committee Report version - Bill Text td { font-family: Courier, Arial, sans-serif; font-size: 10pt; } table { empty-cells:show; } 85S10968 MCK-D By:\\xa0Gonzales of Williamson, Burkett, Raymond, H.B.\\xa0No.\\xa01 Flynn, Thompson of Harris A BILL TO BE ENTITLED AN ACT relating to avoiding the abolishment of certain agencies subject to the Texas Sunset Act on September 1, 2017. BE IT ENACTED BY THE LEGISLATURE OF THE STATE OF TEXAS: SECTION\\xa01.\\xa0\\xa0Section 151.004, Occupations Code, is amended to read as follows: Sec.\\xa0151.004.\\xa0\\xa0APPLICATION OF SUNSET ACT.  The Texas Medical Board is subject to Chapter 325, Government Code (Texas Sunset Act).  Unless continued in existence as provided by that chapter, the board is abolished and this subtitle and Chapters 204, 205, 206, 601, 602, 603, and 604 expire September 1, 2019 [ 2017 ]. SECTION\\xa02.\\xa0\\xa0Section 501.005, Occupations Code, is amended to read as follows: Sec.\\xa0501.005.\\xa0\\xa0APPLICATION OF SUNSET ACT.  The Texas State Board of Examiners of Psychologists is subject to Chapter 325, Government Code (Texas Sunset Act). Unless continued in existence as provided by that chapter, the board is abolished and this chapter expires September 1, 2019 [ 2017 ]. SECTION\\xa03.\\xa0\\xa0Section 502.003, Occupations Code, is amended to read as follows: Sec.\\xa0502.003.\\xa0\\xa0APPLICATION OF SUNSET ACT.  The Texas State Board of Examiners of Marriage and Family Therapists is subject to Chapter 325, Government Code (Texas Sunset Act).  Unless continued in existence as provided by that chapter, the board is abolished and this chapter expires September 1, 2019 [ 2017 ]. SECTION\\xa04.\\xa0\\xa0Section 503.005, Occupations Code, is amended to read as follows: Sec.\\xa0503.005.\\xa0\\xa0APPLICATION OF SUNSET ACT.  The Texas State Board of Examiners of Professional Counselors is subject to Chapter 325, Government Code (Texas Sunset Act). Unless continued in existence as provided by that chapter, the board is abolished September 1, 2019 [ 2017 ]. SECTION\\xa05.\\xa0\\xa0Section 505.005, Occupations Code, is amended to read as follows: Sec.\\xa0505.005.\\xa0\\xa0APPLICATION OF SUNSET ACT.  The Texas State Board of Social Worker Examiners is subject to Chapter 325, Government Code (Texas Sunset Act).  Unless continued in existence as provided by that chapter, the board is abolished and Section 505.101 expires September 1, 2019 [ 2017 ]. SECTION\\xa06.\\xa0\\xa0This Act takes effect immediately if it receives a vote of two-thirds of all the members elected to each house, as provided by Section 39, Article III, Texas Constitution.  If this Act does not receive the vote necessary for immediate effect, this Act takes effect on the 91st day after the last day of the legislative session.'"
      ]
     },
     "execution_count": 134,
     "metadata": {},
     "output_type": "execute_result"
    }
   ],
   "source": [
    "days_file = open('/Users/rhaggerty/remote/bills/tx/data/text/HB00001H.txt','rt')\n",
    "days_file.readline()"
   ]
  },
  {
   "cell_type": "code",
   "execution_count": 26,
   "metadata": {
    "collapsed": false
   },
   "outputs": [
    {
     "name": "stdout",
     "output_type": "stream",
     "text": [
      "ls: /Users/rhaggerty/remote/bills/tx/data/html/HB00007H.htm: No such file or directory\r\n"
     ]
    }
   ],
   "source": [
    "!ls /Users/rhaggerty/remote/bills/tx/data/html/HB00007H.htm"
   ]
  },
  {
   "cell_type": "code",
   "execution_count": 18,
   "metadata": {
    "collapsed": false
   },
   "outputs": [
    {
     "name": "stdout",
     "output_type": "stream",
     "text": [
      "The file /Users/rhaggerty/remote/bills/tx/data/html/HB00007H.htm is empty\n"
     ]
    },
    {
     "data": {
      "text/plain": [
       "True"
      ]
     },
     "execution_count": 18,
     "metadata": {},
     "output_type": "execute_result"
    }
   ],
   "source": [
    "doc_name = '/Users/rhaggerty/remote/bills/tx/data/html/HB00007H.htm'\n",
    "is_empty(doc_name)"
   ]
  },
  {
   "cell_type": "code",
   "execution_count": 19,
   "metadata": {
    "collapsed": true
   },
   "outputs": [],
   "source": [
    "os.remove(doc_name)"
   ]
  },
  {
   "cell_type": "code",
   "execution_count": 21,
   "metadata": {
    "collapsed": false
   },
   "outputs": [
    {
     "name": "stdout",
     "output_type": "stream",
     "text": [
      "ls: doc_name: No such file or directory\r\n"
     ]
    }
   ],
   "source": [
    "!ls doc_name"
   ]
  },
  {
   "cell_type": "code",
   "execution_count": null,
   "metadata": {
    "collapsed": true
   },
   "outputs": [],
   "source": [
    "'/Users/rhaggerty/remote/bills/tx/data/"
   ]
  },
  {
   "cell_type": "markdown",
   "metadata": {},
   "source": [
    "## Gettin' summaries"
   ]
  },
  {
   "cell_type": "code",
   "execution_count": 34,
   "metadata": {
    "collapsed": false
   },
   "outputs": [
    {
     "ename": "TypeError",
     "evalue": "'NoneType' object has no attribute '__getitem__'",
     "output_type": "error",
     "traceback": [
      "\u001b[0;31m---------------------------------------------------------------------------\u001b[0m",
      "\u001b[0;31mTypeError\u001b[0m                                 Traceback (most recent call last)",
      "\u001b[0;32m<ipython-input-34-21e69d29bcad>\u001b[0m in \u001b[0;36m<module>\u001b[0;34m()\u001b[0m\n\u001b[1;32m      9\u001b[0m     \u001b[0msoup\u001b[0m \u001b[0;34m=\u001b[0m \u001b[0mBeautifulSoup\u001b[0m\u001b[0;34m(\u001b[0m\u001b[0min_file\u001b[0m\u001b[0;34m,\u001b[0m \u001b[0;34m'html.parser'\u001b[0m\u001b[0;34m)\u001b[0m\u001b[0;34m\u001b[0m\u001b[0m\n\u001b[1;32m     10\u001b[0m     \u001b[0msummary\u001b[0m \u001b[0;34m=\u001b[0m \u001b[0msoup\u001b[0m\u001b[0;34m.\u001b[0m\u001b[0mfind\u001b[0m\u001b[0;34m(\u001b[0m\u001b[0mtext\u001b[0m\u001b[0;34m=\u001b[0m\u001b[0mre\u001b[0m\u001b[0;34m.\u001b[0m\u001b[0mcompile\u001b[0m\u001b[0;34m(\u001b[0m\u001b[0;34mr'relating.*\\.'\u001b[0m\u001b[0;34m,\u001b[0m \u001b[0mre\u001b[0m\u001b[0;34m.\u001b[0m\u001b[0mMULTILINE\u001b[0m\u001b[0;34m)\u001b[0m\u001b[0;34m)\u001b[0m\u001b[0;34m\u001b[0m\u001b[0m\n\u001b[0;32m---> 11\u001b[0;31m     \u001b[0;32mif\u001b[0m \u001b[0msummary\u001b[0m\u001b[0;34m[\u001b[0m\u001b[0;34m-\u001b[0m\u001b[0;36m1\u001b[0m\u001b[0;34m]\u001b[0m \u001b[0;34m==\u001b[0m \u001b[0;34m'.'\u001b[0m\u001b[0;34m:\u001b[0m\u001b[0;34m\u001b[0m\u001b[0m\n\u001b[0m\u001b[1;32m     12\u001b[0m         \u001b[0;32mprint\u001b[0m\u001b[0;34m(\u001b[0m\u001b[0msummary\u001b[0m\u001b[0;34m)\u001b[0m\u001b[0;34m\u001b[0m\u001b[0m\n\u001b[1;32m     13\u001b[0m     \u001b[0;32melse\u001b[0m\u001b[0;34m:\u001b[0m\u001b[0;34m\u001b[0m\u001b[0m\n",
      "\u001b[0;31mTypeError\u001b[0m: 'NoneType' object has no attribute '__getitem__'"
     ]
    }
   ],
   "source": [
    "# if ends in period, then:\n",
    "# summary = soup.find(text=re.compile('relating'))\n",
    "# summary\n",
    "# else get next line and append\n",
    "# summary.next_element.next_element.next_element.get_text()\n",
    "\n",
    "doc_name = '/Users/rhaggerty/remote/bills/tx/data/html/HB00002E.htm'\n",
    "with open(doc_name) as in_file:\n",
    "    soup = BeautifulSoup(in_file, 'html.parser')\n",
    "    summary = soup.find(text=re.compile(r'relating.*\\.', re.MULTILINE))\n",
    "    if summary[-1] == '.':\n",
    "    else:\n",
    "        next_line = (summary.next_element.next_element.next_element.get_text(\"\", strip=True))\n",
    "        full_summary = summary + next_line\n",
    "        print(full_summary)"
   ]
  },
  {
   "cell_type": "code",
   "execution_count": 92,
   "metadata": {
    "collapsed": false
   },
   "outputs": [],
   "source": [
    "#recursive function for getting title sentence\n",
    "def get_summary(line):\n",
    "    if line[-1] == \".\":\n",
    "        return line\n",
    "    else:\n",
    "#         return 'nothin'\n",
    "        line = line.next_element.next_element.next_element.get_text(\"\", strip=True)\n",
    "        return line + get_summary(line)\n",
    "        return line\n",
    "#     return line\n"
   ]
  },
  {
   "cell_type": "code",
   "execution_count": 93,
   "metadata": {
    "collapsed": false
   },
   "outputs": [
    {
     "name": "stdout",
     "output_type": "stream",
     "text": [
      "and the Texas State Board of Examiners of Psychologists from the\n"
     ]
    }
   ],
   "source": [
    "doc_name = '/Users/rhaggerty/remote/bills/tx/data/html/HB00002E.htm'\n",
    "with open(doc_name) as in_file:\n",
    "    soup = BeautifulSoup(in_file, 'html.parser')\n",
    "    full_summary = get_summary(summary)\n",
    "    print(full_summary)"
   ]
  },
  {
   "cell_type": "code",
   "execution_count": 174,
   "metadata": {
    "collapsed": false
   },
   "outputs": [
    {
     "ename": "KeyError",
     "evalue": "1",
     "output_type": "error",
     "traceback": [
      "\u001b[0;31m---------------------------------------------------------------------------\u001b[0m",
      "\u001b[0;31mKeyError\u001b[0m                                  Traceback (most recent call last)",
      "\u001b[0;32m<ipython-input-174-b7a66a7e11df>\u001b[0m in \u001b[0;36m<module>\u001b[0;34m()\u001b[0m\n\u001b[1;32m      5\u001b[0m \u001b[0;31m# summary.next_element.next_element.next_element)\u001b[0m\u001b[0;34m\u001b[0m\u001b[0;34m\u001b[0m\u001b[0m\n\u001b[1;32m      6\u001b[0m \u001b[0;31m# summary.next_element.next_element.next_element.get_text(\"\", strip=True)\u001b[0m\u001b[0;34m\u001b[0m\u001b[0;34m\u001b[0m\u001b[0m\n\u001b[0;32m----> 7\u001b[0;31m \u001b[0msummary\u001b[0m\u001b[0;34m.\u001b[0m\u001b[0mnext_element\u001b[0m\u001b[0;34m.\u001b[0m\u001b[0mnext_element\u001b[0m\u001b[0;34m.\u001b[0m\u001b[0mnext_element\u001b[0m\u001b[0;34m[\u001b[0m\u001b[0;36m1\u001b[0m\u001b[0;34m]\u001b[0m\u001b[0;34m\u001b[0m\u001b[0m\n\u001b[0m",
      "\u001b[0;32m/Library/Frameworks/Python.framework/Versions/2.7/lib/python2.7/site-packages/bs4/element.pyc\u001b[0m in \u001b[0;36m__getitem__\u001b[0;34m(self, key)\u001b[0m\n\u001b[1;32m   1009\u001b[0m         \"\"\"tag[key] returns the value of the 'key' attribute for the tag,\n\u001b[1;32m   1010\u001b[0m         and throws an exception if it's not there.\"\"\"\n\u001b[0;32m-> 1011\u001b[0;31m         \u001b[0;32mreturn\u001b[0m \u001b[0mself\u001b[0m\u001b[0;34m.\u001b[0m\u001b[0mattrs\u001b[0m\u001b[0;34m[\u001b[0m\u001b[0mkey\u001b[0m\u001b[0;34m]\u001b[0m\u001b[0;34m\u001b[0m\u001b[0m\n\u001b[0m\u001b[1;32m   1012\u001b[0m \u001b[0;34m\u001b[0m\u001b[0m\n\u001b[1;32m   1013\u001b[0m     \u001b[0;32mdef\u001b[0m \u001b[0m__iter__\u001b[0m\u001b[0;34m(\u001b[0m\u001b[0mself\u001b[0m\u001b[0;34m)\u001b[0m\u001b[0;34m:\u001b[0m\u001b[0;34m\u001b[0m\u001b[0m\n",
      "\u001b[0;31mKeyError\u001b[0m: 1"
     ]
    }
   ],
   "source": [
    "# for element in summary.next_elements:\n",
    "#     print(repr(element))\n",
    "# print(summary)\n",
    "# print(summary.next_element.next_element.next_element.get_text(\"\", strip=True))\n",
    "# summary.next_element.next_element.next_element)\n",
    "# summary.next_element.next_element.next_element.get_text(\"\", strip=True)\n",
    "summary.next_element.next_element.next_element[1]"
   ]
  },
  {
   "cell_type": "code",
   "execution_count": 167,
   "metadata": {
    "collapsed": false
   },
   "outputs": [
    {
     "name": "stdout",
     "output_type": "stream",
     "text": [
      "0 <td valign=\"top\" width=\"65\"> </td>\n",
      "1 <td colspan=\"2\" valign=\"top\" width=\"615\">85S11697 BEE-D</td>\n",
      "2 <td colspan=\"3\"> </td>\n",
      "3 <td valign=\"top\" width=\"65\"> </td>\n",
      "4 <td align=\"left\" valign=\"top\" width=\"450\">\r\n",
      "\t\tBy: Gonzales of Williamson</td>\n",
      "5 <td align=\"right\" valign=\"top\" width=\"165\">H.B. No. 2</td>\n",
      "6 <td colspan=\"3\"> </td>\n",
      "7 <td colspan=\"3\"> </td>\n",
      "8 <td valign=\"top\" width=\"65\">\n",
      "<meta contents=\"\" name=\"PGLN\"/> \t\t\r\n",
      "\t\t\t</td>\n",
      "9 <td align=\"center\" colspan=\"2\" valign=\"top\" width=\"615\">\n",
      "<center>A BILL TO BE ENTITLED</center>\n",
      "</td>\n",
      "10 <td valign=\"top\" width=\"65\">\n",
      "<meta contents=\"1-1\" name=\"PGLN\"/> \r\n",
      "\t\t\t</td>\n",
      "11 <td align=\"center\" colspan=\"2\" valign=\"top\" width=\"615\">\n",
      "<center>AN ACT</center>\n",
      "</td>\n",
      "12 <td valign=\"top\" width=\"65\">\n",
      "<meta contents=\"1-2\" name=\"PGLN\"/> \r\n",
      "\t\t\t</td>\n",
      "13 <td colspan=\"2\" valign=\"top\" width=\"615\">relating to the repeal of certain riders for the Texas Medical Board </td>\n",
      "14 <td valign=\"top\" width=\"65\">\n",
      "<meta contents=\"1-3\" name=\"PGLN\"/> \r\n",
      "\t\t\t</td>\n",
      "15 <td colspan=\"2\" valign=\"top\" width=\"615\">and the Texas State Board of Examiners of Psychologists from the </td>\n",
      "16 <td valign=\"top\" width=\"65\">\n",
      "<meta contents=\"1-4\" name=\"PGLN\"/> \r\n",
      "\t\t\t</td>\n",
      "17 <td colspan=\"2\" valign=\"top\" width=\"615\">General Appropriations Act that are contingent upon the approval of </td>\n",
      "18 <td valign=\"top\" width=\"65\">\n",
      "<meta contents=\"1-5\" name=\"PGLN\"/> \r\n",
      "\t\t\t</td>\n",
      "19 <td colspan=\"2\" valign=\"top\" width=\"615\">certain Acts continuing those agencies during the 85th Regular </td>\n",
      "20 <td valign=\"top\" width=\"65\">\n",
      "<meta contents=\"1-6\" name=\"PGLN\"/> \r\n",
      "\t\t\t</td>\n",
      "21 <td colspan=\"2\" valign=\"top\" width=\"615\">Session.</td>\n",
      "22 <td valign=\"top\" width=\"65\">\n",
      "<meta contents=\"1-7\" name=\"PGLN\"/> \r\n",
      "\t\t\t</td>\n",
      "23 <td colspan=\"2\" valign=\"top\" width=\"615\">       BE IT ENACTED BY THE LEGISLATURE OF THE STATE OF TEXAS:</td>\n",
      "24 <td valign=\"top\" width=\"65\">\n",
      "<meta contents=\"1-8\" name=\"PGLN\"/> \r\n",
      "\t\t\t</td>\n",
      "25 <td colspan=\"2\" valign=\"top\" width=\"615\">       SECTION 1.  The following riders to S.B. 1, Acts of the 85th </td>\n",
      "26 <td valign=\"top\" width=\"65\">\n",
      "<meta contents=\"1-9\" name=\"PGLN\"/> \r\n",
      "\t\t\t</td>\n",
      "27 <td colspan=\"2\" valign=\"top\" width=\"615\">Legislature, Regular Session, 2017 (the General Appropriations </td>\n",
      "28 <td valign=\"top\" width=\"65\">\n",
      "<meta contents=\"1-10\" name=\"PGLN\"/> \r\n",
      "\t\t\t</td>\n",
      "29 <td colspan=\"2\" valign=\"top\" width=\"615\">Act), are repealed:</td>\n",
      "30 <td valign=\"top\" width=\"65\">\n",
      "<meta contents=\"1-11\" name=\"PGLN\"/> \r\n",
      "\t\t\t</td>\n",
      "31 <td colspan=\"2\" valign=\"top\" width=\"615\">             (1)  Rider 6 following the appropriations to the Texas </td>\n",
      "32 <td valign=\"top\" width=\"65\">\n",
      "<meta contents=\"1-12\" name=\"PGLN\"/> \r\n",
      "\t\t\t</td>\n",
      "33 <td colspan=\"2\" valign=\"top\" width=\"615\">Medical Board (page VIII-35); and</td>\n",
      "34 <td valign=\"top\" width=\"65\">\n",
      "<meta contents=\"1-13\" name=\"PGLN\"/> \r\n",
      "\t\t\t</td>\n",
      "35 <td colspan=\"2\" valign=\"top\" width=\"615\">             (2)  Rider 2 following the appropriations to the Texas </td>\n",
      "36 <td valign=\"top\" width=\"65\">\n",
      "<meta contents=\"1-14\" name=\"PGLN\"/> \r\n",
      "\t\t\t</td>\n",
      "37 <td colspan=\"2\" valign=\"top\" width=\"615\">State Board of Examiners of Psychologists (page VIII-51).</td>\n",
      "38 <td valign=\"top\" width=\"65\">\n",
      "<meta contents=\"1-15\" name=\"PGLN\"/> \r\n",
      "\t\t\t</td>\n",
      "39 <td colspan=\"2\" valign=\"top\" width=\"615\">       SECTION 2.  This Act takes effect immediately if it receives </td>\n",
      "40 <td valign=\"top\" width=\"65\">\n",
      "<meta contents=\"1-16\" name=\"PGLN\"/> \r\n",
      "\t\t\t</td>\n",
      "41 <td colspan=\"2\" valign=\"top\" width=\"615\">a vote of two-thirds of all the members elected to each house, as </td>\n",
      "42 <td valign=\"top\" width=\"65\">\n",
      "<meta contents=\"1-17\" name=\"PGLN\"/> \r\n",
      "\t\t\t</td>\n",
      "43 <td colspan=\"2\" valign=\"top\" width=\"615\">provided by Section 39, Article III, Texas Constitution.  If this </td>\n",
      "44 <td valign=\"top\" width=\"65\">\n",
      "<meta contents=\"1-18\" name=\"PGLN\"/> \r\n",
      "\t\t\t</td>\n",
      "45 <td colspan=\"2\" valign=\"top\" width=\"615\">Act does not receive the vote necessary for immediate effect, this </td>\n",
      "46 <td valign=\"top\" width=\"65\">\n",
      "<meta contents=\"1-19\" name=\"PGLN\"/> \r\n",
      "\t\t\t</td>\n",
      "47 <td colspan=\"2\" valign=\"top\" width=\"615\">Act takes effect on the 91st day after the last day of the </td>\n",
      "48 <td valign=\"top\" width=\"65\">\n",
      "<meta contents=\"1-20\" name=\"PGLN\"/> \r\n",
      "\t\t\t</td>\n",
      "49 <td colspan=\"2\" valign=\"top\" width=\"615\">legislative session.</td>\n"
     ]
    }
   ],
   "source": [
    "# soup.find_all(text=re.compile('relating'))\n",
    "# soup.get_text(\"\", strip=True)\n",
    "# soup.find(text=re.compile('relating'))\n",
    "# for child in soup.td.children:\n",
    "#     print(child.name)\n",
    "\n",
    "# summary.next_sibling.next_sibling.next_sibling.next_sibling\n",
    "\n",
    "# soup = BeautifulSoup(html)\n",
    "tag = soup.findAll('td') #all \"td\" tag in a list\n",
    "# print(tag)\n",
    "for id, tg in enumerate(tag):# i want to go through each piece of TR and print out the values\n",
    "    print(id, tg)\n",
    "#     tag_a = tg[id].find('td')\n",
    "#     for st in tag_a: #to get string 1, string 2, etc\n",
    "# #         print(st.text[0]) #string 1\n",
    "#         print(st.text[1]) #string 2\n",
    "#         print(st.text[2]) #string 3\n",
    "# #         print st['href'] #/info/12345"
   ]
  },
  {
   "cell_type": "code",
   "execution_count": null,
   "metadata": {
    "collapsed": true
   },
   "outputs": [],
   "source": [
    "# def get_siblings_to_next_anchor(anchor):\n",
    "# \"\"\"Anchor Tag -> element list\n",
    "\n",
    "# Given an anchor element, returns all the nextSiblings elements up to\n",
    "# (but not including) the next anchor as a list of either Tags or\n",
    "# NavigatableStrings.\"\"\"\n",
    "\n",
    "#     elt = anchor.nextSibling\n",
    "#     results = []\n",
    "#     while (elt != None) and (not is_anchor(elt)):\n",
    "#         results.append(elt)\n",
    "#     elt = elt.nextSibling\n",
    "# return results\n",
    "\n",
    "\n",
    "# def is_anchor(elt):\n",
    "# \"\"\"element -> boolean\n",
    "# Returns true if the element is an anchor Tag.\"\"\"\n",
    "\n",
    "#     if isinstance(elt, NavigableString):\n",
    "#         return False\n",
    "#     else:\n",
    "#         return elt.name == 'a'"
   ]
  },
  {
   "cell_type": "code",
   "execution_count": 57,
   "metadata": {
    "collapsed": false
   },
   "outputs": [
    {
     "name": "stdout",
     "output_type": "stream",
     "text": [
      "/Users/rhaggerty/remote/bills/tx/data/html/HB00001E.htm relating to avoiding the abolishment of certain agencies subject to the Texas Sunset Act on September 1, 2017.\n",
      "/Users/rhaggerty/remote/bills/tx/data/html/HB00001H.htm relating to avoiding the abolishment of certain agencies subject to the Texas Sunset Act on September 1, 2017.\n",
      "/Users/rhaggerty/remote/bills/tx/data/html/HB00001I.htm relating to avoiding the abolishment of certain agencies subject to the Texas Sunset Act on September 1, 2017.\n"
     ]
    },
    {
     "ename": "AttributeError",
     "evalue": "'unicode' object has no attribute 'next_element'",
     "output_type": "error",
     "traceback": [
      "\u001b[0;31m---------------------------------------------------------------------------\u001b[0m",
      "\u001b[0;31mAttributeError\u001b[0m                            Traceback (most recent call last)",
      "\u001b[0;32m<ipython-input-57-ce2f72fe977d>\u001b[0m in \u001b[0;36m<module>\u001b[0;34m()\u001b[0m\n\u001b[1;32m      5\u001b[0m         \u001b[0msoup\u001b[0m \u001b[0;34m=\u001b[0m \u001b[0mBeautifulSoup\u001b[0m\u001b[0;34m(\u001b[0m\u001b[0min_file\u001b[0m\u001b[0;34m,\u001b[0m \u001b[0;34m'html.parser'\u001b[0m\u001b[0;34m)\u001b[0m\u001b[0;34m\u001b[0m\u001b[0m\n\u001b[1;32m      6\u001b[0m         \u001b[0msummary\u001b[0m \u001b[0;34m=\u001b[0m \u001b[0msoup\u001b[0m\u001b[0;34m.\u001b[0m\u001b[0mfind\u001b[0m\u001b[0;34m(\u001b[0m\u001b[0mtext\u001b[0m\u001b[0;34m=\u001b[0m\u001b[0mre\u001b[0m\u001b[0;34m.\u001b[0m\u001b[0mcompile\u001b[0m\u001b[0;34m(\u001b[0m\u001b[0;34m'relating'\u001b[0m\u001b[0;34m)\u001b[0m\u001b[0;34m)\u001b[0m\u001b[0;34m\u001b[0m\u001b[0m\n\u001b[0;32m----> 7\u001b[0;31m         \u001b[0mfull_summary\u001b[0m \u001b[0;34m=\u001b[0m \u001b[0mget_summary\u001b[0m\u001b[0;34m(\u001b[0m\u001b[0msummary\u001b[0m\u001b[0;34m)\u001b[0m\u001b[0;34m\u001b[0m\u001b[0m\n\u001b[0m\u001b[1;32m      8\u001b[0m         \u001b[0;32mprint\u001b[0m\u001b[0;34m(\u001b[0m\u001b[0mdoc_name\u001b[0m\u001b[0;34m,\u001b[0m \u001b[0mfull_summary\u001b[0m\u001b[0;34m)\u001b[0m\u001b[0;34m\u001b[0m\u001b[0m\n\u001b[1;32m      9\u001b[0m \u001b[0;31m#     summary_list.append(full_summary)\u001b[0m\u001b[0;34m\u001b[0m\u001b[0;34m\u001b[0m\u001b[0m\n",
      "\u001b[0;32m<ipython-input-52-1203b9962f35>\u001b[0m in \u001b[0;36mget_summary\u001b[0;34m(line)\u001b[0m\n\u001b[1;32m     32\u001b[0m     \u001b[0;32melse\u001b[0m\u001b[0;34m:\u001b[0m\u001b[0;34m\u001b[0m\u001b[0m\n\u001b[1;32m     33\u001b[0m         \u001b[0mnext_line\u001b[0m \u001b[0;34m=\u001b[0m \u001b[0;34m(\u001b[0m\u001b[0mline\u001b[0m\u001b[0;34m.\u001b[0m\u001b[0mnext_element\u001b[0m\u001b[0;34m.\u001b[0m\u001b[0mnext_element\u001b[0m\u001b[0;34m.\u001b[0m\u001b[0mnext_element\u001b[0m\u001b[0;34m.\u001b[0m\u001b[0mget_text\u001b[0m\u001b[0;34m(\u001b[0m\u001b[0;34m\"\"\u001b[0m\u001b[0;34m,\u001b[0m \u001b[0mstrip\u001b[0m\u001b[0;34m=\u001b[0m\u001b[0mTrue\u001b[0m\u001b[0;34m)\u001b[0m\u001b[0;34m)\u001b[0m\u001b[0;34m\u001b[0m\u001b[0m\n\u001b[0;32m---> 34\u001b[0;31m         \u001b[0;32mreturn\u001b[0m \u001b[0mline\u001b[0m \u001b[0;34m+\u001b[0m \u001b[0mget_summary\u001b[0m\u001b[0;34m(\u001b[0m\u001b[0mnext_line\u001b[0m\u001b[0;34m)\u001b[0m\u001b[0;34m\u001b[0m\u001b[0m\n\u001b[0m\u001b[1;32m     35\u001b[0m     \u001b[0;32mreturn\u001b[0m \u001b[0mline\u001b[0m\u001b[0;34m\u001b[0m\u001b[0m\n",
      "\u001b[0;32m<ipython-input-52-1203b9962f35>\u001b[0m in \u001b[0;36mget_summary\u001b[0;34m(line)\u001b[0m\n\u001b[1;32m     31\u001b[0m         \u001b[0;32mreturn\u001b[0m \u001b[0mline\u001b[0m\u001b[0;34m\u001b[0m\u001b[0m\n\u001b[1;32m     32\u001b[0m     \u001b[0;32melse\u001b[0m\u001b[0;34m:\u001b[0m\u001b[0;34m\u001b[0m\u001b[0m\n\u001b[0;32m---> 33\u001b[0;31m         \u001b[0mnext_line\u001b[0m \u001b[0;34m=\u001b[0m \u001b[0;34m(\u001b[0m\u001b[0mline\u001b[0m\u001b[0;34m.\u001b[0m\u001b[0mnext_element\u001b[0m\u001b[0;34m.\u001b[0m\u001b[0mnext_element\u001b[0m\u001b[0;34m.\u001b[0m\u001b[0mnext_element\u001b[0m\u001b[0;34m.\u001b[0m\u001b[0mget_text\u001b[0m\u001b[0;34m(\u001b[0m\u001b[0;34m\"\"\u001b[0m\u001b[0;34m,\u001b[0m \u001b[0mstrip\u001b[0m\u001b[0;34m=\u001b[0m\u001b[0mTrue\u001b[0m\u001b[0;34m)\u001b[0m\u001b[0;34m)\u001b[0m\u001b[0;34m\u001b[0m\u001b[0m\n\u001b[0m\u001b[1;32m     34\u001b[0m         \u001b[0;32mreturn\u001b[0m \u001b[0mline\u001b[0m \u001b[0;34m+\u001b[0m \u001b[0mget_summary\u001b[0m\u001b[0;34m(\u001b[0m\u001b[0mnext_line\u001b[0m\u001b[0;34m)\u001b[0m\u001b[0;34m\u001b[0m\u001b[0m\n\u001b[1;32m     35\u001b[0m     \u001b[0;32mreturn\u001b[0m \u001b[0mline\u001b[0m\u001b[0;34m\u001b[0m\u001b[0m\n",
      "\u001b[0;31mAttributeError\u001b[0m: 'unicode' object has no attribute 'next_element'"
     ]
    }
   ],
   "source": [
    "summary_list = []\n",
    "for doc_name in glob.glob(local_dir + 'html/*.htm'):\n",
    "    bill_no = doc_name.split('/')[-1].rstrip('.htm')\n",
    "    with open(doc_name) as in_file:\n",
    "        soup = BeautifulSoup(in_file, 'html.parser')\n",
    "        summary = soup.find(text=re.compile('relating'))\n",
    "        full_summary = get_summary(summary)\n",
    "        print(doc_name, full_summary)\n",
    "#     summary_list.append(full_summary)\n",
    "# print(summary_list)\n",
    "#def fib(n):\n",
    "#     if n > 1:\n",
    "#         return fib(n-1) + fib(n-2)\n",
    "#     return n\n",
    "\n",
    "# for i in range (20):\n",
    "#     print i, fib(i)"
   ]
  },
  {
   "cell_type": "code",
   "execution_count": 36,
   "metadata": {
    "collapsed": false
   },
   "outputs": [
    {
     "name": "stdout",
     "output_type": "stream",
     "text": [
      "[None, None, None, None, None, None, u'relating to ad valorem taxation; authorizing fees.', None, None, None, u'relating to municipal annexation.', None, None, None, None, u'collecting accurate information relating to maternal mortality.', u'collecting accurate information relating to maternal mortality.', None, u'relating to maternal morbidity and pregnancy-related deaths.', u'relating to maternal morbidity and pregnancy-related deaths.', u'relating to maternal morbidity and pregnancy-related deaths.', None, None, None, None, None, None, None, None, None, None, None, None, None, None, None, None, None, None, None, None, None, None, None, None, u'relating to the public school finance system.', None, u'relating to the public school finance system.', u'relating to the public school finance system.', u'relating to the public school finance system.', None, None, None, None, None, None, None, None, None, None, u'relating to the regulation of groundwater.', u'relating to the regulation of groundwater.', u'relating to the regulation of groundwater.', u'relating to the development of brackish groundwater.', u'relating to the development of brackish groundwater.', u'relating to the development of brackish groundwater.', None, None, None, u'relating to pregnancy information on death certificates.', None, None, None, None, None, None, u'relating to property described by Section 6.425(b) to a special ', u'relating to property described by Section 6.425(b) to a special ', u'relating to property described by Section 6.425(b) to a special ', u'relating to property described by Section 6.425(b) to a special ', None, None, None, None, None, None, u'information relating to or described by Subsection (f).\\xa0\\xa0The ', None, None, None, None, None, u'relating to the regulation of discrimination by school districts.', None, None, None, None, None, None, None, None, u'relating to maternal morbidity and pregnancy-related deaths.', None, None, None, None, None, None, None, None, None, None, None, u\"relating to a property owner's right to remove a tree or vegetation.\", None, None, None, None, None, None, None, None, None, None, None, None, None, None, None, None, None, None, None, None, None, None, None, None, None, None, None, None, None, None, None, None, None, None, None, None, None, None, None, None, u'relating to the disposal of pesticides.', u'relating to the disposal of pesticides.', None, u'relating to the minimum wage.', u'relating to the licensing and regulation of a journeyman lineman.', None, None, None, None, None, None, None, None, None, None, None, None, None, None, None, None, None, None, None, None, None, None, None, None, None, u'relating to open-enrollment charter schools.', None, None, None, None, None, None, None, None, None, u'relating to the election of trustees of certain school districts.', u'relating to the minimum wage.', None, None, None, None, None, None, None, None, None, u'relating to a strategic plan to address postpartum depression.', None, u'relating to social work services in public schools.', u'relating to social work services in public schools.', None, None, None, None, None, None, None, None, None, None, None, None, None, None, None, None, None, None, u'information relating to or described by Subsection (f).\\xa0\\xa0The ', None, None, None, u'relating to the issuance of a permit by a political subdivision.', None, None, None, None, None, None, None, None, None, None, None, None, None, None, None, None, None, None, None, None, None, None, None, None, None, None, None, u'relating to the persons authorized to make an anatomical gift.', None, None, None, None, None, None, None, None, None, None, None, None, None, None, None, u'relating to compliance with this section.', None, None, None, None, None, None, None, None, u'relating to a limit on local government expenditures.', None, None, None, None, None, None, u'relating to electronic voter registration.', None, None, None, None, None, None, None, None, None, None, None, None, None, None, None, None, u'relating to motor vehicle size and weight limitations.', None, None, None, None, u'relating to the state and regional water planning process.', u'relating to the state and regional water planning process.', None, None, None, None, None, None, None, None, None, None, None, None, None, None, u'relating to straight-party voting.', None, None, None, None, None, None, None, None, None, None, None, u'relating to pregnancy information on death certificates.', u'relating to additional state aid for certain school districts.', None, None, None, None, None, None, None, None, None, u'relating to the public school finance system.', None, None, None, None, None, None, None, None, None, None, None, None, None, None, None, None, None, None, None, None, None, None, None, None, None, None, None, None, None, None, None, None, None, None, None, None, None, u'relating to the collection of consumer debt by debt buyers.', None, None, u'relating to the early voting period.', u'adaptation relating to hazards associated with sea level rise.', None, None, None, None, None, None, None, None, None, None, None, None, None, None, u'relating to certain sentencing procedures in a capital case.', None, None, None, None, None, u'\\xa0\\xa0\\xa0\\xa0\\xa0\\xa0\\xa0\\xa0\\xa0\\xa0\\xa0\\xa0\\xa0\\xa0\\xa0\\xa0\\xa0\\xa0\\xa0(B)\\xa0\\xa0information relating to a traffic offense.', None, u'relating to the sunset review of the Legislative Budget Board.', None, None, None, None, u'relating to the sunset review of the Red River Authority of Texas.', None, None, None, None, None, None, None, u'relating to emergency health care services and trauma care systems.', u'relating to maternal health care.', None, None, None, None, u'relating to grand jury proceedings.', None, None, None, None, u'relating to the burden of proof in certain ad valorem tax appeals.', None, None, u'relating to autism.', u'relating to voting by mail and assistance provided to a voter.', u'relating to cybersecurity for voting systems.', None, None, None, None, u'relating to government transparency and operations.', None, None, None, None, None, None, None, u'relating to the public school finance system.', None, None, None, None, None, None, None, None, None, u'relating to regulation of certain credit services organizations.', None, None, None, None, None, u'relating to the establishment of maternal health access zones.', u'relating to the creation of the attendance credit receipts fund.', None, None, None, None, None, u'relating to signs along certain roads in Hays County.', None, u'relating to the release of certain voter registration information.', None, None, None, None, None, None, None, None, u'relating to motor vehicle booting.', None, None, None, None, None, None, u'and information relating to the enforcement of this chapter.', u'relating to grand jury proceedings; providing a criminal penalty.', None, None]\n"
     ]
    }
   ],
   "source": [
    "summary_list = []\n",
    "summary_dict = {}\n",
    "for doc_name in glob.glob(local_dir + 'html/*.htm'):\n",
    "    bill_no = doc_name.split('/')[-1].rstrip('.htm')\n",
    "    with open(doc_name) as in_file:\n",
    "        soup = BeautifulSoup(in_file, 'html.parser')\n",
    "        title_line = soup.find(text=re.compile(r'relating.*\\.', re.MULTILINE))\n",
    "#         if title_line is not None:\n",
    "#             if title_line[-1] == '.':\n",
    "#                 summary = title_line\n",
    "# #             print(title_line)\n",
    "#             else:\n",
    "#                 next_line = (title_line.next_element.next_element.next_element.get_text(\"\", strip=True))\n",
    "#                     if next_line[-1] == '.':\n",
    "#                         summary = title_line + next_line\n",
    "#                     else: \n",
    "    summary_list.append(title_line)\n",
    "print(summary_list)"
   ]
  },
  {
   "cell_type": "code",
   "execution_count": 32,
   "metadata": {
    "collapsed": false
   },
   "outputs": [
    {
     "name": "stdout",
     "output_type": "stream",
     "text": [
      "{'HB00197I': None, 'HB00284I': None, 'HB00233I': None, 'HB00105I': u'relating to the minimum wage.', 'HB00150I': None, 'HB00058I': None, 'HB00111H': None, 'HB00005I': None, 'HB00042I': None, 'HB00372I': None, 'HB00331H': None, 'HB00198H': None, 'HB00198I': u'relating to compliance with this section.', 'HB00263I': None, 'HB00159I': None, 'HB00350I': None, 'HB00220I': None, 'HB00315I': None, 'HB00201I': None, 'HB00266I': None, 'HB00177I': None, 'HB00180I': None, 'HB00293I': None, 'HB00283I': None, 'HB00111I': None, 'HB00238I': None, 'HB00157I': None, 'HB00157H': None, 'HB00349I': None, 'HB00118I': None, 'HB00355I': u'relating to the public school finance system.', 'HB00045I': u'information relating to or described by Subsection (f).\\xa0\\xa0The ', 'HB00312I': None, 'HB00365I': u'relating to regulation of certain credit services organizations.', 'HB00187H': None, 'HB00187I': None, 'HB00270I': None, 'HB00064I': None, 'HB00323I': None, 'HB00012I': None, 'HB00333I': None, 'HB00383I': None, 'HB00169I': None, 'HB00232H': None, 'HB00123I': None, 'HB00298I': None, 'HB00083I': None, 'HB00334I': None, 'HB00160I': u'information relating to or described by Subsection (f).\\xa0\\xa0The ', 'HB00332I': u'relating to grand jury proceedings.', 'HB00073I': None, 'HB00022H': None, 'HB00022I': None, 'HB00063I': None, 'HB00390I': None, 'HB00252I': None, 'HB00244I': None, 'HB00090I': None, 'HB00369I': u'relating to the establishment of maternal health access zones.', 'HB00296I': None, 'HB00178I': None, 'HB00183I': None, 'HB00274I': None, 'HB00139I': None, 'HB00142I': None, 'HB00193I': None, 'HB00280I': None, 'HB00001E': None, 'HB00101I': None, 'HB00154I': None, 'HB00054I': None, 'HB00001I': None, 'HB00001H': None, 'HB00356I': None, 'HB00046I': None, 'HB00360I': None, 'HB00078I': None, 'HB00376I': None, 'HB00149H': None, 'HB00149I': None, 'HB00236I': None, 'HB00194I': None, 'HB00342I': u'relating to cybersecurity for voting systems.', 'HB00211I': None, 'HB00389I': None, 'HB00319I': None, 'HB00173I': None, 'HB00130H': None, 'HB00130I': None, 'HB00304I': None, 'HB00218I': None, 'HB00316I': u'\\xa0\\xa0\\xa0\\xa0\\xa0\\xa0\\xa0\\xa0\\xa0\\xa0\\xa0\\xa0\\xa0\\xa0\\xa0\\xa0\\xa0\\xa0\\xa0(B)\\xa0\\xa0information relating to a traffic offense.', 'HB00206I': u'relating to a limit on local government expenditures.', 'HB00076I': None, 'HB00094I': None, 'HB00060H': None, 'HB00060I': None, 'HB00016I': None, 'HB00016H': None, 'HB00241I': None, 'HB00028H': None, 'HB00028I': None, 'HB00326I': None, 'HB00326H': None, 'HB00028E': None, 'HB00224I': None, 'HB00116I': None, 'HB00006I': u'relating to municipal annexation.', 'HB00030S': None, 'HB00164I': u'relating to the issuance of a permit by a political subdivision.', 'HB00030I': None, 'HB00030H': None, 'HB00388I': None, 'HB00026E': u'relating to the regulation of groundwater.', 'HB00026H': u'relating to the regulation of groundwater.', 'HB00026I': u'relating to the regulation of groundwater.', 'HB00030E': None, 'HB00030F': None, 'HB00386I': None, 'HB00264I': None, 'HB00394I': None, 'HB00256I': None, 'HB00248I': u'relating to additional state aid for certain school districts.', 'HB00147I': None, 'HB00214I': None, 'HB00129E': None, 'HB00202I': None, 'HB00214E': None, 'HB00129I': None, 'HB00292I': None, 'HB00214F': None, 'HB00366I': None, 'HB00146I': None, 'HB00392I': u'relating to grand jury proceedings; providing a criminal penalty.', 'HB00214S': None, 'HB00348I': None, 'HB00050I': u'relating to the regulation of discrimination by school districts.', 'HB00352I': None, 'HB00313I': None, 'HB00364I': None, 'HB00186I': u'relating to the persons authorized to make an anatomical gift.', 'HB00273I': None, 'HB00011H': None, 'HB00011I': None, 'HB00330I': None, 'HB00359I': None, 'HB00346I': None, 'HB00011E': None, 'HB00309I': None, 'HB00378I': None, 'HB00051I': None, 'HB00126I': None, 'HB00084I': None, 'HB00134I': None, 'HB00339I': None, 'HB00341I': u'relating to voting by mail and assistance provided to a voter.', 'HB00196I': None, 'HB00300I': None, 'HB00048I': None, 'HB00033H': None, 'HB00033I': None, 'HB00072I': None, 'HB00072H': None, 'HB00023I': None, 'HB00023H': None, 'HB00385I': u'relating to motor vehicle booting.', 'HB00023E': None, 'HB00391I': u'and information relating to the enforcement of this chapter.', 'HB00251I': None, 'HB00245I': None, 'HB00093H': None, 'HB00093I': None, 'HB00285I': None, 'HB00232I': None, 'HB00190I': None, 'HB00104I': None, 'HB00151I': None, 'HB00228H': None, 'HB00228I': None, 'HB00112I': None, 'HB00002H': None, 'HB00002I': None, 'HB00002E': None, 'HB00043I': None, 'HB00168H': None, 'HB00379I': None, 'HB00363I': None, 'HB00373I': None, 'HB00382I': None, 'HB00199I': None, 'HB00235I': None, 'HB00260I': None, 'HB00221I': u'relating to motor vehicle size and weight limitations.', 'HB00345I': None, 'HB00210I': None, 'HB00125I': u'relating to open-enrollment charter schools.', 'HB00170I': None, 'HB00131I': None, 'HB00288I': None, 'HB00109I': None, 'HB00307I': None, 'HB00217I': None, 'HB00317I': None, 'HB00065I': None, 'HB00322I': u'relating to the sunset review of the Red River Authority of Texas.', 'HB00015H': None, 'HB00015I': None, 'HB00122I': None, 'HB00080H': None, 'HB00080I': None, 'HB00335I': None, 'HB00080E': None, 'HB00107I': None, 'HB00225I': None, 'HB00007F': None, 'HB00007E': None, 'HB00297I': None, 'HB00117I': None, 'HB00007I': None, 'HB00007S': None, 'HB00167I': None, 'HB00027I': u'relating to the development of brackish groundwater.', 'HB00027H': u'relating to the development of brackish groundwater.', 'HB00279I': None, 'HB00068I': None, 'HB00265I': None, 'HB00351I': None, 'HB00192E': None, 'HB00222I': None, 'HB00255I': None, 'HB00275E': None, 'HB00249I': None, 'HB00207I': None, 'HB00179I': None, 'HB00179H': None, 'HB00182I': None, 'HB00295I': u'adaptation relating to hazards associated with sea level rise.', 'HB00179E': None, 'HB00277H': None, 'HB00277I': None, 'HB00281I': None, 'HB00141I': None, 'HB00100I': None, 'HB00155I': None, 'HB00155H': None, 'HB00155E': None, 'HB00057I': None, 'HB00367E': None, 'HB00357I': None, 'HB00047I': None, 'HB00047H': None, 'HB00208H': None, 'HB00208I': None, 'HB00189I': None, 'HB00377I': u'relating to the release of certain voter registration information.', 'HB00148I': None, 'HB00195I': None, 'HB00231I': None, 'HB00010I': u'relating to maternal morbidity and pregnancy-related deaths.', 'HB00010H': u'relating to maternal morbidity and pregnancy-related deaths.', 'HB00331I': None, 'HB00214H': None, 'HB00331E': None, 'HB00010E': u'relating to maternal morbidity and pregnancy-related deaths.', 'HB00308I': None, 'HB00121I': None, 'HB00085I': None, 'HB00135I': None, 'HB00340I': u'relating to autism.', 'HB00020E': None, 'HB00075I': None, 'HB00020H': None, 'HB00020I': None, 'HB00097I': None, 'HB00061I': None, 'HB00019H': None, 'HB00019I': None, 'HB00174I': None, 'HB00242I': None, 'HB00029I': u'relating to pregnancy information on death certificates.', 'HB00325I': None, 'HB00272I': None, 'HB00272H': None, 'HB00191I': None, 'HB00286I': None, 'HB00268I': None, 'HB00103H': u'relating to the disposal of pesticides.', 'HB00103I': u'relating to the disposal of pesticides.', 'HB00152I': None, 'HB00229I': None, 'HB00229H': None, 'HB00113I': None, 'HB00003I': u'relating to ad valorem taxation; authorizing fees.', 'HB00393I': None, 'HB00362I': None, 'HB00374H': None, 'HB00374I': None, 'HB00234I': None, 'HB00329I': u'relating to maternal health care.', 'HB00261I': None, 'HB00226H': u'relating to the state and regional water planning process.', 'HB00226I': u'relating to the state and regional water planning process.', 'HB00259I': None, 'HB00303I': None, 'HB00213I': None, 'HB00203I': None, 'HB00128I': None, 'HB00175I': None, 'HB00291I': u'relating to the collection of consumer debt by debt buyers.', 'HB00132I': u'relating to the election of trustees of certain school districts.', 'HB00145H': u'relating to social work services in public schools.', 'HB00145I': u'relating to social work services in public schools.', 'HB00119I': None, 'HB00053I': None, 'HB00353I': None, 'HB00310I': u'relating to certain sentencing procedures in a capital case.', 'HB00204H': None, 'HB00204I': None, 'HB00185I': None, 'HB00092I': None, 'HB00092H': None, 'HB00066I': None, 'HB00088I': None, 'HB00014I': None, 'HB00014H': None, 'HB00081I': None, 'HB00336I': None, 'HB00114I': None, 'HB00032E': u'relating to property described by Section 6.425(b) to a special ', 'HB00162I': None, 'HB00032I': u'relating to property described by Section 6.425(b) to a special ', 'HB00032H': u'relating to property described by Section 6.425(b) to a special ', 'HB00032S': u'relating to property described by Section 6.425(b) to a special ', 'HB00071I': None, 'HB00024H': None, 'HB00024I': None, 'HB00384I': None, 'HB00384H': None, 'HB00027E': u'relating to the development of brackish groundwater.', 'HB00250I': None, 'HB00246I': None, 'HB00314I': None, 'HB00200I': None, 'HB00129H': None, 'HB00294I': u'relating to the early voting period.', 'HB00176I': None, 'HB00181I': None, 'HB00276I': None, 'HB00140I': None, 'HB00282I': None, 'HB00239H': None, 'HB00239I': None, 'HB00239E': None, 'HB00156I': None, 'HB00056I': None, 'HB00354I': None, 'HB00044I': None, 'HB00209I': None, 'HB00188I': None, 'HB00371I': None, 'HB00271I': None, 'HB00230I': None, 'HB00230H': None, 'HB00344I': None, 'HB00370I': u'relating to the creation of the attendance credit receipts fund.', 'HB00059I': u'relating to maternal morbidity and pregnancy-related deaths.', 'HB00124I': None, 'HB00124H': None, 'HB00171I': None, 'HB00381I': None, 'HB00108E': None, 'HB00086I': None, 'HB00136I': None, 'HB00289I': None, 'HB00108I': None, 'HB00108H': None, 'HB00306I': None, 'HB00216I': None, 'HB00161I': None, 'HB00074E': None, 'HB00021F': None, 'HB00021E': u'relating to the public school finance system.', 'HB00074I': None, 'HB00074H': None, 'HB00021I': u'relating to the public school finance system.', 'HB00021H': u'relating to the public school finance system.', 'HB00096I': None, 'HB00096H': None, 'HB00021S': u'relating to the public school finance system.', 'HB00062I': None, 'HB00018I': None, 'HB00018H': None, 'HB00253I': None, 'HB00243I': None, 'HB00091I': None, 'HB00106I': u'relating to the licensing and regulation of a journeyman lineman.', 'HB00321I': None, 'HB00110H': None, 'HB00110I': None, 'HB00004H': None, 'HB00004I': None, 'HB00166I': None, 'HB00278I': None, 'HB00380I': None, 'HB00069I': None, 'HB00262I': None, 'HB00158I': None, 'HB00223I': None, 'HB00254I': None, 'HB00368I': None, 'HB00302I': None, 'HB00212I': u'relating to electronic voter registration.', 'HB00318I': u'relating to the sunset review of the Legislative Budget Board.', 'HB00290I': None, 'HB00172I': None, 'HB00133I': u'relating to the minimum wage.', 'HB00144I': None, 'HB00052I': None, 'HB00305I': None, 'HB00219I': None, 'HB00311I': None, 'HB00205I': None, 'HB00324I': None, 'HB00324H': None, 'HB00013H': None, 'HB00013I': None, 'HB00013F': None, 'HB00320I': None, 'HB00013E': None, 'HB00013S': None, 'HB00098I': None, 'HB00098H': None, 'HB00120I': None, 'HB00299I': None, 'HB00082I': None, 'HB00343I': None, 'HB00258I': u'relating to the public school finance system.', 'HB00165E': None, 'HB00115I': None, 'HB00115H': None, 'HB00009I': None, 'HB00009H': u'collecting accurate information relating to maternal mortality.', 'HB00009E': u'collecting accurate information relating to maternal mortality.', 'HB00165H': None, 'HB00165I': None, 'HB00115E': None, 'HB00031I': None, 'HB00070I': u\"relating to a property owner's right to remove a tree or vegetation.\", 'HB00025I': None, 'HB00025H': None, 'HB00025E': None, 'HB00387H': None, 'HB00387I': None, 'HB00267I': None, 'HB00168I': None, 'HB00163I': None, 'HB00257I': None, 'HB00247I': u'relating to pregnancy information on death certificates.', 'HB00328I': u'relating to emergency health care services and trauma care systems.', 'HB00184I': None, 'HB00184H': None, 'HB00275H': None, 'HB00275I': None, 'HB00138I': None, 'HB00287I': None, 'HB00143I': u'relating to a strategic plan to address postpartum depression.', 'HB00192H': None, 'HB00192I': None, 'HB00269I': None, 'HB00102I': None, 'HB00153I': None, 'HB00055I': None, 'HB00041I': None, 'HB00361I': None, 'HB00079I': None, 'HB00375I': u'relating to signs along certain roads in Hays County.', 'HB00237I': u'relating to straight-party voting.', 'HB00227I': None, 'HB00290H': None, 'HB00337I': u'relating to the burden of proof in certain ad valorem tax appeals.', 'HB00367H': None, 'HB00347I': u'relating to government transparency and operations.', 'HB00367I': None, 'HB00127I': None, 'HB00087I': None, 'HB00215S': None, 'HB00137I': None, 'HB00338I': None, 'HB00215F': None, 'HB00049I': None, 'HB00215E': None, 'HB00301I': None, 'HB00215H': None, 'HB00215I': None, 'HB00077I': None, 'HB00358I': None, 'HB00095I': None, 'HB00067I': None, 'HB00089I': None, 'HB00320H': None, 'HB00017H': None, 'HB00017I': None, 'HB00240I': None, 'HB00327I': None}\n"
     ]
    }
   ],
   "source": [
    "summary_list = []\n",
    "bill_no_list = []\n",
    "summary_dict = {}\n",
    "for doc_name in glob.glob(local_dir + 'html/*.htm'):\n",
    "    bill_no = doc_name.split('/')[-1].rstrip('.htm')\n",
    "    with open(doc_name) as in_file:\n",
    "        soup = BeautifulSoup(in_file, 'html.parser')\n",
    "        summary = soup.find(text=re.compile(r'relating.*\\.', re.MULTILINE))\n",
    "    summary_list.append(summary)\n",
    "    bill_no_list.append(bill_no)\n",
    "bill_summaries = zip(bill_no_list, summary_list)\n",
    "for bill, summary in bill_summaries:\n",
    "    summary_dict[bill] = summary\n",
    "print(summary_dict)"
   ]
  },
  {
   "cell_type": "code",
   "execution_count": 241,
   "metadata": {
    "collapsed": false
   },
   "outputs": [
    {
     "data": {
      "text/plain": [
       "{u'abolition',\n",
       " u'actions',\n",
       " u'ad',\n",
       " u'adjustment',\n",
       " u'administration',\n",
       " u'adoption',\n",
       " u'applicability',\n",
       " u'appropriation',\n",
       " u'authority',\n",
       " u'authorizing',\n",
       " u'automatic',\n",
       " u'avoiding',\n",
       " u'calculation',\n",
       " u'compensation',\n",
       " u'conflicts',\n",
       " u'constitutional',\n",
       " u'cost-of-living',\n",
       " u'dedicating',\n",
       " u'development',\n",
       " u'disclosure',\n",
       " u'early',\n",
       " u'eligibility',\n",
       " u'establishment',\n",
       " u'ethics',\n",
       " u'exemption',\n",
       " u'extension',\n",
       " u'extraterritorial',\n",
       " u'funding',\n",
       " u'general',\n",
       " u'grant',\n",
       " u'limitation',\n",
       " u'lobbying',\n",
       " u'making',\n",
       " u'maternal',\n",
       " u'membership',\n",
       " u'municipal',\n",
       " u'number',\n",
       " u'opportunity',\n",
       " u'optional',\n",
       " u'oversight',\n",
       " u'pregnancy',\n",
       " u'pregnancy-related',\n",
       " u'prevention',\n",
       " u'prohibited',\n",
       " u'prohibiting',\n",
       " u'property',\n",
       " u'public',\n",
       " u'receipt',\n",
       " u'regulation',\n",
       " u'reimbursement',\n",
       " u'release',\n",
       " u'repeal',\n",
       " u'reporting',\n",
       " u'requiring',\n",
       " u'restrictions',\n",
       " u'salary',\n",
       " u'school',\n",
       " u'selection',\n",
       " u'signature',\n",
       " u'supplemental',\n",
       " u'transfer',\n",
       " u'transferring',\n",
       " u'transportation',\n",
       " u'tree',\n",
       " u'use'}"
      ]
     },
     "execution_count": 241,
     "metadata": {},
     "output_type": "execute_result"
    }
   ],
   "source": [
    "clean_summary = []\n",
    "for summ in summary_list:\n",
    "    if summ is not None:\n",
    "        clean = re.sub(r'relating to', ' ', summ)\n",
    "        words = clean.split()\n",
    "        non_stop = [w for w in words if not w in stopwords.words(\"english\")]\n",
    "#         print(non_stop)\n",
    "    clean_summary.append(non_stop)\n",
    "#     print(clean)\n",
    "word_set = set([i[0] for i in clean_summary])\n",
    "word_set"
   ]
  },
  {
   "cell_type": "code",
   "execution_count": 242,
   "metadata": {
    "collapsed": false
   },
   "outputs": [
    {
     "data": {
      "text/plain": [
       "[u'avoiding',\n",
       " u'avoiding',\n",
       " u'avoiding',\n",
       " u'repeal',\n",
       " u'repeal',\n",
       " u'funding',\n",
       " u'ad',\n",
       " u'calculation',\n",
       " u'calculation',\n",
       " u'limitation',\n",
       " u'municipal',\n",
       " u'tree',\n",
       " u'municipal',\n",
       " u'municipal',\n",
       " u'tree',\n",
       " u'municipal',\n",
       " u'maternal',\n",
       " u'maternal',\n",
       " u'maternal',\n",
       " u'maternal',\n",
       " u'maternal',\n",
       " u'maternal',\n",
       " u'pregnancy-related',\n",
       " u'pregnancy-related',\n",
       " u'pregnancy-related',\n",
       " u'general',\n",
       " u'reporting',\n",
       " u'reporting',\n",
       " u'reporting',\n",
       " u'reporting',\n",
       " u'reporting',\n",
       " u'prohibiting',\n",
       " u'prohibiting',\n",
       " u'lobbying',\n",
       " u'lobbying',\n",
       " u'ethics',\n",
       " u'ethics',\n",
       " u'disclosure',\n",
       " u'disclosure',\n",
       " u'conflicts',\n",
       " u'conflicts',\n",
       " u'making',\n",
       " u'making',\n",
       " u'appropriation',\n",
       " u'appropriation',\n",
       " u'appropriation',\n",
       " u'public',\n",
       " u'public',\n",
       " u'public',\n",
       " u'public',\n",
       " u'public',\n",
       " u'extension',\n",
       " u'extension',\n",
       " u'grant',\n",
       " u'grant',\n",
       " u'grant',\n",
       " u'salary',\n",
       " u'salary',\n",
       " u'reimbursement',\n",
       " u'reimbursement',\n",
       " u'reimbursement',\n",
       " u'regulation',\n",
       " u'regulation',\n",
       " u'regulation',\n",
       " u'development',\n",
       " u'development',\n",
       " u'development',\n",
       " u'membership',\n",
       " u'membership',\n",
       " u'membership',\n",
       " u'pregnancy',\n",
       " u'making',\n",
       " u'transfer',\n",
       " u'making',\n",
       " u'making',\n",
       " u'transfer',\n",
       " u'oversight',\n",
       " u'administration',\n",
       " u'administration',\n",
       " u'administration',\n",
       " u'administration',\n",
       " u'restrictions',\n",
       " u'restrictions',\n",
       " u'constitutional',\n",
       " u'selection',\n",
       " u'general',\n",
       " u'limitation',\n",
       " u'selection',\n",
       " u'regulation',\n",
       " u'prevention',\n",
       " u'prevention',\n",
       " u'selection',\n",
       " u'authority',\n",
       " u'regulation',\n",
       " u'pregnancy-related',\n",
       " u'establishment',\n",
       " u'repeal',\n",
       " u'requiring',\n",
       " u'exemption',\n",
       " u'regulation',\n",
       " u'release',\n",
       " u'establishment',\n",
       " u'maternal',\n",
       " u'use',\n",
       " u'use',\n",
       " u'transportation',\n",
       " u'adjustment',\n",
       " u'extraterritorial',\n",
       " u'appropriation',\n",
       " u'appropriation',\n",
       " u'automatic',\n",
       " u'receipt',\n",
       " u'adoption',\n",
       " u'extraterritorial',\n",
       " u'property',\n",
       " u'limitation',\n",
       " u'exemption',\n",
       " u'exemption',\n",
       " u'prevention',\n",
       " u'applicability',\n",
       " u'applicability',\n",
       " u'applicability',\n",
       " u'transferring',\n",
       " u'supplemental',\n",
       " u'optional',\n",
       " u'school',\n",
       " u'salary',\n",
       " u'cost-of-living',\n",
       " u'cost-of-living',\n",
       " u'cost-of-living',\n",
       " u'number',\n",
       " u'abolition',\n",
       " u'dedicating',\n",
       " u'limitation',\n",
       " u'authorizing',\n",
       " u'prohibited',\n",
       " u'authority',\n",
       " u'limitation',\n",
       " u'early',\n",
       " u'opportunity',\n",
       " u'abolition',\n",
       " u'eligibility',\n",
       " u'eligibility',\n",
       " u'compensation',\n",
       " u'compensation',\n",
       " u'municipal',\n",
       " u'exemption',\n",
       " u'signature',\n",
       " u'signature',\n",
       " u'actions',\n",
       " u'school',\n",
       " u'school',\n",
       " u'school']"
      ]
     },
     "execution_count": 242,
     "metadata": {},
     "output_type": "execute_result"
    }
   ],
   "source": [
    "word_list = [i[0] for i in clean_summary]\n",
    "word_list"
   ]
  },
  {
   "cell_type": "code",
   "execution_count": 245,
   "metadata": {
    "collapsed": false
   },
   "outputs": [
    {
     "data": {
      "text/plain": [
       "[(u'maternal', 7),\n",
       " (u'regulation', 6),\n",
       " (u'public', 5),\n",
       " (u'municipal', 5),\n",
       " (u'reporting', 5),\n",
       " (u'appropriation', 5),\n",
       " (u'limitation', 5),\n",
       " (u'making', 5),\n",
       " (u'administration', 4),\n",
       " (u'school', 4),\n",
       " (u'pregnancy-related', 4),\n",
       " (u'exemption', 4),\n",
       " (u'selection', 3),\n",
       " (u'applicability', 3),\n",
       " (u'cost-of-living', 3),\n",
       " (u'grant', 3),\n",
       " (u'development', 3),\n",
       " (u'membership', 3),\n",
       " (u'repeal', 3),\n",
       " (u'salary', 3),\n",
       " (u'reimbursement', 3),\n",
       " (u'avoiding', 3),\n",
       " (u'prevention', 3),\n",
       " (u'disclosure', 2),\n",
       " (u'prohibiting', 2),\n",
       " (u'extraterritorial', 2),\n",
       " (u'calculation', 2),\n",
       " (u'authority', 2),\n",
       " (u'general', 2),\n",
       " (u'use', 2),\n",
       " (u'transfer', 2),\n",
       " (u'establishment', 2),\n",
       " (u'lobbying', 2),\n",
       " (u'restrictions', 2),\n",
       " (u'eligibility', 2),\n",
       " (u'conflicts', 2),\n",
       " (u'ethics', 2),\n",
       " (u'extension', 2),\n",
       " (u'tree', 2),\n",
       " (u'compensation', 2),\n",
       " (u'abolition', 2),\n",
       " (u'signature', 2),\n",
       " (u'ad', 1),\n",
       " (u'constitutional', 1),\n",
       " (u'receipt', 1),\n",
       " (u'number', 1),\n",
       " (u'dedicating', 1),\n",
       " (u'pregnancy', 1),\n",
       " (u'transportation', 1),\n",
       " (u'adjustment', 1),\n",
       " (u'funding', 1),\n",
       " (u'adoption', 1),\n",
       " (u'requiring', 1),\n",
       " (u'oversight', 1),\n",
       " (u'opportunity', 1),\n",
       " (u'transferring', 1),\n",
       " (u'authorizing', 1),\n",
       " (u'early', 1),\n",
       " (u'prohibited', 1),\n",
       " (u'actions', 1),\n",
       " (u'optional', 1),\n",
       " (u'supplemental', 1),\n",
       " (u'release', 1),\n",
       " (u'property', 1),\n",
       " (u'automatic', 1)]"
      ]
     },
     "execution_count": 245,
     "metadata": {},
     "output_type": "execute_result"
    }
   ],
   "source": [
    "from collections import Counter\n",
    "favs = Counter(word for word in word_list)\n",
    "favs.most_common()"
   ]
  },
  {
   "cell_type": "code",
   "execution_count": 223,
   "metadata": {
    "collapsed": false
   },
   "outputs": [
    {
     "data": {
      "text/plain": [
       "[u'  avoiding the abolishment of certain agencies subject to ',\n",
       " u'  avoiding the abolishment of certain agencies subject to ',\n",
       " u'  avoiding the abolishment of certain agencies subject to ',\n",
       " u'  the repeal of certain riders for the Texas Medical Board ',\n",
       " u'  the repeal of certain riders for the Texas Medical Board ',\n",
       " u'  the funding of certain governmental entities subject to ',\n",
       " u'  ad valorem taxation; authorizing fees.',\n",
       " u'  the calculation of the ad valorem rollback tax rate of a ',\n",
       " u'  the calculation of the ad valorem rollback tax rate of a ',\n",
       " u'  a limitation on increases in the appraised value for ad ',\n",
       " u'  municipal annexation.',\n",
       " u'  a tree planting credit to offset tree mitigation fees ',\n",
       " u'  municipal regulation of the removal of trees on private ',\n",
       " u'  municipal regulation of the removal of trees on private ',\n",
       " u'  a tree planting credit to offset tree mitigation fees ',\n",
       " u'  municipal regulation of the removal of trees or ',\n",
       " u'  maternal health and safety, pregnancy-related deaths, ',\n",
       " u'  maternal health and safety, pregnancy-related deaths, ',\n",
       " u'  maternal health and safety, pregnancy-related deaths, ',\n",
       " u'  maternal morbidity and pregnancy-related deaths.',\n",
       " u'  maternal morbidity and pregnancy-related deaths.',\n",
       " u'  maternal morbidity and pregnancy-related deaths.',\n",
       " u'  pregnancy-related deaths and maternal morbidity, ',\n",
       " u'  pregnancy-related deaths and maternal morbidity, ',\n",
       " u'  pregnancy-related deaths and maternal morbidity, ',\n",
       " u'  general procedures and requirements for ',\n",
       " u'  reporting requirements by certain physicians and health ',\n",
       " u'  reporting requirements by certain physicians and health ',\n",
       " u'  reporting requirements by certain physicians and health ',\n",
       " u'  reporting requirements by certain physicians and health ',\n",
       " u'  reporting requirements by certain physicians and health ',\n",
       " u'  prohibiting certain transactions between a ',\n",
       " u'  prohibiting certain transactions between a ',\n",
       " u'  lobbying by certain former officers of state ',\n",
       " u'  lobbying by certain former officers of state ',\n",
       " u'  the ethics of public servants, including the authority ',\n",
       " u'  the ethics of public servants, including the authority ',\n",
       " u'  the disclosure of gifts by vendors to certain local ',\n",
       " u'  the disclosure of gifts by vendors to certain local ',\n",
       " u'  conflicts of interest of members of state agency ',\n",
       " u'  conflicts of interest of members of state agency ',\n",
       " u'  the making and acceptance of political contributions ',\n",
       " u'  the making and acceptance of political contributions ',\n",
       " u'  an appropriation of money from the economic ',\n",
       " u'  an appropriation of money from the economic ',\n",
       " u'  an appropriation of money from the economic ',\n",
       " u'  the public school finance system.',\n",
       " u'  public school finance, including funding for the ',\n",
       " u'  the public school finance system.',\n",
       " u'  the public school finance system.',\n",
       " u'  the public school finance system.',\n",
       " u'  the extension of additional state aid for tax reduction ',\n",
       " u'  the extension of additional state aid for tax reduction ',\n",
       " u'  a grant program to fund innovative programs for public ',\n",
       " u'  a grant program to fund innovative programs for public ',\n",
       " u'  a grant program to fund innovative programs for public ',\n",
       " u'  the salary paid to certain professional employees of ',\n",
       " u'  the salary paid to certain professional employees of ',\n",
       " u'  reimbursement rates for Medicaid acute care therapy ',\n",
       " u'  reimbursement rates for Medicaid acute care therapy ',\n",
       " u'  reimbursement rates for Medicaid acute care therapy ',\n",
       " u'  the regulation of groundwater.',\n",
       " u'  the regulation of groundwater.',\n",
       " u'  the regulation of groundwater.',\n",
       " u'  the development of brackish groundwater.',\n",
       " u'  the development of brackish groundwater.',\n",
       " u'  the development of brackish groundwater.',\n",
       " u'  the membership of the Maternal Mortality and Morbidity ',\n",
       " u'  the membership of the Maternal Mortality and Morbidity ',\n",
       " u'  the membership of the Maternal Mortality and Morbidity ',\n",
       " u'  pregnancy information on death certificates.',\n",
       " u'  making supplemental appropriations and giving ',\n",
       " u'  the transfer of certain appropriations to the Texas ',\n",
       " u'  making supplemental appropriations and giving ',\n",
       " u'  making supplemental appropriations and giving ',\n",
       " u'  the transfer of certain appropriations to the Texas ',\n",
       " u'  oversight of and requirements applicable to state ',\n",
       " u'  the administration of the ad valorem tax system; ',\n",
       " u'  the administration of the ad valorem tax system; ',\n",
       " u'  the administration of the ad valorem tax system; ',\n",
       " u'  the administration of the ad valorem tax system; ',\n",
       " u'  restrictions on certain contributions by persons ',\n",
       " u'  restrictions on certain contributions by persons ',\n",
       " u'  the constitutional limit on the rate of growth of ',\n",
       " u'  the selection of the board of directors of an appraisal ',\n",
       " u'  general procedures and requirements for ',\n",
       " u'  a limitation on increases in the appraised value of real ',\n",
       " u'  the selection of the chief appraiser of an appraisal ',\n",
       " u'  the regulation of discrimination by political ',\n",
       " u'  the prevention of fraud in the conduct of early voting ',\n",
       " u'  the prevention of fraud in the conduct of early voting ',\n",
       " u'  the selection and administration of an appraisal review ',\n",
       " u'  the authority of a district court to hear and determine ',\n",
       " u'  the regulation of discrimination by school districts.',\n",
       " u'  pregnancy-related deaths and maternal morbidity, ',\n",
       " u'  the establishment of an individualized education plan ',\n",
       " u'  the repeal of certain provisions governing state and ',\n",
       " u'  requiring a school district to reimburse classroom ',\n",
       " u'  an exemption from ad valorem taxation by a school ',\n",
       " u\"  regulation by a property owners' association of certain \",\n",
       " u'  the release of extraterritorial jurisdiction by certain ',\n",
       " u'  the establishment of a tax credit scholarship and ',\n",
       " u'  maternal morbidity and pregnancy-related deaths.',\n",
       " u'  the use of regional mobility authority toll projects by ',\n",
       " u'  the use of regional mobility authority toll projects by ',\n",
       " u'  a transportation allotment credit for school districts ',\n",
       " u'  an adjustment under the foundation school program of ',\n",
       " u'  the extraterritorial jurisdiction of and municipal ',\n",
       " u'  an appropriation of money from the economic ',\n",
       " u'  an appropriation of money from the general revenue fund ',\n",
       " u'  automatic voter registration on issuance or change of a ',\n",
       " u'  the receipt by certain relative caretakers of dependent ',\n",
       " u'  the adoption of the Agreement Among the States to Elect ',\n",
       " u'  the extraterritorial jurisdiction of and municipal ',\n",
       " u\"  a property owner's right to remove a tree or vegetation.\",\n",
       " u'  the limitation on increases in the appraised value of a ',\n",
       " u'  an exemption from ad valorem taxation of the residence ',\n",
       " u'  an exemption from ad valorem taxation of the residence ',\n",
       " u'  the prevention of fraud committed by a person voting ',\n",
       " u'  the applicability of the law governing the provision of ',\n",
       " u'  the applicability of the law governing the provision of ',\n",
       " u'  the applicability of the law governing the provision of ',\n",
       " u'  transferring to the property tax relief fund one-half ',\n",
       " u'  a supplemental appropriation for Teacher Retirement ',\n",
       " u'  an optional fee in lieu of the dedication of parkland as ',\n",
       " u'  school district tax rates, property values, and tax ',\n",
       " u'  the salary paid to classroom teachers employed by ',\n",
       " u'  a cost-of-living adjustment applicable to certain ',\n",
       " u'  a cost-of-living adjustment applicable to certain ',\n",
       " u'  a cost-of-living adjustment applicable to certain ',\n",
       " u'  the number of registered voters of a taxing unit other ',\n",
       " u'  the abolition of school district maintenance and ',\n",
       " u'  dedicating certain state revenue to the purpose of ',\n",
       " u'  the limitation on increases in the appraised value of a ',\n",
       " u'  authorizing the possession, use, cultivation, ',\n",
       " u'  prohibited acts for a physician or applicant for a ',\n",
       " u'  the authority of a property owner to request that notice ',\n",
       " u'  a limitation on increases in the appraised value of real ',\n",
       " u'  early voting by certain persons who are caretakers of ',\n",
       " u'  an opportunity to correct a defect in an early voting ',\n",
       " u'  the abolition of ad valorem taxes and a study of ',\n",
       " u'  the eligibility of land for appraisal for ad valorem tax ',\n",
       " u'  the eligibility of land for appraisal for ad valorem tax ',\n",
       " u'  compensation to be paid to an emergency services ',\n",
       " u'  compensation to be paid to an emergency services ',\n",
       " u'  municipal regulation of property of political ',\n",
       " u'  an exemption from ad valorem taxation of the total ',\n",
       " u'  signature verification on an early voting ballot voted ',\n",
       " u'  signature verification on an early voting ballot voted ',\n",
       " u'  actions by a retailer that constitute engaging in ',\n",
       " u'  a school district assigning a mentor teacher to a new ',\n",
       " u'  a school district assigning a mentor teacher to a new ',\n",
       " u'  a school district assigning a mentor teacher to a new ']"
      ]
     },
     "execution_count": 223,
     "metadata": {},
     "output_type": "execute_result"
    }
   ],
   "source": [
    "\n",
    "words = [w for w in words if not w in stopwords.words(\"english\")]\n",
    "print words"
   ]
  },
  {
   "cell_type": "code",
   "execution_count": 112,
   "metadata": {
    "collapsed": false
   },
   "outputs": [
    {
     "data": {
      "text/plain": [
       "u'85(1) HB 98 - Introduced version - Bill Text td { font-family: Courier, Arial, sans-serif; font-size: 10pt; } table { empty-cells:show; } 85S10371 MK-D By:\\xa0Bernal H.B.\\xa0No.\\xa098 A BILL TO BE ENTITLED AN ACT relating to a school district assigning a mentor teacher to a new classroom teacher. BE IT ENACTED BY THE LEGISLATURE OF THE STATE OF TEXAS: SECTION\\xa01.\\xa0\\xa0Section 21.458, Education Code, is amended by adding Subsections (a-1), (b-1), (f), and (g) and amending Subsections (b) and (d) to read as follows: (a-1) To be assigned as a mentor, a teacher must agree to serve as a mentor teacher for at least two school years. The assignment must begin on the first day of employment of the classroom teacher to whom the mentor teacher is assigned. (b)\\xa0\\xa0The commissioner shall adopt rules necessary to administer this section, including rules concerning the duties and qualifications of a teacher who serves as a mentor and the number of classroom teachers that may be assigned to a mentor .\\xa0\\xa0The rules concerning qualifications must require that to serve as a mentor a teacher must: (1)\\xa0\\xa0complete a research-based mentor and induction training program approved by the commissioner; (2)\\xa0\\xa0complete a mentor training program provided by the district; [ and ] (3)\\xa0\\xa0have at least three complete years of teaching experience with a superior record of assisting students, as a whole, in achieving improvement in student performance ; and (4) demonstrate interpersonal skills, instructional effectiveness, and leadership skills . (b-1) A school district must provide training to mentor teachers and any appropriate district and campus employees who work with the classroom teacher or supervise the classroom teacher. The training must be completed by the mentor teacher and the district and campus employees before the beginning of the school year. The district shall also provide supplemental training to mentor teachers and employees during the school year. The training must include content related to best mentorship practices. (d)\\xa0\\xa0In adopting rules under this section [ Subsection (c) ], the commissioner shall rely on research-based mentoring programs that, through external evaluation, have demonstrated success. (f) A mentor teacher must meet with each classroom teacher assigned to the mentor at least once a week for an individual mentoring session lasting at least 45 minutes, with not less than 12 hours of meeting time each semester. The mentoring sessions must address the following topics: (1) orientation to the context, policies, and practices of the school district; (2)\\xa0\\xa0data-driven instructional practices; (3) specific instructional coaching cycles, including coaching regarding conferences between parents and the classroom teacher; (4)\\xa0\\xa0professional development; and (5)\\xa0\\xa0professional expectations. (g)\\xa0\\xa0A school district must: (1) designate a specific time during the regularly contracted school day for meetings between mentor teachers and classroom teachers assigned to a mentor; and (2) schedule release time or a reduced teaching load for mentor teachers and classroom teachers under this section to facilitate mentoring activities, including classroom observations or participation in supportive coaching. SECTION\\xa02.\\xa0\\xa0Subchapter C, Chapter 42, Education Code, is amended by adding Section 42.161 to read as follows: Sec. 42.161. MENTOR PROGRAM ALLOTMENT.  (a) A school district that has implemented a mentoring program for classroom teachers who have less than two years of teaching experience under Section 21.458 is entitled to an allotment as determined under Subsection (b) to fund the mentoring program and to provide stipends for mentor teachers. (b) The commissioner shall adopt a formula to determine the amount that each district described by Subsection (a) is entitled to. (c) Funding provided to districts under this section may be used only for providing: (1)\\xa0\\xa0mentor teacher stipends; (2) scheduled release time for mentor teachers and the classroom teachers to whom they are assigned for meeting and engaging in mentoring activities; and (3) mentoring support through providers of mentor training. SECTION\\xa03.\\xa0\\xa0Section 21.458(c), Education Code, is repealed. SECTION\\xa04.\\xa0\\xa0This Act applies beginning with the 2018-2019 school year. SECTION\\xa05.\\xa0\\xa0This Act takes effect immediately if it receives a vote of two-thirds of all the members elected to each house, as provided by Section 39, Article III, Texas Constitution.\\xa0\\xa0If this Act does not receive the vote necessary for immediate effect, this Act takes effect on the 91st day after the last day of the legislative session.'"
      ]
     },
     "execution_count": 112,
     "metadata": {},
     "output_type": "execute_result"
    }
   ],
   "source": [
    "pretty_text = soup.get_text(\" \", strip=True)\n",
    "pretty_text"
   ]
  },
  {
   "cell_type": "code",
   "execution_count": 16,
   "metadata": {
    "collapsed": false
   },
   "outputs": [
    {
     "name": "stdout",
     "output_type": "stream",
     "text": [
      "HB00007H\n"
     ]
    }
   ],
   "source": [
    "for k,v in summary_dict.items(): \n",
    "    if summary_dict[k] is None:\n",
    "        print(k) \n"
   ]
  },
  {
   "cell_type": "markdown",
   "metadata": {},
   "source": [
    "# Try Again I guess"
   ]
  },
  {
   "cell_type": "code",
   "execution_count": null,
   "metadata": {
    "collapsed": true
   },
   "outputs": [],
   "source": []
  },
  {
   "cell_type": "code",
   "execution_count": null,
   "metadata": {
    "collapsed": true
   },
   "outputs": [],
   "source": [
    "summary_list = []\n",
    "bill_no_list = []\n",
    "summary_dict = {}\n",
    "for doc_name in glob.glob(local_dir + 'html/*.htm'):\n",
    "    bill_no = doc_name.split('/')[-1].rstrip('.htm')\n",
    "    with open(doc_name) as in_file:\n",
    "        soup = BeautifulSoup(in_file, 'html.parser')\n",
    "        summary = soup.find(text=re.compile('relating'))\n",
    "    summary_list.append(summary)\n",
    "    bill_no_list.append(bill_no)\n",
    "bill_summaries = zip(bill_no_list, summary_list)\n",
    "for bill, summary in bill_summaries:\n",
    "    summary_dict[bill] = summary\n",
    "print(summary_dict)"
   ]
  },
  {
   "cell_type": "code",
   "execution_count": 77,
   "metadata": {
    "collapsed": true
   },
   "outputs": [],
   "source": [
    "def solution(S):\n",
    "    sentences_list = re.split(r'[.!?]', S)\n",
    "    wc_list = []\n",
    "    for sentence in sentences_list:\n",
    "        x = sentence.strip()\n",
    "        words = re.split('\\s', x)\n",
    "        wc_list.append(words)\n",
    "    return wc_list\n",
    "# solution(S)"
   ]
  },
  {
   "cell_type": "code",
   "execution_count": null,
   "metadata": {
    "collapsed": true
   },
   "outputs": [],
   "source": [
    "# with open('/Users/rhaggerty/remote/bills/tx/data/text/HB00077I.txt') as in_file:\n",
    "#     text = re.compile('^relating')\n",
    "#     print(text)\n",
    "# pattern = re.compile('relating')\n",
    "# for i, line in enumerate(open('/Users/rhaggerty/remote/bills/tx/data/text/HB00077I.txt')):\n",
    "# #     for match in re.finditer(pattern, line):\n",
    "# #         print(i, line)\n",
    "#     print(line)\n",
    "        \n",
    "# for line in open('/Users/rhaggerty/remote/bills/tx/data/text/HB00077I.txt'):\n",
    "# #     for match in re.finditer(pattern, line):\n",
    "# #         print(i, line)\n",
    "#     sentences_list = re.split(r'[.!?]', line)\n",
    "#     for sentence in sentences_list:\n",
    "#         print(sentence + '\\n')     \n",
    "        \n",
    "        \n",
    "# doc_name = '/Users/rhaggerty/remote/bills/tx/data/html/HB00098I.htm'\n",
    "# output_dir = './tx/data/text/'\n",
    "# # prettify_soup(doc_name)\n",
    "\n",
    "# with open(doc_name, 'rt') as in_file:\n",
    "#     soup = BeautifulSoup(in_file, 'html.parser')\n",
    "#     pretty_text = soup.get_text(' ', strip=True)\n",
    "# #     twopretty = pretty_text.encode('utf8')\n",
    "# #     pretty_text\n",
    "#     with open(output_dir + bill_no + '.txt', 'w+', encoding='utf-8') as out_file:\n",
    "#         out_file.write(pretty_text)"
   ]
  },
  {
   "cell_type": "code",
   "execution_count": 102,
   "metadata": {
    "collapsed": false
   },
   "outputs": [
    {
     "name": "stdout",
     "output_type": "stream",
     "text": [
      "85(1) HB 98 - Introduced version - Bill Text td { font-family: Courier, Arial, sans-serif; font-size: 10pt; } table { empty-cells:show; } 85S10371 MK-D By: Bernal H.B. No. 98 A BILL TO BE ENTITLED AN ACT relating to a school district assigning a mentor teacher to a new classroom teacher. BE IT ENACTED BY THE LEGISLATURE OF THE STATE OF TEXAS: SECTION 1.  Section 21.458, Education Code, is amended by adding Subsections (a-1), (b-1), (f), and (g) and amending Subsections (b) and (d) to read as follows: (a-1) To be assigned as a mentor, a teacher must agree to serve as a mentor teacher for at least two school years. The assignment must begin on the first day of employment of the classroom teacher to whom the mentor teacher is assigned. (b)  The commissioner shall adopt rules necessary to administer this section, including rules concerning the duties and qualifications of a teacher who serves as a mentor and the number of classroom teachers that may be assigned to a mentor .  The rules concerning qualifications must require that to serve as a mentor a teacher must: (1)  complete a research-based mentor and induction training program approved by the commissioner; (2)  complete a mentor training program provided by the district; [ and ] (3)  have at least three complete years of teaching experience with a superior record of assisting students, as a whole, in achieving improvement in student performance ; and (4) demonstrate interpersonal skills, instructional effectiveness, and leadership skills . (b-1) A school district must provide training to mentor teachers and any appropriate district and campus employees who work with the classroom teacher or supervise the classroom teacher. The training must be completed by the mentor teacher and the district and campus employees before the beginning of the school year. The district shall also provide supplemental training to mentor teachers and employees during the school year. The training must include content related to best mentorship practices. (d)  In adopting rules under this section [ Subsection (c) ], the commissioner shall rely on research-based mentoring programs that, through external evaluation, have demonstrated success. (f) A mentor teacher must meet with each classroom teacher assigned to the mentor at least once a week for an individual mentoring session lasting at least 45 minutes, with not less than 12 hours of meeting time each semester. The mentoring sessions must address the following topics: (1) orientation to the context, policies, and practices of the school district; (2)  data-driven instructional practices; (3) specific instructional coaching cycles, including coaching regarding conferences between parents and the classroom teacher; (4)  professional development; and (5)  professional expectations. (g)  A school district must: (1) designate a specific time during the regularly contracted school day for meetings between mentor teachers and classroom teachers assigned to a mentor; and (2) schedule release time or a reduced teaching load for mentor teachers and classroom teachers under this section to facilitate mentoring activities, including classroom observations or participation in supportive coaching. SECTION 2.  Subchapter C, Chapter 42, Education Code, is amended by adding Section 42.161 to read as follows: Sec. 42.161. MENTOR PROGRAM ALLOTMENT.  (a) A school district that has implemented a mentoring program for classroom teachers who have less than two years of teaching experience under Section 21.458 is entitled to an allotment as determined under Subsection (b) to fund the mentoring program and to provide stipends for mentor teachers. (b) The commissioner shall adopt a formula to determine the amount that each district described by Subsection (a) is entitled to. (c) Funding provided to districts under this section may be used only for providing: (1)  mentor teacher stipends; (2) scheduled release time for mentor teachers and the classroom teachers to whom they are assigned for meeting and engaging in mentoring activities; and (3) mentoring support through providers of mentor training. SECTION 3.  Section 21.458(c), Education Code, is repealed. SECTION 4.  This Act applies beginning with the 2018-2019 school year. SECTION 5.  This Act takes effect immediately if it receives a vote of two-thirds of all the members elected to each house, as provided by Section 39, Article III, Texas Constitution.  If this Act does not receive the vote necessary for immediate effect, this Act takes effect on the 91st day after the last day of the legislative session.\n"
     ]
    }
   ],
   "source": [
    "# with open('/Users/rhaggerty/remote/bills/tx/data/text/HB00394I.txt') as in_file:\n",
    "#         print(str(in_file))\n",
    "        \n",
    "        \n",
    "days_file = open('/Users/rhaggerty/remote/bills/tx/data/text/HB00394I.txt','rt')\n",
    "thing = days_file.read()\n",
    "print(thing)"
   ]
  },
  {
   "cell_type": "code",
   "execution_count": 104,
   "metadata": {
    "collapsed": false
   },
   "outputs": [],
   "source": [
    "sentences_list = tokenize.sent_tokenize(thing)\n",
    "sentences_list[2]"
   ]
  },
  {
   "cell_type": "code",
   "execution_count": 107,
   "metadata": {
    "collapsed": false
   },
   "outputs": [
    {
     "data": {
      "text/plain": [
       "u'98 A BILL TO BE ENTITLED AN ACT relating to a school district assigning a mentor teacher to a new classroom teacher.'"
      ]
     },
     "execution_count": 107,
     "metadata": {},
     "output_type": "execute_result"
    }
   ],
   "source": [
    "sentences_list[2]"
   ]
  },
  {
   "cell_type": "code",
   "execution_count": 16,
   "metadata": {
    "collapsed": false
   },
   "outputs": [
    {
     "name": "stdout",
     "output_type": "stream",
     "text": [
      "HB00001E\n",
      "HB00001H\n",
      "HB00001I\n",
      "HB00002E\n",
      "HB00002H\n",
      "HB00002I\n",
      "HB00003I\n",
      "HB00004H\n",
      "HB00004I\n",
      "HB00005I\n",
      "HB00006I\n",
      "HB00007E\n",
      "HB00007F\n",
      "HB00007H\n",
      "HB00007I\n",
      "HB00007S\n",
      "HB00009E\n",
      "HB00009H\n",
      "HB00009I\n",
      "HB00010E\n",
      "HB00010H\n",
      "HB00010I\n",
      "HB00011E\n",
      "HB00011H\n",
      "HB00011I\n",
      "HB00012I\n",
      "HB00013E\n",
      "HB00013F\n",
      "HB00013H\n",
      "HB00013I\n",
      "HB00013S\n",
      "HB00014H\n",
      "HB00014I\n",
      "HB00015H\n",
      "HB00015I\n",
      "HB00016H\n",
      "HB00016I\n",
      "HB00017H\n",
      "HB00017I\n",
      "HB00018H\n",
      "HB00018I\n",
      "HB00019H\n",
      "HB00019I\n",
      "HB00020E\n",
      "HB00020H\n",
      "HB00020I\n",
      "HB00021E\n",
      "HB00021F\n",
      "HB00021H\n",
      "HB00021I\n",
      "HB00021S\n",
      "HB00022H\n",
      "HB00022I\n",
      "HB00023E\n",
      "HB00023H\n",
      "HB00023I\n",
      "HB00024H\n",
      "HB00024I\n",
      "HB00025E\n",
      "HB00025H\n",
      "HB00025I\n",
      "HB00026E\n",
      "HB00026H\n",
      "HB00026I\n",
      "HB00027E\n",
      "HB00027H\n",
      "HB00027I\n",
      "HB00028E\n",
      "HB00028H\n",
      "HB00028I\n",
      "HB00029I\n",
      "HB00030E\n",
      "HB00030F\n",
      "HB00030H\n",
      "HB00030I\n",
      "HB00030S\n",
      "HB00031I\n",
      "HB00032E\n",
      "HB00032H\n",
      "HB00032I\n",
      "HB00032S\n",
      "HB00033H\n",
      "HB00033I\n",
      "HB00041I\n",
      "HB00042I\n",
      "HB00043I\n",
      "HB00044I\n",
      "HB00045I\n",
      "HB00046I\n",
      "HB00047H\n",
      "HB00047I\n",
      "HB00048I\n",
      "HB00049I\n",
      "HB00050I\n",
      "HB00051I\n",
      "HB00052I\n",
      "HB00053I\n",
      "HB00054I\n",
      "HB00055I\n",
      "HB00056I\n",
      "HB00057I\n",
      "HB00058I\n",
      "HB00059I\n",
      "HB00060H\n",
      "HB00060I\n",
      "HB00061I\n",
      "HB00062I\n",
      "HB00063I\n",
      "HB00064I\n",
      "HB00065I\n",
      "HB00066I\n",
      "HB00067I\n",
      "HB00068I\n",
      "HB00069I\n",
      "HB00070I\n",
      "HB00071I\n",
      "HB00072H\n",
      "HB00072I\n",
      "HB00073I\n",
      "HB00074E\n",
      "HB00074H\n",
      "HB00074I\n",
      "HB00075I\n",
      "HB00076I\n",
      "HB00077I\n",
      "HB00078I\n",
      "HB00079I\n",
      "HB00080E\n",
      "HB00080H\n",
      "HB00080I\n",
      "HB00081I\n",
      "HB00082I\n",
      "HB00083I\n",
      "HB00084I\n",
      "HB00085I\n",
      "HB00086I\n",
      "HB00087I\n",
      "HB00088I\n",
      "HB00089I\n",
      "HB00090I\n",
      "HB00091I\n",
      "HB00092H\n",
      "HB00092I\n",
      "HB00093H\n",
      "HB00093I\n",
      "HB00094I\n",
      "HB00095I\n",
      "HB00096H\n",
      "HB00096I\n",
      "HB00097I\n",
      "HB00098H\n",
      "HB00098I\n"
     ]
    }
   ],
   "source": [
    "local_dir = '/Users/rhaggerty/remote/bills/tx/data/'\n",
    "for doc_name in glob.glob(local_dir + 'text/*.txt'):\n",
    "    bill_no = doc_name.split('/')[-1].rstrip('.txt')\n",
    "    with open(doc_name) as in_file:\n",
    "        text=re.compile('^relating.*\\.')\n",
    "        print(text)"
   ]
  },
  {
   "cell_type": "code",
   "execution_count": 37,
   "metadata": {
    "collapsed": false
   },
   "outputs": [],
   "source": [
    "train = load_files(\"data/\")"
   ]
  },
  {
   "cell_type": "code",
   "execution_count": 38,
   "metadata": {
    "collapsed": false
   },
   "outputs": [
    {
     "data": {
      "text/plain": [
       "array([], dtype=float64)"
      ]
     },
     "execution_count": 38,
     "metadata": {},
     "output_type": "execute_result"
    }
   ],
   "source": [
    "train.filenames"
   ]
  },
  {
   "cell_type": "code",
   "execution_count": 39,
   "metadata": {
    "collapsed": false
   },
   "outputs": [
    {
     "data": {
      "text/plain": [
       "{'DESCR': None,\n",
       " 'data': [],\n",
       " 'filenames': array([], dtype=float64),\n",
       " 'target': array([], dtype=float64),\n",
       " 'target_names': []}"
      ]
     },
     "execution_count": 39,
     "metadata": {},
     "output_type": "execute_result"
    }
   ],
   "source": [
    "train"
   ]
  },
  {
   "cell_type": "code",
   "execution_count": null,
   "metadata": {
    "collapsed": true
   },
   "outputs": [],
   "source": [
    "print(\"\\n\".join(train.data[0].split(\"\\n\")[:3]))"
   ]
  },
  {
   "cell_type": "code",
   "execution_count": null,
   "metadata": {
    "collapsed": true
   },
   "outputs": [],
   "source": [
    "print(train.target_names[train.target[0]])"
   ]
  },
  {
   "cell_type": "code",
   "execution_count": 10,
   "metadata": {
    "collapsed": true
   },
   "outputs": [],
   "source": [
    "import pdb"
   ]
  },
  {
   "cell_type": "code",
   "execution_count": 11,
   "metadata": {
    "collapsed": true
   },
   "outputs": [],
   "source": [
    "def debug(text, context=\"\"):\n",
    "#     \"\"\"Debug.\"\"\"\n",
    "    if DEBUG_ENABLED:\n",
    "        print '[toggle_single_line_css]:' + text\n",
    "    if PRINT_CONTEXT and context != \"\":\n",
    "        print '>>> ' + context\n",
    "#     pass"
   ]
  },
  {
   "cell_type": "code",
   "execution_count": 12,
   "metadata": {
    "collapsed": false
   },
   "outputs": [
    {
     "ename": "NameError",
     "evalue": "global name 'DEBUG_ENABLED' is not defined",
     "output_type": "error",
     "traceback": [
      "\u001b[0;31m---------------------------------------------------------------------------\u001b[0m",
      "\u001b[0;31mNameError\u001b[0m                                 Traceback (most recent call last)",
      "\u001b[0;32m<ipython-input-12-b8aad7647a87>\u001b[0m in \u001b[0;36m<module>\u001b[0;34m()\u001b[0m\n\u001b[0;32m----> 1\u001b[0;31m \u001b[0mdebug\u001b[0m\u001b[0;34m(\u001b[0m\u001b[0;34m'blah'\u001b[0m\u001b[0;34m,\u001b[0m \u001b[0mcontext\u001b[0m\u001b[0;34m=\u001b[0m\u001b[0;34m\"\"\u001b[0m\u001b[0;34m)\u001b[0m\u001b[0;34m\u001b[0m\u001b[0m\n\u001b[0m",
      "\u001b[0;32m<ipython-input-11-4e7a1712a207>\u001b[0m in \u001b[0;36mdebug\u001b[0;34m(text, context)\u001b[0m\n\u001b[1;32m      1\u001b[0m \u001b[0;32mdef\u001b[0m \u001b[0mdebug\u001b[0m\u001b[0;34m(\u001b[0m\u001b[0mtext\u001b[0m\u001b[0;34m,\u001b[0m \u001b[0mcontext\u001b[0m\u001b[0;34m=\u001b[0m\u001b[0;34m\"\"\u001b[0m\u001b[0;34m)\u001b[0m\u001b[0;34m:\u001b[0m\u001b[0;34m\u001b[0m\u001b[0m\n\u001b[1;32m      2\u001b[0m \u001b[0;31m#     \"\"\"Debug.\"\"\"\u001b[0m\u001b[0;34m\u001b[0m\u001b[0;34m\u001b[0m\u001b[0m\n\u001b[0;32m----> 3\u001b[0;31m     \u001b[0;32mif\u001b[0m \u001b[0mDEBUG_ENABLED\u001b[0m\u001b[0;34m:\u001b[0m\u001b[0;34m\u001b[0m\u001b[0m\n\u001b[0m\u001b[1;32m      4\u001b[0m         \u001b[0;32mprint\u001b[0m \u001b[0;34m'[toggle_single_line_css]:'\u001b[0m \u001b[0;34m+\u001b[0m \u001b[0mtext\u001b[0m\u001b[0;34m\u001b[0m\u001b[0m\n\u001b[1;32m      5\u001b[0m     \u001b[0;32mif\u001b[0m \u001b[0mPRINT_CONTEXT\u001b[0m \u001b[0;32mand\u001b[0m \u001b[0mcontext\u001b[0m \u001b[0;34m!=\u001b[0m \u001b[0;34m\"\"\u001b[0m\u001b[0;34m:\u001b[0m\u001b[0;34m\u001b[0m\u001b[0m\n",
      "\u001b[0;31mNameError\u001b[0m: global name 'DEBUG_ENABLED' is not defined"
     ]
    }
   ],
   "source": [
    "debug('blah', context=\"\")"
   ]
  },
  {
   "cell_type": "code",
   "execution_count": null,
   "metadata": {
    "collapsed": true
   },
   "outputs": [],
   "source": []
  }
 ],
 "metadata": {
  "kernelspec": {
   "display_name": "Python 2",
   "language": "python",
   "name": "python2"
  },
  "language_info": {
   "codemirror_mode": {
    "name": "ipython",
    "version": 2
   },
   "file_extension": ".py",
   "mimetype": "text/x-python",
   "name": "python",
   "nbconvert_exporter": "python",
   "pygments_lexer": "ipython2",
   "version": "2.7.11"
  }
 },
 "nbformat": 4,
 "nbformat_minor": 0
}
